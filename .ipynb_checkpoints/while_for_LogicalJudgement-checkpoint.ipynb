{
 "cells": [
  {
   "cell_type": "markdown",
   "metadata": {},
   "source": [
    "# 【Python学习分享文章】_while_for_logicalJudgement介绍及基本操作"
   ]
  },
  {
   "cell_type": "markdown",
   "metadata": {},
   "source": [
    "## 综述\n",
    "\n",
    "### ```while```\n",
    "\n",
    "当判断条件为 ```True``` 时，一直循环执行语句内容，直到判断为 ```False``` 时停止运行。\n",
    "\n",
    "### ```for```\n",
    "\n",
    "一般用作“历遍”序列所有“元素”的用途。"
   ]
  },
  {
   "cell_type": "markdown",
   "metadata": {},
   "source": [
    "## ```while```\n",
    "\n",
    "基本核心语法框架：\n",
    "```\n",
    "while 判断表达式：\n",
    "    执行的代码、进行的操作\n",
    "```\n",
    "翻译成中文的意思就是：\n",
    "```\n",
    "当 后面条件是为真：\n",
    "    则一直/循环执行这里面的 code，直到判断为 False 时，这一块停止运行，开始运行后面的代码\n",
    "```"
   ]
  },
  {
   "cell_type": "markdown",
   "metadata": {},
   "source": [
    "## 例子\n",
    "\n",
    "### 例子1：\n",
    "\n",
    "**【重点！】：**判断是够相等，不是数学里面的“=”（计算机里面是“赋值”的意思），而是“==”，因为不能用“=”了的缘故，别问为什么，记住就好。"
   ]
  },
  {
   "cell_type": "markdown",
   "metadata": {},
   "source": [
    "---"
   ]
  },
  {
   "cell_type": "markdown",
   "metadata": {},
   "source": [
    "## ```for```\n",
    "\n",
    "基本核心语法框架：\n",
    "```\n",
    "for 单个数据的临时变量名字（尽量有意义） in 迭代的数据集：\n",
    "    执行的代码、进行的操作\n",
    "```\n",
    "翻译成中文的意思就是：\n",
    "```\n",
    "从头往后 依次选取出 数据集 里面的每一个数据，赋值给临时变量：\n",
    "    执行这里面的代码；\n",
    "    对于一个数据，执行完后，下一个数据也完整执行这里面的所有代码；\n",
    "    当每一个数据都执行完后，结束 for 语句\n",
    "```"
   ]
  },
  {
   "cell_type": "markdown",
   "metadata": {},
   "source": []
  },
  {
   "cell_type": "markdown",
   "metadata": {},
   "source": [
    "---\n",
    "注：  \n",
    "个人微信公众号：codeAndWrite"
   ]
  }
 ],
 "metadata": {
  "kernelspec": {
   "display_name": "Python 3",
   "language": "python",
   "name": "python3"
  },
  "language_info": {
   "codemirror_mode": {
    "name": "ipython",
    "version": 3
   },
   "file_extension": ".py",
   "mimetype": "text/x-python",
   "name": "python",
   "nbconvert_exporter": "python",
   "pygments_lexer": "ipython3",
   "version": "3.5.5"
  }
 },
 "nbformat": 4,
 "nbformat_minor": 2
}
