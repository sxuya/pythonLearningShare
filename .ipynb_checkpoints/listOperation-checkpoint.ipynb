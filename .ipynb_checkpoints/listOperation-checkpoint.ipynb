{
 "cells": [
  {
   "cell_type": "markdown",
   "metadata": {},
   "source": [
    "# 【Python学习分享文章】_list(列表)介绍及基本操作"
   ]
  },
  {
   "cell_type": "markdown",
   "metadata": {},
   "source": [
    "## 综述\n",
    "\n",
    "列表相比 tuple（元组），数据集里面的数据可以修改（增加、删除等）。"
   ]
  },
  {
   "cell_type": "markdown",
   "metadata": {},
   "source": [
    "## - 创建一个列表"
   ]
  },
  {
   "cell_type": "code",
   "execution_count": 1,
   "metadata": {},
   "outputs": [
    {
     "name": "stdout",
     "output_type": "stream",
     "text": [
      "['abc', 'xyz', '123', '10086']\n"
     ]
    }
   ],
   "source": [
    "a_list = ['abc', 'xyz', '123', '10086'] # 字符串的 list，还可以是数字类型的 list\n",
    "print(a_list)\n",
    "# 结果如下："
   ]
  },
  {
   "cell_type": "markdown",
   "metadata": {},
   "source": [
    "## - 增加数据  \n",
    "方法 ```.append()``` ,数据增加至尾部。例子："
   ]
  },
  {
   "cell_type": "code",
   "execution_count": 2,
   "metadata": {},
   "outputs": [
    {
     "name": "stdout",
     "output_type": "stream",
     "text": [
      "['abc', 'xyz', '123', '10086', 'opq']\n"
     ]
    }
   ],
   "source": [
    "a_list.append('opq')\n",
    "print(a_list)\n",
    "# 结果如下："
   ]
  },
  {
   "cell_type": "markdown",
   "metadata": {},
   "source": [
    "## - 移除数据\n",
    "方法 ```.remove()```。"
   ]
  },
  {
   "cell_type": "markdown",
   "metadata": {},
   "source": [
    "### 1. 按照数据本身\n",
    "使用 ```.remove()``` ,括号内容为“列表存在数据”。"
   ]
  },
  {
   "cell_type": "code",
   "execution_count": 3,
   "metadata": {},
   "outputs": [
    {
     "name": "stdout",
     "output_type": "stream",
     "text": [
      "['abc', 'xyz', '10086', 'opq']\n"
     ]
    }
   ],
   "source": [
    "a_list.remove('123')\n",
    "print(a_list)\n",
    "# the result is:"
   ]
  },
  {
   "cell_type": "markdown",
   "metadata": {},
   "source": [
    "### 2. 按照位置\n",
    "使用 ```.pop()``` ，括号内容为“数据的下标数字”,被 ```.pop()``` 位置的数据如果没有“被承接”，就消失了。"
   ]
  },
  {
   "cell_type": "code",
   "execution_count": 4,
   "metadata": {},
   "outputs": [
    {
     "name": "stdout",
     "output_type": "stream",
     "text": [
      "xyz\n",
      "['abc', '10086', 'opq']\n"
     ]
    }
   ],
   "source": [
    "temp = a_list.pop(1) # 此处被 pop 的下标为 1 位置的 ‘xyz’ 被 temp 承接\n",
    "print(temp)\n",
    "print(a_list)\n",
    "# the result is:"
   ]
  },
  {
   "cell_type": "markdown",
   "metadata": {},
   "source": [
    "## - 基本操作"
   ]
  },
  {
   "cell_type": "markdown",
   "metadata": {},
   "source": [
    "### 1. 关系判断。\n",
    "```in``` ， ```not in```。用法同 tuple（元组）一样。\n",
    "### 2. 连接操作\n",
    "```+``` 。用法同 tuple（元组）一样。\n",
    "### 3. 重复处理\n",
    "```*``` 。用法同 tuple（元组）一样。\n",
    "### 4. 提取（摘取）数据（切片操作）\n",
    "```[:]``` ，用法同 tuple（元组）一样。"
   ]
  },
  {
   "cell_type": "markdown",
   "metadata": {},
   "source": [
    "---\n",
    "注：  \n",
    "个人微信公众号：codeAndWrite"
   ]
  }
 ],
 "metadata": {
  "kernelspec": {
   "display_name": "Python 3",
   "language": "python",
   "name": "python3"
  },
  "language_info": {
   "codemirror_mode": {
    "name": "ipython",
    "version": 3
   },
   "file_extension": ".py",
   "mimetype": "text/x-python",
   "name": "python",
   "nbconvert_exporter": "python",
   "pygments_lexer": "ipython3",
   "version": "3.5.5"
  }
 },
 "nbformat": 4,
 "nbformat_minor": 2
}
