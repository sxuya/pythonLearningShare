{
 "cells": [
  {
   "cell_type": "markdown",
   "metadata": {},
   "source": [
    "# 22.【Python学习分享文章】_build-in function（内建函数）"
   ]
  },
  {
   "cell_type": "markdown",
   "metadata": {},
   "source": [
    "## 综述\n",
    "\n",
    "### - 主体\n",
    "\n",
    "主要介绍四个 build-in functions，分别是：\n",
    "1. filter()\n",
    "2. map()\n",
    "3. reduce()\n",
    "4. zip()\n",
    "\n",
    "#### - 主要作用\n",
    "\n",
    "对下面的数据处理：\n",
    "1. 合并\n",
    "2. 累加工作\n",
    "3. 等等\n",
    "\n",
    "会使用到这几个函数。"
   ]
  },
  {
   "cell_type": "markdown",
   "metadata": {},
   "source": [
    "## filter()\n",
    "\n",
    "### - 个人理解\n",
    "\n",
    "filter 的意思是筛选，主要就是“根据自己建立的规则，去筛选数据”。\n",
    "\n",
    "一个朴素的类比：\n",
    "1. “原始数据”就是“原料沙石”；\n",
    "2. “处理规则”就是“筛眼大小”；\n",
    "3. “处理后数据”就是“细分的沙石”。"
   ]
  },
  {
   "cell_type": "markdown",
   "metadata": {},
   "source": [
    "## map()"
   ]
  },
  {
   "cell_type": "markdown",
   "metadata": {},
   "source": [
    "## reduce()"
   ]
  },
  {
   "cell_type": "markdown",
   "metadata": {},
   "source": [
    "## zip()"
   ]
  },
  {
   "cell_type": "markdown",
   "metadata": {},
   "source": [
    "---\n",
    "注：  \n",
    "个人微信公众号：codeAndWrite"
   ]
  }
 ],
 "metadata": {
  "kernelspec": {
   "display_name": "Python 3",
   "language": "python",
   "name": "python3"
  },
  "language_info": {
   "codemirror_mode": {
    "name": "ipython",
    "version": 3
   },
   "file_extension": ".py",
   "mimetype": "text/x-python",
   "name": "python",
   "nbconvert_exporter": "python",
   "pygments_lexer": "ipython3",
   "version": "3.5.5"
  }
 },
 "nbformat": 4,
 "nbformat_minor": 2
}
