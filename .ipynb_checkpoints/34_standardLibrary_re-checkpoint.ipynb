{
 "cells": [
  {
   "cell_type": "markdown",
   "metadata": {},
   "source": [
    "# 34.【Python学习分享文章】\\_standardLibrary_标准库"
   ]
  },
  {
   "cell_type": "markdown",
   "metadata": {},
   "source": [
    "## 综述\n",
    "\n",
    "Python 的库十分丰富。\n",
    "\n",
    "其中最重要的是标准库，内容是核心、基础，之前的文章介绍的内容基本就是 standard library 的部分内容。\n",
    "\n",
    "网址是：  \n",
    "https://docs.python.org/3/library/index.html"
   ]
  },
  {
   "cell_type": "markdown",
   "metadata": {},
   "source": [
    "## 核心内容\n",
    "\n",
    "- 内建函数 Built-in Functions\n",
    "- 内建类型 Built-in Tpyes\n",
    "- 6.Text Processing Services 文本处理\n",
    "- 8.Data Types 日期、时间的处理\n",
    "- 16.Generic Operationg System Services 通用操作系统处理\n",
    "- 19.Internet Data Handing 网络数据处理\n",
    "- 26.Development Tools 开发工具\n",
    "- 27.Debugging and Profiling 调试工具"
   ]
  },
  {
   "cell_type": "markdown",
   "metadata": {},
   "source": [
    "## re（正则表达式）\n",
    "\n",
    "### - 综述\n",
    "\n",
    "6.Text Processing Services 里面的一个子库、子方法。  \n",
    "链接如下：  \n",
    "https://docs.python.org/3/library/re.html  \n",
    "详细内容**还是**要看官方的文档。\n",
    "\n",
    "re，regular expression 的缩写。不用官方的名字“正则表达式”，实在是让人不明所以，这是谁想出来的定义名字呢？（我认为知识最大的功能是有效地传递知识，哦，不，是传递思想，因此，表达要简要，更重要的是明了，没有很多人知道的“知识”，最后都会消失。这点就是尤其讨厌中国以前的独家秘笈、传男不传女而导致有效技能、工艺的丧失，金钱是生不带来、死不带去，脑袋里面知识也是一样的道理呀，你留着、埋葬着，有什么用呢？起码死前要留下点什么吧？）\n",
    "\n",
    "按照英文直译，应该说是**“有规律的表达方法”**、**“有规则的表达形式”**等等，主要的目的是把现在网络上**“冗余、复杂、繁杂的文本信息”**，按照**一定的规则、规律进行匹配**，比如“\\*”代表是重复的规则，那么“A\\*”就是代表“无论多少个A重复的一段文本（string）”的一个表达、书写规则，可以代替“A”、“AA”、“AAA”、“AAAA”或者“AAAAA”等等。其他还有很多很多其他的规则，就是详细介绍的内容了。\n",
    "\n",
    "主要的**目的**或者**作用**，是为了进行文本的匹配，最直接的例子就是**搜索引擎**的搜索信息的匹配需要使用这个技术。"
   ]
  },
  {
   "cell_type": "markdown",
   "metadata": {},
   "source": [
    "### - demo_1\n",
    "\n",
    "纯介绍简单功能，没有实际价值，了解即可，看过即可忽略。"
   ]
  },
  {
   "cell_type": "code",
   "execution_count": 2,
   "metadata": {},
   "outputs": [
    {
     "data": {
      "text/plain": [
       "<_sre.SRE_Match object; span=(0, 1), match='a'>"
      ]
     },
     "execution_count": 2,
     "metadata": {},
     "output_type": "execute_result"
    }
   ],
   "source": [
    "import re\n",
    "\n",
    "p = re.compile('a')  # 要匹配的 string、要寻找的 string\n",
    "p.match('a')  # .match() 就是被匹配的 string、匹配的范围\n",
    "# 只能 match 一次，……不知如何多次输出，那就傻傻地用其他方法吧"
   ]
  },
  {
   "cell_type": "code",
   "execution_count": 10,
   "metadata": {},
   "outputs": [
    {
     "name": "stdout",
     "output_type": "stream",
     "text": [
      "<_sre.SRE_Match object; span=(0, 1), match='a'>\n"
     ]
    }
   ],
   "source": [
    "p_2 = re.compile('a')\n",
    "print(p_2.match('abc'))  # 下面的展示稍稍有些区别"
   ]
  },
  {
   "cell_type": "code",
   "execution_count": 8,
   "metadata": {},
   "outputs": [
    {
     "name": "stdout",
     "output_type": "stream",
     "text": [
      "None\n"
     ]
    }
   ],
   "source": [
    "p_3 = re.compile('a')\n",
    "print(p_3.match('baaa'))"
   ]
  },
  {
   "cell_type": "markdown",
   "metadata": {},
   "source": [
    "### - demo\\_2\\_匹配相同、重复字符\n",
    "\n",
    "【目标】：  \n",
    "匹配“google”、“gogle”、“gooogle”、“goooogle”等等这样可能输入错误导致的字符，但是意思我们可以明白：都是要找“google”这个正确的 string。\n",
    "\n",
    "【解释】：  \n",
    "1. 那么，使用“固定字符”（确定的字符）是无法解决这个问题，因为我们也不知道用户到底输入错误成什么样子，到底输入了多少个“o”。\n",
    "2. 这种重复的字符，比如本 demo 里面所涉及的“o”叫做“**元字符**”（元，就是起始的意思嘛，都是从第一个字符起始重复的嘛）。\n",
    "\n",
    "【demo_2-1】：单纯可匹配"
   ]
  },
  {
   "cell_type": "code",
   "execution_count": 11,
   "metadata": {},
   "outputs": [
    {
     "data": {
      "text/plain": [
       "<_sre.SRE_Match object; span=(0, 6), match='google'>"
      ]
     },
     "execution_count": 11,
     "metadata": {},
     "output_type": "execute_result"
    }
   ],
   "source": [
    "import re\n",
    "\n",
    "p = re.compile('google')\n",
    "p.match('google')"
   ]
  },
  {
   "cell_type": "markdown",
   "metadata": {},
   "source": [
    "【demo_2-2】：单纯不可匹配"
   ]
  },
  {
   "cell_type": "code",
   "execution_count": 14,
   "metadata": {},
   "outputs": [
    {
     "name": "stdout",
     "output_type": "stream",
     "text": [
      "None\n"
     ]
    }
   ],
   "source": [
    "print(p.match('goooogle'))"
   ]
  },
  {
   "cell_type": "markdown",
   "metadata": {},
   "source": [
    "【demo_2-3】：正则表达式法可匹配"
   ]
  },
  {
   "cell_type": "code",
   "execution_count": 15,
   "metadata": {},
   "outputs": [
    {
     "data": {
      "text/plain": [
       "<_sre.SRE_Match object; span=(0, 13), match='gooooooooogle'>"
      ]
     },
     "execution_count": 15,
     "metadata": {},
     "output_type": "execute_result"
    }
   ],
   "source": [
    "p = re.compile('go*gle')\n",
    "p.match('gooooooooogle')"
   ]
  },
  {
   "cell_type": "markdown",
   "metadata": {},
   "source": [
    "【解释】：  \n",
    "“o”后面加上“*”这个特殊字符，代表的是正则表达式“重复”的规则，无论重复多少次，只要是重复，就可以一直判定正确下去。"
   ]
  },
  {
   "cell_type": "markdown",
   "metadata": {},
   "source": [
    "## 总结\n",
    "\n",
    "上面是是为了引入、介绍“正则表达”的概念、作用、方法，具体的、详细的内容、方法在下面一篇文章里面介绍"
   ]
  },
  {
   "cell_type": "markdown",
   "metadata": {},
   "source": [
    "---\n",
    "注：  \n",
    "个人微信公众号：codeAndWrite"
   ]
  }
 ],
 "metadata": {
  "kernelspec": {
   "display_name": "Python 3",
   "language": "python",
   "name": "python3"
  },
  "language_info": {
   "codemirror_mode": {
    "name": "ipython",
    "version": 3
   },
   "file_extension": ".py",
   "mimetype": "text/x-python",
   "name": "python",
   "nbconvert_exporter": "python",
   "pygments_lexer": "ipython3",
   "version": "3.5.5"
  }
 },
 "nbformat": 4,
 "nbformat_minor": 2
}
