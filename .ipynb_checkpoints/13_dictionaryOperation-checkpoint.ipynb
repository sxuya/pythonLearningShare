{
 "cells": [
  {
   "cell_type": "markdown",
   "metadata": {},
   "source": [
    "# 【Python学习分享文章】_dictionary（字典）"
   ]
  },
  {
   "cell_type": "markdown",
   "metadata": {},
   "source": [
    "## 综述\n",
    "\n",
    "### 数据类型特点\n",
    "\n",
    "dictionary（字典）类型的数据特最大**特点**，就是可以记录信息、统计信息。\n",
    "\n",
    "不同类型数据的特点对比：\n",
    "\n",
    "- string（字符串）：类别和数量的对应关系不明显。\n",
    "- list（列表）：强调的是“顺序”这一个数据特点。\n",
    "- dictionary（字典）：名字和对应的数值的数据类型。好比我们平时用的字典，一个“名词”，后面跟着这个名词的“数据”，即解释的内容，计算机的这一数据类型就是“数之内容”。\n",
    "\n",
    "## 详细介绍\n",
    "\n",
    "数据的逻辑基础：高中数学学习的一个概念：映射。"
   ]
  },
  {
   "cell_type": "markdown",
   "metadata": {},
   "source": [
    "### 数据结构：\n",
    "\n",
    "使用“{ }”，里面每一个数据包括一个“哈希值”和对应的“对象”（即数据内容），两者用“:”连接；不同的字典内容，用“,”隔开.\n",
    "\n",
    "“哈希值”在程序里面的名字是“key”，“哈希值”一般都叫做“键值”（key 不翻译成“钥匙”，而是“keyboard”（键盘）的 key 的意思）\n",
    "\n",
    "如下结构："
   ]
  },
  {
   "cell_type": "code",
   "execution_count": 1,
   "metadata": {},
   "outputs": [],
   "source": [
    "a_dict = {'哈希值':\"对象\"}\n",
    "\n",
    "### 比如个人信息的例子\n",
    "\n",
    "aPersonInformation = {\"name\":\"sxuya\", \"height\":183, \"age\": 18}"
   ]
  },
  {
   "cell_type": "markdown",
   "metadata": {},
   "source": [
    "查看数据类型的名字，显示的“dict”字样即是。"
   ]
  },
  {
   "cell_type": "code",
   "execution_count": 2,
   "metadata": {},
   "outputs": [
    {
     "name": "stdout",
     "output_type": "stream",
     "text": [
      "<class 'dict'>\n"
     ]
    }
   ],
   "source": [
    "print(type(aPersonInformation))"
   ]
  },
  {
   "cell_type": "markdown",
   "metadata": {},
   "source": [
    "### 基本操作\n",
    "\n",
    "#### 增加内容\n",
    "\n",
    "使用中括号“[ ]”输入“哈希值”，使用“=”赋予其数据（即“对象”），如下："
   ]
  },
  {
   "cell_type": "code",
   "execution_count": 28,
   "metadata": {},
   "outputs": [
    {
     "name": "stdout",
     "output_type": "stream",
     "text": [
      "{'height': 183, 'phone': 10086, 'name': 'sxuya', 'age': 18}\n"
     ]
    }
   ],
   "source": [
    "aPersonInformation['phone'] = 10086\n",
    "print(aPersonInformation)"
   ]
  },
  {
   "cell_type": "markdown",
   "metadata": {},
   "source": [
    "**【注意：】**输出的信息是没有顺序的，每次输出顺序很可能不一样。\n",
    "\n",
    "比如不改变内容、不进行操作，再输出一次信息,,,竟然是一样的，是只要进行输出，那么就固定下来顺序了么？："
   ]
  },
  {
   "cell_type": "code",
   "execution_count": 30,
   "metadata": {},
   "outputs": [
    {
     "name": "stdout",
     "output_type": "stream",
     "text": [
      "{'height': 183, 'phone': 10086, 'name': 'sxuya', 'age': 18}\n"
     ]
    }
   ],
   "source": [
    "print(aPersonInformation)"
   ]
  },
  {
   "cell_type": "markdown",
   "metadata": {},
   "source": [
    "### demo 说明\n",
    "\n",
    "之前的生肖、星座 demo 的扩展，增加**“记录、统计输入的信息的数据”**。"
   ]
  },
  {
   "cell_type": "code",
   "execution_count": 31,
   "metadata": {},
   "outputs": [
    {
     "name": "stdout",
     "output_type": "stream",
     "text": [
      "{'鼠': 0, '羊': 0, '蛇': 0, '马': 0, '虎': 0, '龙': 0, '鸡': 0, '猪': 0, '牛': 0, '狗': 0, '兔': 0, '猴': 0}\n",
      "{'狮子座': 0, '金牛座': 0, '天秤座': 0, '巨蟹座': 0, '天蝎座': 0, '摩羯座': 0, '白羊座': 0, '射手座': 0, '处女座': 0, '双子座': 0, '双鱼座': 0, '水瓶座': 0}\n"
     ]
    }
   ],
   "source": [
    "zodiac_name = (u'摩羯座', u'水瓶座', u'双鱼座', u'白羊座', u'金牛座', u'双子座',\n",
    "               u'巨蟹座', u'狮子座', u'处女座', u'天秤座', u'天蝎座', u'射手座')\n",
    "zodiac_days = ((1, 20), (2,19), (3, 21), (4, 21), (5, 21), (6, 22),\n",
    "               (7, 23), (8, 23), (9, 23), (10, 23), (11, 23), (12, 23))\n",
    "chinese_zodiac = \"猴鸡狗猪鼠牛虎兔龙蛇马羊\"\n",
    "\n",
    "# 增加用于统计信息用的字典\n",
    "## 不够“优雅”的写法：\n",
    "# cz_num_dict = {}\n",
    "# for animal in chinese_zodiac:\n",
    "#     ca_num_dict[animal] = 0\n",
    "\n",
    "# zodiac_num_dict = {}\n",
    "# for name in zodiac_name:\n",
    "#     zodiac_num_dict[name] = 0\n",
    "## “优雅”的写法：\n",
    "cz_num_dict = {animal:0 for animal in chinese_zodiac}\n",
    "zodiac_num_dict = {name:0 for name in zodiac_name}\n",
    "\n",
    "print(cz_num_dict)\n",
    "print(zodiac_num_dict)"
   ]
  },
  {
   "cell_type": "code",
   "execution_count": null,
   "metadata": {},
   "outputs": [
    {
     "name": "stdout",
     "output_type": "stream",
     "text": [
      "please input the year of your birthday:2018\n",
      "please input the month of your birthday:12\n",
      "please input the day of your birthday:01\n",
      "{'双鱼座': 0, '射手座': 1, '巨蟹座': 0, '天蝎座': 0, '水瓶座': 0, '天秤座': 0, '摩羯座': 0, '双子座': 0, '白羊座': 0, '金牛座': 0, '狮子座': 0, '处女座': 0}\n",
      "{'虎': 0, '兔': 0, '鼠': 0, '羊': 0, '牛': 0, '蛇': 0, '猴': 0, '猪': 0, '狗': 1, '鸡': 0, '马': 0, '龙': 0}\n",
      "星座 双鱼座 有 0 个\n",
      "星座 射手座 有 1 个\n",
      "星座 巨蟹座 有 0 个\n",
      "星座 天蝎座 有 0 个\n",
      "星座 水瓶座 有 0 个\n",
      "星座 天秤座 有 0 个\n",
      "星座 摩羯座 有 0 个\n",
      "星座 双子座 有 0 个\n",
      "星座 白羊座 有 0 个\n",
      "星座 金牛座 有 0 个\n",
      "星座 狮子座 有 0 个\n",
      "星座 处女座 有 0 个\n",
      "生肖 虎 有 0 个\n",
      "生肖 兔 有 0 个\n",
      "生肖 鼠 有 0 个\n",
      "生肖 羊 有 0 个\n",
      "生肖 牛 有 0 个\n",
      "生肖 蛇 有 0 个\n",
      "生肖 猴 有 0 个\n",
      "生肖 猪 有 0 个\n",
      "生肖 狗 有 1 个\n",
      "生肖 鸡 有 0 个\n",
      "生肖 马 有 0 个\n",
      "生肖 龙 有 0 个\n",
      "please input the year of your birthday:2018\n",
      "please input the month of your birthday:12\n",
      "please input the day of your birthday:01\n",
      "{'双鱼座': 0, '射手座': 2, '巨蟹座': 0, '天蝎座': 0, '水瓶座': 0, '天秤座': 0, '摩羯座': 0, '双子座': 0, '白羊座': 0, '金牛座': 0, '狮子座': 0, '处女座': 0}\n",
      "{'虎': 0, '兔': 0, '鼠': 0, '羊': 0, '牛': 0, '蛇': 0, '猴': 0, '猪': 0, '狗': 2, '鸡': 0, '马': 0, '龙': 0}\n",
      "星座 双鱼座 有 0 个\n",
      "星座 射手座 有 2 个\n",
      "星座 巨蟹座 有 0 个\n",
      "星座 天蝎座 有 0 个\n",
      "星座 水瓶座 有 0 个\n",
      "星座 天秤座 有 0 个\n",
      "星座 摩羯座 有 0 个\n",
      "星座 双子座 有 0 个\n",
      "星座 白羊座 有 0 个\n",
      "星座 金牛座 有 0 个\n",
      "星座 狮子座 有 0 个\n",
      "星座 处女座 有 0 个\n",
      "生肖 虎 有 0 个\n",
      "生肖 兔 有 0 个\n",
      "生肖 鼠 有 0 个\n",
      "生肖 羊 有 0 个\n",
      "生肖 牛 有 0 个\n",
      "生肖 蛇 有 0 个\n",
      "生肖 猴 有 0 个\n",
      "生肖 猪 有 0 个\n",
      "生肖 狗 有 2 个\n",
      "生肖 鸡 有 0 个\n",
      "生肖 马 有 0 个\n",
      "生肖 龙 有 0 个\n"
     ]
    }
   ],
   "source": [
    "# 由用户输入年、月、日信息\n",
    "## 放入 while 语句，使得可以持续输入\n",
    "while True: # 这里是一个死循环，只是为了演示方便而已\n",
    "    year = int(input(\"please input the year of your birthday:\"))\n",
    "    month = int(input(\"please input the month of your birthday:\"))\n",
    "    day = int(input(\"please input the day of your birthday:\"))\n",
    "    \n",
    "    # 判断星座的下标，用 n 来表明\n",
    "    n = 0\n",
    "    while zodiac_days[n] < (month, day):\n",
    "        if month == 12 and day > 23:\n",
    "            break\n",
    "        n += 1\n",
    "    \n",
    "    # 对输入的信息，判定生肖、星座，对相应的 key 值进行数据更新\n",
    "    zodiac_num_dict[zodiac_name[n]] += 1\n",
    "    cz_num_dict[chinese_zodiac[year % 12]] += 1\n",
    "    \n",
    "    # 输出两个字典信息\n",
    "    print(zodiac_num_dict)\n",
    "    print(cz_num_dict)\n",
    "    \n",
    "    # 用“key”键值、对象代替文本信息，来进行信息输出，获得统计信息。\n",
    "    for key_xingzuo in zodiac_num_dict.keys():\n",
    "        print(\"星座 %s 有 %d 个\"%(key_xingzuo, zodiac_num_dict[key_xingzuo]))\n",
    "    for key_animal in cz_num_dict.keys():\n",
    "        print(\"生肖 %s 有 %d 个\"%(key_animal, cz_num_dict[key_animal]))"
   ]
  },
  {
   "cell_type": "markdown",
   "metadata": {},
   "source": [
    "---\n",
    "注：  \n",
    "个人微信公众号：codeAndWrite"
   ]
  }
 ],
 "metadata": {
  "kernelspec": {
   "display_name": "Python 3",
   "language": "python",
   "name": "python3"
  },
  "language_info": {
   "codemirror_mode": {
    "name": "ipython",
    "version": 3
   },
   "file_extension": ".py",
   "mimetype": "text/x-python",
   "name": "python",
   "nbconvert_exporter": "python",
   "pygments_lexer": "ipython3",
   "version": "3.5.5"
  }
 },
 "nbformat": 4,
 "nbformat_minor": 2
}
