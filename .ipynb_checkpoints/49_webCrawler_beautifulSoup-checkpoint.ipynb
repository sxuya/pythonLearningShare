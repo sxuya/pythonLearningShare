{
 "cells": [
  {
   "cell_type": "markdown",
   "metadata": {},
   "source": [
    "# 49. 【Python学习分享文章】\\_webCrawler_beutifulSoup\n",
    "\n",
    "## 综述  \n",
    "\n",
    "一个第三方库，不需要使用麻烦的正则方法，就可以进行网页 HTML 内容的操作。\n",
    "\n",
    "【注意】  \n",
    "终端的安装包名字和软件名字是不一样的，终端的安装名字是 bs4，如下：\n",
    "```\n",
    "pip install bs4\n",
    "```\n",
    "\n",
    "【建议】  \n",
    "一个比较好用的依赖的第三方库 ```lxml``` 也可以进行安装，如下：\n",
    "```\n",
    "pip install lxml\n",
    "```\n",
    "\n",
    "## 目录\n",
    "\n",
    "### - 格式整理\n",
    "### - 常用方法\n",
    "### - 总结"
   ]
  },
  {
   "cell_type": "markdown",
   "metadata": {},
   "source": [
    "## 格式整理\n",
    "\n",
    "### - 问题背景\n",
    "\n",
    "编程查看的源代码，如果不进行整理，格式比较混乱，为了输出标准的 HTML 格式，所以可以使用 ```lxml``` 这个第三方库。\n",
    "\n",
    "### - 未整理的 HTML 源代码\n",
    "\n",
    "例子如下：\n",
    "```\n",
    "<html><head><title>The Dormouse's story</title></head>\n",
    "<body>\n",
    "<p class=\"title\"><b>The dormouse's story</b></p>\n",
    "\n",
    "<p class=\"story\">Once upon a time there wereadfjaldkfjadkfaskddjf,whatever is all OK\n",
    "<a href=\"http://example.com/elsie\" class=\"sister\" id=\"linkSister1\">Elsie</a>,\n",
    "<a href=\"http://example.com/john\" class=\"sister\" id=\"linkSister2\">John</a> and \n",
    "<a href=\"http://example.com/amily\" class=\"sister\" id=\"linkSister3\">Amily</a>;\n",
    "\n",
    "<p class=\"story:>...</p>\n",
    "```\n",
    "\n",
    "这个不是标准的 HTML 语言格式，会比较难寻找到对应标签、结构，所以需要使用 lxml 进行整理。\n",
    "\n",
    "### - 整理得到标准 HTML 格式\n",
    "\n",
    "code 如下："
   ]
  },
  {
   "cell_type": "code",
   "execution_count": 1,
   "metadata": {},
   "outputs": [
    {
     "name": "stdout",
     "output_type": "stream",
     "text": [
      "<html>\n",
      " <head>\n",
      "  <title>\n",
      "   The Dormouse's story\n",
      "  </title>\n",
      " </head>\n",
      " <body>\n",
      "  <p class=\"title\">\n",
      "   <b>\n",
      "    The dormouse's story\n",
      "   </b>\n",
      "  </p>\n",
      "  <p class=\"story\">\n",
      "   Once upon a time there wereadfjaldkfjadkfaskddjf,whatever is all OK\n",
      "   <a class=\"sister\" href=\"http://example.com/elsie\" id=\"linkSister1\">\n",
      "    Elsie\n",
      "   </a>\n",
      "   ,\n",
      "   <a class=\"sister\" href=\"http://example.com/john\" id=\"linkSister2\">\n",
      "    John\n",
      "   </a>\n",
      "   and\n",
      "   <a class=\"sister\" href=\"http://example.com/amily\" id=\"linkSister3\">\n",
      "    Amily\n",
      "   </a>\n",
      "   ;\n",
      "  </p>\n",
      "  <p class=\"story:&gt;...&lt;/p&gt; \">\n",
      "  </p>\n",
      " </body>\n",
      "</html>\n"
     ]
    }
   ],
   "source": [
    "# 认为建立一个例子\n",
    "html_doc = \"\"\"\n",
    "<html><head><title>The Dormouse's story</title></head>\n",
    "<body>\n",
    "<p class=\"title\"><b>The dormouse's story</b></p>\n",
    "\n",
    "<p class=\"story\">Once upon a time there wereadfjaldkfjadkfaskddjf,whatever is all OK\n",
    "<a href=\"http://example.com/elsie\" class=\"sister\" id=\"linkSister1\">Elsie</a>,\n",
    "<a href=\"http://example.com/john\" class=\"sister\" id=\"linkSister2\">John</a> and \n",
    "<a href=\"http://example.com/amily\" class=\"sister\" id=\"linkSister3\">Amily</a>;\n",
    "\n",
    "<p class=\"story:>...</p>\n",
    "\"\"\"\n",
    "\n",
    "from bs4 import BeautifulSoup\n",
    "\n",
    "# 使用 BeautifulSoup 进行处理\n",
    "soup = BeautifulSoup(html_doc, 'lxml')  # 第一个参数：导入；第二个参数：按照什么格式解析 HTML 代码。\n",
    "print(soup.prettify())  # 进行整理格式进行输出。"
   ]
  },
  {
   "cell_type": "markdown",
   "metadata": {},
   "source": [
    "【结果分析】  \n",
    "整理后的排版就是标准的 HTML 格式，可以通过缩进很方便找到对应的区块。"
   ]
  },
  {
   "cell_type": "markdown",
   "metadata": {},
   "source": [
    "## 常用方法\n",
    "\n",
    "1. title  \n",
    "找到 title 的标签。\n",
    "2. 获取 p 标签\n",
    "3. 获取 a 标签\n",
    "4. 找到特定名称的链接标签\n",
    "5. 找到文档中所有文本的内容\n",
    "\n",
    "### - 1. title\n",
    "\n",
    "- 常规操作\n",
    "\n",
    "如下："
   ]
  },
  {
   "cell_type": "code",
   "execution_count": 2,
   "metadata": {},
   "outputs": [
    {
     "name": "stdout",
     "output_type": "stream",
     "text": [
      "<title>The Dormouse's story</title>\n"
     ]
    }
   ],
   "source": [
    "print(soup.title)"
   ]
  },
  {
   "cell_type": "markdown",
   "metadata": {},
   "source": [
    "- 去掉都为的标记符号\n",
    "\n",
    "方法如下："
   ]
  },
  {
   "cell_type": "code",
   "execution_count": 3,
   "metadata": {},
   "outputs": [
    {
     "name": "stdout",
     "output_type": "stream",
     "text": [
      "The Dormouse's story\n"
     ]
    }
   ],
   "source": [
    "print(soup.title.string)"
   ]
  },
  {
   "cell_type": "markdown",
   "metadata": {},
   "source": [
    "### - 2. 获取 p 标签\n",
    "\n",
    "- 常规操作\n",
    "\n",
    "如下："
   ]
  },
  {
   "cell_type": "code",
   "execution_count": 4,
   "metadata": {},
   "outputs": [
    {
     "name": "stdout",
     "output_type": "stream",
     "text": [
      "<p class=\"title\"><b>The dormouse's story</b></p>\n"
     ]
    }
   ],
   "source": [
    "print(soup.p)"
   ]
  },
  {
   "cell_type": "markdown",
   "metadata": {},
   "source": [
    "- 找到 class 的名字\n",
    "\n",
    "如下："
   ]
  },
  {
   "cell_type": "code",
   "execution_count": 5,
   "metadata": {},
   "outputs": [
    {
     "name": "stdout",
     "output_type": "stream",
     "text": [
      "['title']\n"
     ]
    }
   ],
   "source": [
    "print(soup.p['class'])"
   ]
  },
  {
   "cell_type": "markdown",
   "metadata": {},
   "source": [
    "### - 3. 获取 a 标签\n",
    "\n",
    "- 常规操作\n",
    "\n",
    "如下："
   ]
  },
  {
   "cell_type": "code",
   "execution_count": 6,
   "metadata": {},
   "outputs": [
    {
     "name": "stdout",
     "output_type": "stream",
     "text": [
      "<a class=\"sister\" href=\"http://example.com/elsie\" id=\"linkSister1\">Elsie</a>\n"
     ]
    }
   ],
   "source": [
    "print(soup.a)"
   ]
  },
  {
   "cell_type": "markdown",
   "metadata": {},
   "source": [
    "- 找到所有 a 标签\n",
    "\n",
    "如下："
   ]
  },
  {
   "cell_type": "code",
   "execution_count": 7,
   "metadata": {},
   "outputs": [
    {
     "name": "stdout",
     "output_type": "stream",
     "text": [
      "[<a class=\"sister\" href=\"http://example.com/elsie\" id=\"linkSister1\">Elsie</a>, <a class=\"sister\" href=\"http://example.com/john\" id=\"linkSister2\">John</a>, <a class=\"sister\" href=\"http://example.com/amily\" id=\"linkSister3\">Amily</a>]\n"
     ]
    }
   ],
   "source": [
    "print(soup.find_all('a'))"
   ]
  },
  {
   "cell_type": "markdown",
   "metadata": {},
   "source": [
    "### - 4. 找到特定名字的链接的标签\n",
    "\n",
    "- 常规操作\n",
    "\n",
    "找到 id 为 linkX 的标签，如下："
   ]
  },
  {
   "cell_type": "code",
   "execution_count": 9,
   "metadata": {},
   "outputs": [
    {
     "name": "stdout",
     "output_type": "stream",
     "text": [
      "<a class=\"sister\" href=\"http://example.com/amily\" id=\"linkSister3\">Amily</a>\n"
     ]
    }
   ],
   "source": [
    "print(soup.find(id='linkSister3'))"
   ]
  },
  {
   "cell_type": "markdown",
   "metadata": {},
   "source": [
    "- 找到所有 <a\\> 标签的链接\n",
    "\n",
    "如下："
   ]
  },
  {
   "cell_type": "code",
   "execution_count": 10,
   "metadata": {},
   "outputs": [
    {
     "name": "stdout",
     "output_type": "stream",
     "text": [
      "http://example.com/elsie\n",
      "http://example.com/john\n",
      "http://example.com/amily\n"
     ]
    }
   ],
   "source": [
    "for link in soup.find_all('a'):\n",
    "    print(link.get('href'))"
   ]
  },
  {
   "cell_type": "markdown",
   "metadata": {},
   "source": [
    "### - 5. 找到文档中所有文本的内容\n",
    "\n",
    "- 常规操作\n",
    "\n",
    "如下："
   ]
  },
  {
   "cell_type": "code",
   "execution_count": 11,
   "metadata": {},
   "outputs": [
    {
     "name": "stdout",
     "output_type": "stream",
     "text": [
      "The Dormouse's story\n",
      "\n",
      "The dormouse's story\n",
      "Once upon a time there wereadfjaldkfjadkfaskddjf,whatever is all OK\n",
      "Elsie,\n",
      "John and \n",
      "Amily;\n",
      "\n",
      "\n"
     ]
    }
   ],
   "source": [
    "print(soup.get_text())"
   ]
  },
  {
   "cell_type": "markdown",
   "metadata": {},
   "source": [
    "## 总结\n",
    "\n",
    "beautifulSoup 的使用是十分灵活的，可以根据自己需要找到指定的内容。"
   ]
  },
  {
   "cell_type": "markdown",
   "metadata": {},
   "source": [
    "---\n",
    "注：  \n",
    "个人微信公众号：codeAndWrite"
   ]
  }
 ],
 "metadata": {
  "kernelspec": {
   "display_name": "Python [conda env:root]",
   "language": "python",
   "name": "conda-root-py"
  },
  "language_info": {
   "codemirror_mode": {
    "name": "ipython",
    "version": 2
   },
   "file_extension": ".py",
   "mimetype": "text/x-python",
   "name": "python",
   "nbconvert_exporter": "python",
   "pygments_lexer": "ipython2",
   "version": "2.7.14"
  }
 },
 "nbformat": 4,
 "nbformat_minor": 2
}
