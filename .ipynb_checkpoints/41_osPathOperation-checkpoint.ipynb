{
 "cells": [
  {
   "cell_type": "markdown",
   "metadata": {},
   "source": [
    "# 40.【Python学习分享文章】_osPathOperation_Python文件操作库os\n",
    "\n",
    "## 综述\n",
    "\n"
   ]
  },
  {
   "cell_type": "markdown",
   "metadata": {},
   "source": [
    "## ```os.path``` 库"
   ]
  },
  {
   "cell_type": "markdown",
   "metadata": {},
   "source": [
    "### - 获取当前位置的绝对路径"
   ]
  },
  {
   "cell_type": "code",
   "execution_count": 1,
   "metadata": {},
   "outputs": [
    {
     "name": "stdout",
     "output_type": "stream",
     "text": [
      "C:\\Users\\yeray\\Documents\\GitHub\\pythonLearningShare\n"
     ]
    }
   ],
   "source": [
    "import os\n",
    "\n",
    "pathTemp = os.path.abspath('.')\n",
    "print(pathTemp)"
   ]
  },
  {
   "cell_type": "markdown",
   "metadata": {},
   "source": [
    "### - 获取当前位置上级目录的绝对路径"
   ]
  },
  {
   "cell_type": "code",
   "execution_count": 2,
   "metadata": {},
   "outputs": [
    {
     "name": "stdout",
     "output_type": "stream",
     "text": [
      "C:\\Users\\yeray\\Documents\\GitHub\n"
     ]
    }
   ],
   "source": [
    "print(os.path.abspath('..'))"
   ]
  },
  {
   "cell_type": "markdown",
   "metadata": {},
   "source": [
    "### - 验证一个路径是否存在"
   ]
  },
  {
   "cell_type": "code",
   "execution_count": 5,
   "metadata": {},
   "outputs": [
    {
     "name": "stdout",
     "output_type": "stream",
     "text": [
      "True\n"
     ]
    }
   ],
   "source": [
    "print(os.path.exists('/Users'))"
   ]
  },
  {
   "cell_type": "markdown",
   "metadata": {},
   "source": [
    "### - 判断一个路径是否为“文件”类型。"
   ]
  },
  {
   "cell_type": "code",
   "execution_count": 8,
   "metadata": {},
   "outputs": [
    {
     "name": "stdout",
     "output_type": "stream",
     "text": [
      "False\n"
     ]
    }
   ],
   "source": [
    "print(os.path.isfile('/Users'))"
   ]
  },
  {
   "cell_type": "markdown",
   "metadata": {},
   "source": [
    "### - 判断是否为目录\n",
    "\n",
    "其实差不多就是我们口头上说的“文件夹”的意思。"
   ]
  },
  {
   "cell_type": "code",
   "execution_count": 9,
   "metadata": {},
   "outputs": [
    {
     "name": "stdout",
     "output_type": "stream",
     "text": [
      "True\n",
      "True\n"
     ]
    }
   ],
   "source": [
    "print(os.path.isdir('/Users'))\n",
    "print(os.path.isdir('/Users/yeray'))"
   ]
  },
  {
   "cell_type": "markdown",
   "metadata": {},
   "source": [
    "### - 连接多个路径组成长路径\n",
    "\n",
    "或者说：拆分一个很长的目录路径为多个部分。 "
   ]
  },
  {
   "cell_type": "code",
   "execution_count": null,
   "metadata": {},
   "outputs": [],
   "source": [
    "os.path.join('the name of path NO.1', 'the name of path NO.2')"
   ]
  },
  {
   "cell_type": "markdown",
   "metadata": {},
   "source": [
    "【注释】：\n",
    "\n",
    "暂时不运行上面的 code，没有什么应用。"
   ]
  },
  {
   "cell_type": "markdown",
   "metadata": {},
   "source": [
    "## ```pathlib``` 库\n",
    "\n",
    "很多实现的功能和 ```os.path``` 相同，**但是**书写的方式不一样，需要注意。"
   ]
  },
  {
   "cell_type": "code",
   "execution_count": 10,
   "metadata": {},
   "outputs": [],
   "source": [
    "from pathlib import Path"
   ]
  },
  {
   "cell_type": "markdown",
   "metadata": {},
   "source": [
    "### - 相对路径的 ```.``` 的绝对路径\n",
    "\n",
    "需要用变量先封装成 Path 类型才可以使用.\n",
    "\n",
    "**这个库的基本原理是使用 class 进行功能实现**。"
   ]
  },
  {
   "cell_type": "code",
   "execution_count": 11,
   "metadata": {},
   "outputs": [
    {
     "name": "stdout",
     "output_type": "stream",
     "text": [
      "C:\\Users\\yeray\\Documents\\GitHub\\pythonLearningShare\n"
     ]
    }
   ],
   "source": [
    "p = Path('.')\n",
    "print(p.resolve())"
   ]
  },
  {
   "cell_type": "markdown",
   "metadata": {},
   "source": [
    "### - 判断是否为目录"
   ]
  },
  {
   "cell_type": "code",
   "execution_count": 12,
   "metadata": {},
   "outputs": [
    {
     "name": "stdout",
     "output_type": "stream",
     "text": [
      "True\n"
     ]
    }
   ],
   "source": [
    "print(p.is_dir())"
   ]
  },
  {
   "cell_type": "markdown",
   "metadata": {},
   "source": [
    "### - 新建一个目录\n",
    "\n",
    "**最大的**不同功能。"
   ]
  },
  {
   "cell_type": "code",
   "execution_count": 14,
   "metadata": {},
   "outputs": [],
   "source": [
    "q = Path('/Users/yeray/Documents/GitHub/pythonLearningShare/temp/a/b/cc')  # 这里是绝对路径的内容\n",
    "Path.mkdir(q, parents=True)"
   ]
  },
  {
   "cell_type": "markdown",
   "metadata": {},
   "source": [
    "【解释】：\n",
    "\n",
    "参数 parents=True 的作用：创建的目标目录 cc 的上面两级是不存在的，即 父目录 不存在，如果参数值设置为 False，那么就是说一定要有对应的父目录才可以创建，而我是没有的，就会报错，所以要把参数改为 True。\n",
    "\n",
    "最后下创建结果如下：\n",
    "\n",
    "![Image of fileDirectory](https://github.com/sxuya/pythonLearningShare/blob/master/picOfDemo/41_1.png?raw=true)"
   ]
  },
  {
   "cell_type": "markdown",
   "metadata": {},
   "source": [
    "---\n",
    "注：  \n",
    "个人微信公众号：codeAndWrite"
   ]
  }
 ],
 "metadata": {
  "kernelspec": {
   "display_name": "Python 3",
   "language": "python",
   "name": "python3"
  },
  "language_info": {
   "codemirror_mode": {
    "name": "ipython",
    "version": 3
   },
   "file_extension": ".py",
   "mimetype": "text/x-python",
   "name": "python",
   "nbconvert_exporter": "python",
   "pygments_lexer": "ipython3",
   "version": "3.5.5"
  }
 },
 "nbformat": 4,
 "nbformat_minor": 2
}
