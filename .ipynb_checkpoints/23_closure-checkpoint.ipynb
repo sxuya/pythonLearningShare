{
 "cells": [
  {
   "cell_type": "markdown",
   "metadata": {},
   "source": [
    "# 23.【Python学习分享文章】_closure（闭包）"
   ]
  },
  {
   "cell_type": "markdown",
   "metadata": {},
   "source": [
    "## 综述理解\n",
    "\n",
    "1. 闭包也是函数，只不过是一个名字的变化。“函数里面引用函数的函数”就叫做“闭包closure”。\n",
    "2. 来源：if 和 while 是可以嵌套的，所以想法就是“函数能不能也嵌套”呢？\n",
    "\n",
    "### - demo说明结构\n",
    "\n",
    "非有用结构，只是将“闭包closure”的思想说明。*对于简单的实现使用高级的方法，肯定会“看起来更加复杂”。*\n",
    "\n",
    "#### -- 【目的】：计算了个数字的和\n",
    "\n",
    "#### -- 函数实现："
   ]
  },
  {
   "cell_type": "code",
   "execution_count": 1,
   "metadata": {},
   "outputs": [],
   "source": [
    "def sumTwoNum():\n",
    "    a = 2\n",
    "    b = 4\n",
    "    return a+b"
   ]
  },
  {
   "cell_type": "markdown",
   "metadata": {},
   "source": [
    "#### -- closure 实现："
   ]
  },
  {
   "cell_type": "code",
   "execution_count": 3,
   "metadata": {},
   "outputs": [],
   "source": [
    "def sum(a):    # 两个函数是嵌套。将这一层的函数叫做“外部函数”\n",
    "    def add(b):    # 将这一层的函数叫做“内部函数”\n",
    "        return a+b    # 内部函数引用了外部函数的参数a\n",
    "    return add    # 返回的是函数的名字，【不能】带括号"
   ]
  },
  {
   "cell_type": "markdown",
   "metadata": {},
   "source": [
    "#### -- 【解释】\n",
    "\n",
    "想这种“内部函数引用外部函数的参数”，从而形成嵌套、关联的情形的函数结构，就叫做“closure闭包”。\n",
    "\n",
    "```add```：函数的引用 or 函数名称，相当于复制结构。  \n",
    "```add()```：函数的调用，也就是使用的意思。"
   ]
  },
  {
   "cell_type": "markdown",
   "metadata": {},
   "source": [
    "#### -- 类型区别辨析"
   ]
  },
  {
   "cell_type": "code",
   "execution_count": 5,
   "metadata": {},
   "outputs": [
    {
     "name": "stdout",
     "output_type": "stream",
     "text": [
      "<class 'int'>\n",
      "<class 'function'>\n"
     ]
    }
   ],
   "source": [
    "sumFunc = sumTwoNum()\n",
    "print(type(sumFunc))\n",
    "sumClos = sum(2)\n",
    "print((type(sumClos)))"
   ]
  },
  {
   "cell_type": "markdown",
   "metadata": {},
   "source": [
    "【解释】\n",
    "\n",
    "```sumTwoNum```这个函数很直接，返回的是计算完成的结果，计算的结果就是 int 数据类型\n",
    "\n",
    "```sum(2)```说明整体函数中，“外部函数” ```sum(a)``` 的参数 “a” 是2，这个“参数值”传入到了“内部函数”，“外部函数”定义的返回是函数 “add”，所以相当于现在 ```sumClos``` 是一个“以2为基础的计算和另一个数字和的函数”，所以类型是 ```function```。\n",
    "\n",
    "因此，```sumClos``` 就是函数名字，需要传入数值就可以直接“调用”了："
   ]
  },
  {
   "cell_type": "code",
   "execution_count": 7,
   "metadata": {},
   "outputs": [
    {
     "name": "stdout",
     "output_type": "stream",
     "text": [
      "6\n"
     ]
    }
   ],
   "source": [
    "print(sumClos(4))"
   ]
  },
  {
   "cell_type": "markdown",
   "metadata": {},
   "source": [
    "### - 整体框架\n",
    "\n",
    "#### -- 统一形式"
   ]
  },
  {
   "cell_type": "code",
   "execution_count": null,
   "metadata": {},
   "outputs": [],
   "source": [
    "def 外部函数名字(外部函数参数):\n",
    "    def 内部函数名字(内部函数参数名字):\n",
    "        需要进行的参数处理的 code；【一定】需要使用外部函数参数，否则就不需要 closure 结构了。\n",
    "    return 不带括号的内部函数的名字，进行引用"
   ]
  },
  {
   "cell_type": "markdown",
   "metadata": {},
   "source": [
    "#### -- demo展示"
   ]
  },
  {
   "cell_type": "code",
   "execution_count": null,
   "metadata": {},
   "outputs": [],
   "source": [
    "def sum():\n",
    "    def add():\n",
    "        return \n",
    "    return add"
   ]
  },
  {
   "cell_type": "markdown",
   "metadata": {},
   "source": [
    "## 实现“计数器”功能\n",
    "\n",
    "### - 实现功能：\n",
    "\n",
    "每次调用函数，就进行数值增1处理。\n",
    "\n",
    "### - 第一步：套路\n",
    "\n",
    "```\n",
    "def counter():\n",
    "    一个用来计数用的变量\n",
    "    def add_one():\n",
    "        +1功能实现的 code\n",
    "    return add_one\n",
    "```\n",
    "\n",
    "### - 第二步：变量确定\n",
    "如果是整型数据，离开了函数里面，也就是之前笔记里面的“作用域是局部的”，离开函数之后就失效了。失效了？对于内部函数来说的。\n",
    "\n",
    "一个解决方法：list 数据。"
   ]
  },
  {
   "cell_type": "markdown",
   "metadata": {},
   "source": [
    "### - 第三步：填写变量、功能 code"
   ]
  },
  {
   "cell_type": "code",
   "execution_count": null,
   "metadata": {},
   "outputs": [],
   "source": [
    "def counter():\n",
    "    cnt = [0]    # 定义一个只有一个数据的 list，初始值是0\n",
    "    def add_one():\n",
    "        cnt[0] += 1\n",
    "        return cnt[0]\n",
    "    return add_one\n",
    "\n",
    "zeroCounter = counter()\n",
    "print(zeroCounter())\n",
    "print(zeroCounter())\n",
    "print(zeroCounter())\n",
    "print(zeroCounter())"
   ]
  },
  {
   "cell_type": "markdown",
   "metadata": {},
   "source": [
    "#### -- 使用整数变量实现\n",
    "\n",
    "只要将前面函数的“作用域”理解到位，就可以使用整型来实现相同的功能，不过变量书写不那么优雅。\n",
    "\n",
    "code 如下："
   ]
  },
  {
   "cell_type": "code",
   "execution_count": 31,
   "metadata": {},
   "outputs": [
    {
     "name": "stdout",
     "output_type": "stream",
     "text": [
      "1\n",
      "2\n",
      "3\n",
      "4\n"
     ]
    }
   ],
   "source": [
    "aCounter = 0\n",
    "def counter():  \n",
    "    def add_one():\n",
    "        global aCounter\n",
    "        aCounter += 1\n",
    "        return aCounter\n",
    "    return add_one\n",
    "\n",
    "zeroCounter = counter()\n",
    "print(zeroCounter())\n",
    "print(zeroCounter())\n",
    "print(zeroCounter())\n",
    "print(zeroCounter())"
   ]
  },
  {
   "cell_type": "markdown",
   "metadata": {},
   "source": [
    "### - 建立两个计数器"
   ]
  },
  {
   "cell_type": "code",
   "execution_count": 33,
   "metadata": {},
   "outputs": [
    {
     "name": "stdout",
     "output_type": "stream",
     "text": [
      "10\n",
      "11\n",
      "12\n",
      "5\n",
      "6\n",
      "7\n",
      "1\n",
      "2\n",
      "3\n"
     ]
    }
   ],
   "source": [
    "def counterB(first=0):    # first 默认是0，如果有传入数据，则按照传入的数据进行。\n",
    "    cnt = [first]    # 定义一个只有一个数据的 list，初始值是0\n",
    "    def add_one():\n",
    "        cnt[0] += 1\n",
    "        return cnt[0]\n",
    "    return add_one\n",
    "\n",
    "tenCounter = counterB(9)\n",
    "print(tenCounter())\n",
    "print(tenCounter())\n",
    "print(tenCounter())\n",
    "fiveCounter = counterB(4)\n",
    "print(fiveCounter())\n",
    "print(fiveCounter())\n",
    "print(fiveCounter())\n",
    "zeroCounter = counterB()\n",
    "print(zeroCounter())\n",
    "print(zeroCounter())\n",
    "print(zeroCounter())\n",
    "\n"
   ]
  },
  {
   "cell_type": "markdown",
   "metadata": {},
   "source": [
    "## 再次理解\n",
    "\n",
    "闭包，相当于数学里面建立一组相同结构的函数，比如一次函数 y = kx + b，二次函数 y = ax^2 + bx + c......将相同的字母进行分离，相当于把“参数”（比如k、a、b、c）和“自变量”（x）分离开来。\n",
    "\n",
    "如果参数比较多，可以再把参数分成多组，进行分离设定。"
   ]
  },
  {
   "cell_type": "markdown",
   "metadata": {},
   "source": [
    "## 更有价值的功能：一次函数的实现\n",
    "\n",
    "### - 功能背景\n",
    "\n",
    "进行一次函数计算的时候，我们在一些高级的计算机会这么操作：\n",
    "1. 先确定、给定结构，定下 斜率k、截距b\n",
    "2. 计算大量不同 x 对应的函数值 y\n",
    "\n",
    "### - 普通函数实现\n",
    "\n",
    "```\n",
    "def 函数名字(k, b, x):\n",
    "    实现功能的 code\n",
    "```\n",
    "【问题】：  \n",
    "1. 每一次输入x的时候，即使函数没有变动，也需要再一次输入 k、b 的数值。\n",
    "2. 如果定义了 k、b 的情况，那么这两个参数就不能在变动了。\n",
    "3. 如果使用变量去赋值 k、b，那么也基本可以，但是会把这个功能分裂开来，可读性不高。\n",
    "\n",
    "### - 闭包实现\n",
    "\n",
    "code 如下："
   ]
  },
  {
   "cell_type": "code",
   "execution_count": 35,
   "metadata": {},
   "outputs": [
    {
     "name": "stdout",
     "output_type": "stream",
     "text": [
      "17\n",
      "29\n",
      "-26\n",
      "6\n"
     ]
    }
   ],
   "source": [
    "def line(k, b):\n",
    "    def calculateY(x):\n",
    "        return k*x + b\n",
    "    return calculateY\n",
    "aLine = line(3, 5)    # 定下结构为 3*x+5\n",
    "print(aLine(4))    # 计算 3*4+5\n",
    "print(aLine(8))    # 计算 3*8+5\n",
    "bLine = line(-4, 2)\n",
    "print(bLine(7))    #计算-4*7+2\n",
    "print(bLine(-1))    #计算-4*（-1）+2"
   ]
  },
  {
   "cell_type": "markdown",
   "metadata": {},
   "source": [
    "## 好处总结\n",
    "\n",
    "0. 将“传递变量”升级为“传递函数”。\n",
    "1. 减少很多参数的传输、定义、调用。\n",
    "2. code 会优雅，即可读性快"
   ]
  },
  {
   "cell_type": "markdown",
   "metadata": {},
   "source": [
    "---\n",
    "注：  \n",
    "个人微信公众号：codeAndWrite"
   ]
  }
 ],
 "metadata": {
  "kernelspec": {
   "display_name": "Python 3",
   "language": "python",
   "name": "python3"
  },
  "language_info": {
   "codemirror_mode": {
    "name": "ipython",
    "version": 3
   },
   "file_extension": ".py",
   "mimetype": "text/x-python",
   "name": "python",
   "nbconvert_exporter": "python",
   "pygments_lexer": "ipython3",
   "version": "3.5.5"
  }
 },
 "nbformat": 4,
 "nbformat_minor": 2
}
