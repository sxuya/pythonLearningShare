{
 "cells": [
  {
   "cell_type": "markdown",
   "metadata": {},
   "source": [
    "# 【Python 学习分享文章】_PEP8codeRules（PEP8编码规范）"
   ]
  },
  {
   "cell_type": "markdown",
   "metadata": {},
   "source": [
    "## 综述\n",
    "\n",
    "语言里面，表达出意思，到底怎么使用什么语句、方式去达到，都是可以的，但是我们不会说一些病句（比如：我今天可能一定去做公交车）、也不会说一些不简洁的表达（比如：明天的明天我过生日，而是会说“后天我过生日”），Python 里面也有这样的规则，这就是 PEP8编码规范。\n",
    "\n",
    "【作用】：最有用的作用就是在程序出错的时候，可以更快地寻找地问题的地方。"
   ]
  },
  {
   "cell_type": "markdown",
   "metadata": {},
   "source": [
    "## 介绍\n",
    "\n",
    "### - The Zen of Python\n",
    "\n",
    "这是 Python 作者确定的 Python 这门语言的编写的核心基础，所以可以看到【优雅性】在Python 的重要地位了。简单理解，【优雅性】就是【可读性】。\n",
    "\n",
    "\n",
    "在终端上进入 Python，输入 ```import this```，就可以看到 Python 作者的一首诗，算是一个 geek 的小幽默、小文艺。\n",
    "\n",
    "摘录如下：\n",
    "\n",
    "> The Zen of Python, by Tim Peters  \n",
    ">\n",
    "Beautiful is better than ugly.  \n",
    "Explicit is better than implicit.  \n",
    "Simple is better than complex.  \n",
    "Complex is better than complicated.  \n",
    "Flat is better than nested.  \n",
    "Sparse is better than dense.  \n",
    "Readability counts.  \n",
    "Special cases aren't special enough to break the rules.  \n",
    "Although practicality beats purity.  \n",
    "Errors should never pass silently.  \n",
    "Unless explicitly silenced.  \n",
    "In the face of ambiguity, refuse the temptation to guess.  \n",
    "There should be one-- and preferably only one --obvious way to do it.  \n",
    "Although that way may not be obvious at first unless you're Dutch.  \n",
    "Now is better than never.  \n",
    "Although never is often better than *right* now.  \n",
    "If the implementation is hard to explain, it's a bad idea.  \n",
    "If the implementation is easy to explain, it may be a good idea.  \n",
    "Namespaces are one honking great idea -- let's do more of those!  "
   ]
  },
  {
   "cell_type": "markdown",
   "metadata": {},
   "source": [
    "### - 编码规范内容\n",
    "\n",
    "可以在一下地址看到详细内容：\n",
    "\n",
    "https://www.python.org/dev/peps/pep-0008/\n",
    "\n",
    "页面里面详细介绍了所有的语法规则，比如命名的方法、语句太长的换行处理等等。\n",
    "\n",
    "虽然说建议详细看一遍，但是，作为初学者，相信大部分人是没有耐心去看一遍的，（我学习变成语言是为了创造东西的，不是为了学习枷锁的，如果磕绊到了，我才会再来看这个。）并且，还有一个更加方便的处理，见下面。"
   ]
  },
  {
   "cell_type": "markdown",
   "metadata": {},
   "source": [
    "### - 插件自动修正\n",
    "\n",
    "如果使用的是 PyCharm 这个软件，是可以通过一款名叫 autopep8 的插件自动修正自己 code 里面的不合规范的书写的。\n",
    "\n",
    "#### -- 下载安装\n",
    "\n",
    "在终端（不需要进入 Python）输入 ```pip install autopep8```（如果是 mac 系统，好像如果有两个版本的 pip，需要输入 pip2 或者 pip3）"
   ]
  },
  {
   "cell_type": "markdown",
   "metadata": {},
   "source": [
    "#### -- 和 PyCharm 整合\n",
    "\n",
    "整合后，可以直接 右键 - 扩展External Tools - autopep8，就可以进行自动修改书写了。\n",
    "\n",
    "那么如何整合呢？如下：\n",
    "\n",
    "1. 左上角的 PyCharm - Preferences - Tools External Tools - 左下角 + - 进入 Edit Tool，\n",
    "2. 除了 Name 按自己喜欢的来命名，其他的都是规范属性值，固定的。  \n",
    "Tools setting:\n",
    "    Programs:'autopep8'  \n",
    "    Parameters:'--in-place --aggressive --aggressive \\$FilePath$'  \n",
    "    Working directory:'\\$ProjectFileDir$'  \n",
    "点击 Output Fileters - 添加，在对话框中：  \n",
    "    Regular expression to match output 中入：‘\\$FILE_PATH\\$\\:\\$LINE\\$\\:\\$COLUMNS\\$\\:.*’"
   ]
  },
  {
   "cell_type": "markdown",
   "metadata": {},
   "source": [
    "#### -- 完成\n",
    "\n",
    "然后就可以想开头写的那样的操作进行自动修正了。"
   ]
  },
  {
   "cell_type": "markdown",
   "metadata": {},
   "source": [
    "## 总结\n",
    "\n",
    "主要是统一格式，方便所有人员阅读。相当于遵守交通规则，整个交通才能顺畅、安全，大家一致准守这个 code rule，那么阅读 Python 就会轻松很多。\n",
    "\n",
    "不过前期学习需要多多克服，不要嫌麻烦，对以后的正规性具有良好的作用。"
   ]
  },
  {
   "cell_type": "markdown",
   "metadata": {},
   "source": [
    "---\n",
    "注：  \n",
    "个人微信公众号：codeAndWrite"
   ]
  }
 ],
 "metadata": {
  "kernelspec": {
   "display_name": "Python 3",
   "language": "python",
   "name": "python3"
  },
  "language_info": {
   "codemirror_mode": {
    "name": "ipython",
    "version": 3
   },
   "file_extension": ".py",
   "mimetype": "text/x-python",
   "name": "python",
   "nbconvert_exporter": "python",
   "pygments_lexer": "ipython3",
   "version": "3.5.5"
  }
 },
 "nbformat": 4,
 "nbformat_minor": 2
}
