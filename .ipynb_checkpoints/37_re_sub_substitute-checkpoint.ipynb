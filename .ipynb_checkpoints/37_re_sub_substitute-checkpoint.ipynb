{
 "cells": [
  {
   "cell_type": "markdown",
   "metadata": {},
   "source": [
    "# 37.【Python学习分享文章】_re_substitute_替换\n",
    "\n",
    "## 综述\n",
    "\n",
    "顾名思义，主要的功能是“替换”，在写作中，就相当于修改，比如一个人物的名字觉得不满意了，想全部换成另外一个更好的名字，最方便就是使用“替换”的思路。\n",
    "\n",
    "那这个功能就是 re 里面的 ```.sub()``` 功能了。\n",
    "\n",
    "### - 变形使用\n",
    "\n",
    "如果替换成“空”，那么就相当于“删除”功能了，或者可以理解成**“整理、清洗”**数据。之前的 ```.match()``` 和 ```.search()``` 相当于数据的**“分组”**。\n",
    "\n",
    "这样，两个功能再组合在一起，应该就可以实现很多功能吧，只是想想，到后面再说吧。\n",
    "\n",
    "## 替换 ```.sub()```\n",
    "\n",
    "### - 使用的结构\n",
    "\n",
    "也就是语法结构（用就好了嘛，非要提升到法则，规则都会随着时间改变的嘛，记忆中的“说服”是“说（shui）服”，电影《驴得水》用这个读音造了一个梗，但是因为大家读成“shuo”的人太多了，也就变成了“说（shuo）服”。所以，哪里是“法”了，就是语言使用的习惯而已，非要说成是“语法”，虚张声势）。\n",
    "\n",
    "如下：  \n",
    "```.sub(想要替换的字符[可以是 具体字符，也可以是 re规则]，替换成的目标内容，作用的string范围)```\n",
    "\n",
    "简单说是：  \n",
    "```.sub(替换前，替换后，替换范围)```\n",
    "\n",
    "### - 基础举例说明\n",
    "\n",
    "【目的】：  \n",
    "把手里的“google”这个 string 的“l”替换成“.”，使得替换后的 string 变成一个 re 规则，从而用于其他 code 部分。\n",
    "\n",
    "demo 如下："
   ]
  },
  {
   "cell_type": "code",
   "execution_count": 1,
   "metadata": {},
   "outputs": [
    {
     "name": "stdout",
     "output_type": "stream",
     "text": [
      "goog.e\n"
     ]
    }
   ],
   "source": [
    "import re\n",
    "\n",
    "preString = 'google'\n",
    "latString = re.sub('l', '.', preString)\n",
    "print(latString)"
   ]
  },
  {
   "cell_type": "markdown",
   "metadata": {},
   "source": [
    "【改善】：  \n",
    "防止有“\\n”这类的转义字符被忽略，可以在第一个参数前面加上“r”。如下："
   ]
  },
  {
   "cell_type": "code",
   "execution_count": 2,
   "metadata": {},
   "outputs": [
    {
     "name": "stdout",
     "output_type": "stream",
     "text": [
      "goog.e\n"
     ]
    }
   ],
   "source": [
    "preString_2 = 'google'\n",
    "latString_2 = re.sub(r'l', '.', preString_2)\n",
    "print(latString_2)"
   ]
  },
  {
   "cell_type": "markdown",
   "metadata": {},
   "source": [
    "### - 变形功能：删除\n",
    "\n",
    "【思路】：  \n",
    "替换成空，就是相当于删除\n",
    "\n",
    "【素材】：  \n",
    "“188-1234-9876 # 这个数据是电话号码” 的 string。\n",
    "\n",
    "【目的1】：  \n",
    "把注释去掉，也就是吧“#”后面的内容删除掉，得到“188-1234-9876 ”这样的 string。\n",
    "\n",
    "【目的2】：  \n",
    "把数字连起来，也就是把“-”删除掉，得到“18812349876”这样的 string。\n",
    "\n",
    "【分析】：  \n",
    "最后只剩下数字内容，所以可以考虑使用“\\D”这个 re 规则。\n",
    "\n",
    "【目的1 demo】 如下："
   ]
  },
  {
   "cell_type": "code",
   "execution_count": 3,
   "metadata": {},
   "outputs": [
    {
     "name": "stdout",
     "output_type": "stream",
     "text": [
      "188-1234-9876 \n"
     ]
    }
   ],
   "source": [
    "prePhone = \"188-1234-9876 # 这个数据是电话号码\"\n",
    "subProcess_1 = re.sub(r'#.*$', '', prePhone)\n",
    "print(subProcess_1)  # 注意：最后的字符不是“6”，是一个空格"
   ]
  },
  {
   "cell_type": "markdown",
   "metadata": {},
   "source": [
    "【注意】：  \n",
    "最后的字符不是“6”，是一个空格，因为删除的内容是从“#”开始，“#”前面的空格是没有进行“替换”处理的。\n",
    "\n",
    "【目的2 demo】如下："
   ]
  },
  {
   "cell_type": "code",
   "execution_count": 4,
   "metadata": {},
   "outputs": [
    {
     "name": "stdout",
     "output_type": "stream",
     "text": [
      "18812349876\n"
     ]
    }
   ],
   "source": [
    "# subProcess_2 = re.sub(r'-', '', subProcess_1)\n",
    "# 可以是上面的 code。但是存在的【不足】：\n",
    "# 只能去掉“-”，如果还有乱入的符号，比如“*”、“&”等等，\n",
    "# 尤其这里还有尾巴的一个空格“ ”，\n",
    "# 考虑到我们只是要保留数字内容，所以是把所有“非数字”字符替换成“空”，即删除，\n",
    "# 因此，可以使用“\\D”的 re 表达，指代所有“非数字”内容\n",
    "subProcess_2 = re.sub(r'\\D', '', subProcess_1)\n",
    "print(subProcess_2)"
   ]
  },
  {
   "cell_type": "markdown",
   "metadata": {},
   "source": [
    "【解释】：  \n",
    "使用 ```\\D``` 后，除了把能看到的“-”给去掉，也可以把末端看不的的“空格”字符也同样去掉，因此就**只**保留了电话号码的数字内容。  \n",
    "相当于对原始数据进行了“清洗”吧。"
   ]
  },
  {
   "cell_type": "code",
   "execution_count": null,
   "metadata": {},
   "outputs": [],
   "source": []
  },
  {
   "cell_type": "markdown",
   "metadata": {},
   "source": [
    "## 补充\n",
    "\n",
    "re 里面的 findall，就是进行多次匹配。\n",
    "\n",
    "暂时不清楚这个功能具体到底怎么使用，但是有这个印象先，遇到类似的问题，再去找文档啦。\n",
    "\n",
    "“re 里面的方法都希望掌握。”en……再说了，遇到问题就明白，对于规则表达、处理，就直接在 re 里面找就好了。学习也是一样，主要先学习基本的，遇到问题在马上去查找、询问，以此来扩充知识体系，也是为了获得联系。但是不好的地方就是，可能遇到的问题太“高级”，无法便利地建立联系，这时候系统的学习也具有一定作用的，系统的学习只是为了搭建当前级别的整体框架，当前框架的联系需要实践、问题去扩充；但是跨级别的联系，系统的学习是最**高效**的，这是两种学习方式的区别。\n"
   ]
  },
  {
   "cell_type": "markdown",
   "metadata": {},
   "source": [
    "---\n",
    "注：  \n",
    "个人微信公众号：codeAndWrite"
   ]
  }
 ],
 "metadata": {
  "kernelspec": {
   "display_name": "Python 3",
   "language": "python",
   "name": "python3"
  },
  "language_info": {
   "codemirror_mode": {
    "name": "ipython",
    "version": 3
   },
   "file_extension": ".py",
   "mimetype": "text/x-python",
   "name": "python",
   "nbconvert_exporter": "python",
   "pygments_lexer": "ipython3",
   "version": "3.5.5"
  }
 },
 "nbformat": 4,
 "nbformat_minor": 2
}
