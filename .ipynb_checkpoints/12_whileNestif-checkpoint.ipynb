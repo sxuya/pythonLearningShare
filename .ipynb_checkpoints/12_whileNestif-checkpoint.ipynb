{
 "cells": [
  {
   "cell_type": "markdown",
   "metadata": {},
   "source": [
    "# 【Python学习分享文章】_while 嵌套 if"
   ]
  },
  {
   "cell_type": "markdown",
   "metadata": {},
   "source": [
    "### 数据基础"
   ]
  },
  {
   "cell_type": "code",
   "execution_count": 1,
   "metadata": {},
   "outputs": [],
   "source": [
    "zodiac_name = (u'摩羯座', u'水瓶座', u'双鱼座', u'白羊座', u'金牛座', u'双子座',\n",
    "               u'巨蟹座', u'狮子座', u'处女座', u'天秤座', u'天蝎座', u'射手座')\n",
    "zodiac_days = ((1, 20), (2,19), (3, 21), (4, 21), (5, 21), (6, 22),\n",
    "               (7, 23), (8, 23), (9, 23), (10, 23), (11, 23), (12, 23))"
   ]
  },
  {
   "cell_type": "markdown",
   "metadata": {},
   "source": [
    "### 嵌套实现"
   ]
  },
  {
   "cell_type": "code",
   "execution_count": 2,
   "metadata": {},
   "outputs": [
    {
     "name": "stdout",
     "output_type": "stream",
     "text": [
      "请输入月份：8\n",
      "请输入日期：15\n"
     ]
    }
   ],
   "source": [
    "month = int(input(\"请输入月份：\"))\n",
    "day = int(input(\"请输入日期：\"))"
   ]
  },
  {
   "cell_type": "code",
   "execution_count": 3,
   "metadata": {},
   "outputs": [
    {
     "name": "stdout",
     "output_type": "stream",
     "text": [
      "狮子座\n"
     ]
    }
   ],
   "source": [
    "n = 0\n",
    "while zodiac_days[n] < (month, day):\n",
    "    n += 1 # 一直向上取，直到无法超越，就找到最接近输入日期的之前的日期、及其对应的下标\n",
    "print(zodiac_name[n])"
   ]
  },
  {
   "cell_type": "markdown",
   "metadata": {},
   "source": [
    "【问题：】\n",
    "\n",
    "但是上述代码，不能执行 12月23 之后日期的判断，因为那时候 n 就会变成 12，当作下标，就会指向第 13 个数据，但是数据就只有 12 个。所以会报错，提示 ```out of range``` 字样。"
   ]
  },
  {
   "cell_type": "code",
   "execution_count": 4,
   "metadata": {},
   "outputs": [
    {
     "ename": "IndexError",
     "evalue": "tuple index out of range",
     "output_type": "error",
     "traceback": [
      "\u001b[1;31m---------------------------------------------------------------------------\u001b[0m",
      "\u001b[1;31mIndexError\u001b[0m                                Traceback (most recent call last)",
      "\u001b[1;32m<ipython-input-4-fe27edd72949>\u001b[0m in \u001b[0;36m<module>\u001b[1;34m()\u001b[0m\n\u001b[0;32m      1\u001b[0m \u001b[1;33m(\u001b[0m\u001b[0mmonth2\u001b[0m\u001b[1;33m,\u001b[0m \u001b[0mday2\u001b[0m\u001b[1;33m)\u001b[0m \u001b[1;33m=\u001b[0m \u001b[1;33m(\u001b[0m\u001b[1;36m12\u001b[0m\u001b[1;33m,\u001b[0m \u001b[1;36m25\u001b[0m\u001b[1;33m)\u001b[0m\u001b[1;33m\u001b[0m\u001b[0m\n\u001b[1;32m----> 2\u001b[1;33m \u001b[1;32mwhile\u001b[0m \u001b[0mzodiac_days\u001b[0m\u001b[1;33m[\u001b[0m\u001b[0mn\u001b[0m\u001b[1;33m]\u001b[0m \u001b[1;33m<\u001b[0m \u001b[1;33m(\u001b[0m\u001b[0mmonth2\u001b[0m\u001b[1;33m,\u001b[0m \u001b[0mday2\u001b[0m\u001b[1;33m)\u001b[0m\u001b[1;33m:\u001b[0m\u001b[1;33m\u001b[0m\u001b[0m\n\u001b[0m\u001b[0;32m      3\u001b[0m     \u001b[0mn\u001b[0m \u001b[1;33m+=\u001b[0m \u001b[1;36m1\u001b[0m\u001b[1;33m\u001b[0m\u001b[0m\n\u001b[0;32m      4\u001b[0m \u001b[0mprint\u001b[0m\u001b[1;33m(\u001b[0m\u001b[0mzodiac_name\u001b[0m\u001b[1;33m[\u001b[0m\u001b[0mn\u001b[0m\u001b[1;33m]\u001b[0m\u001b[1;33m)\u001b[0m\u001b[1;33m\u001b[0m\u001b[0m\n",
      "\u001b[1;31mIndexError\u001b[0m: tuple index out of range"
     ]
    }
   ],
   "source": [
    "(month2, day2) = (12, 25)\n",
    "while zodiac_days[n] < (month2, day2):\n",
    "    n += 1\n",
    "print(zodiac_name[n])"
   ]
  },
  {
   "cell_type": "markdown",
   "metadata": {},
   "source": [
    "【解决方法：】加入 ```if``` 语句，排除掉这种可能的错误。"
   ]
  },
  {
   "cell_type": "code",
   "execution_count": 6,
   "metadata": {},
   "outputs": [
    {
     "name": "stdout",
     "output_type": "stream",
     "text": [
      "摩羯座\n"
     ]
    }
   ],
   "source": [
    "n = 0\n",
    "(month2, day2) = (12, 25)\n",
    "while zodiac_days[n] < (month2, day2):\n",
    "    if month2 == 12 and day2 > 23: # 提前判断进行终止，保持 n=0 的状态。个人认为把 while 写在 if 里面，会更有效率吧。\n",
    "        break # 此处的 break 终止的是所在的上级循环语句，即 while 语句\n",
    "    n += 1\n",
    "print(zodiac_name[n])"
   ]
  },
  {
   "cell_type": "markdown",
   "metadata": {},
   "source": [
    "---\n",
    "注：  \n",
    "个人微信公众号：codeAndWrite"
   ]
  }
 ],
 "metadata": {
  "kernelspec": {
   "display_name": "Python 3",
   "language": "python",
   "name": "python3"
  },
  "language_info": {
   "codemirror_mode": {
    "name": "ipython",
    "version": 3
   },
   "file_extension": ".py",
   "mimetype": "text/x-python",
   "name": "python",
   "nbconvert_exporter": "python",
   "pygments_lexer": "ipython3",
   "version": "3.5.5"
  }
 },
 "nbformat": 4,
 "nbformat_minor": 2
}
