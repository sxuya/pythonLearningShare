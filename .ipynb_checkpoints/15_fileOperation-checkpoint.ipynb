{
 "cells": [
  {
   "cell_type": "markdown",
   "metadata": {},
   "source": [
    "#  15.【Python学习分享文章】_file（文件）及其操作"
   ]
  },
  {
   "cell_type": "markdown",
   "metadata": {},
   "source": [
    "## 综述\n",
    "\n",
    "### - file（文件）的含义\n",
    "\n",
    "Python 中的 file 不止使用 PC 时所说的单个文件，比如 .txt、.exe 等这类文件，也包括“打开一个网址”、程序间的通信数据等，都抽象成 file 的概念。\n",
    "\n",
    "### - 好处\n",
    "\n",
    "所有的这些数据处理，可以通过一套相同的操作函数进行，简化文件操作逻辑，降低了学习难度。\n",
    "\n",
    "## 具体内容\n",
    "\n",
    "### - 基本读写操作\n",
    "\n",
    "以下是 Python 自带的文件操作函数（即“**内建函数**”）：\n",
    "\n",
    "1. open()  \n",
    "打开文件。如果没有文件，就会新建这个文件。\n",
    "2. read()  \n",
    "读取，官方：输入。输入到编写的程序里面\n",
    "3. readline()  \n",
    "输入一行\n",
    "4. seek()  \n",
    "文件内移动（光标操作位置）\n",
    "5. write()  \n",
    "写入，官方；输出。输出到其他文件中。\n",
    "6. close()  \n",
    "关闭文件。**一定要进行的操作**，否则文件是“**非保存**”状态，关机操作会丢失数据。\n",
    "\n",
    "### - 【写入文件】的 demo 说明\n",
    "\n",
    "#### 整体逻辑：\n",
    "\n",
    "open() --> write() --> close()  \n",
    "打开 --> 写入内容 --> 保存关闭文件\n",
    "\n",
    "#### 目标：\n",
    "\n",
    "记录常见的“英文名字”。\n",
    "\n",
    "【说明：】不采用中文，是因为中文的字符不是统一的，一个汉字是两个字符位，而标点是一个字符位，不容易理解。\n",
    "\n",
    "#### 打开（新建）文件：\n",
    "\n",
    "使用 ```open()``` 函数。"
   ]
  },
  {
   "cell_type": "code",
   "execution_count": 22,
   "metadata": {},
   "outputs": [
    {
     "name": "stdout",
     "output_type": "stream",
     "text": [
      "file_names 的文件 type 是：\n",
      "<class '_io.TextIOWrapper'>\n"
     ]
    }
   ],
   "source": [
    "# 记录常见的英文名字到 txt 文件中\n",
    "\n",
    "file_names = open('enNames.txt','w') # 需要添加‘’，说明为 操作标记，否则被认为是 变量\n",
    "\n",
    "print(\"file_names 的文件 type 是：\")\n",
    "print(type(file_names))"
   ]
  },
  {
   "cell_type": "markdown",
   "metadata": {},
   "source": [
    "- 过程解释：\n",
    "\n",
    "\n",
    "1. 最完整（冗杂）版本：  \n",
    "```open('enName.txt', mode = 'w')```  \n",
    "2. 简略（省略的）版本：  \n",
    "file 为第一个参数，mode 为第二个参数，不写参数名字，就默认按照参数顺序排列  \n",
    "```open('enName.txt', 'w')```  \n",
    "3. file 赋值给一个变量，使用变量操作文件:  \n",
    "```file_names = open('enName.txt','w')```  \n",
    "\n",
    "\n",
    "- “完整”的参数说明：\n",
    "\n",
    "    ```open(file, mode, buffering, encoding, errors, newline, ...)```\n",
    "\n",
    "- 参数名字解释：\n",
    "\n",
    "    ```open(file 是处理的文件名字，需要为 str 数据类型，只有这个是必填项（不然干嘛还用这个函数呢）；mode 是处理文件的模式，有 'r'（read 只读模式，不能修改里面的数据）、'w'（write 写入模式，清空内容写入）、'a'（不清楚原有内容的写入），不输入就用默认的 r 模式；buffering 后面这些暂时不需要用到，放过)```"
   ]
  },
  {
   "cell_type": "markdown",
   "metadata": {},
   "source": [
    "#### 向 file 内写入内容：\n",
    "\n",
    "使用 ```write``` 函数。"
   ]
  },
  {
   "cell_type": "code",
   "execution_count": 23,
   "metadata": {},
   "outputs": [
    {
     "data": {
      "text/plain": [
       "4"
      ]
     },
     "execution_count": 23,
     "metadata": {},
     "output_type": "execute_result"
    }
   ],
   "source": [
    "# 向 file_names 文件内写入 “John” 这个名字，string 类型的。\n",
    "file_names.write('John')"
   ]
  },
  {
   "cell_type": "markdown",
   "metadata": {},
   "source": [
    "#### 关闭、保存文件：\n",
    "\n",
    "使用 ```close()``` 函数。"
   ]
  },
  {
   "cell_type": "code",
   "execution_count": 24,
   "metadata": {},
   "outputs": [],
   "source": [
    "file_names.close()"
   ]
  },
  {
   "cell_type": "markdown",
   "metadata": {},
   "source": [
    "### - 【读取文件】的 demo 说明\n",
    "\n",
    "#### 整体逻辑：\n",
    "\n",
    "open() --> read() --> close()  \n",
    "打开 --> 读取内容 --> 保存关闭文件\n",
    "\n",
    "#### 目标：\n",
    "\n",
    "读取到文件内容，并进行打印输出。\n",
    "\n",
    "#### code："
   ]
  },
  {
   "cell_type": "code",
   "execution_count": 25,
   "metadata": {},
   "outputs": [
    {
     "name": "stdout",
     "output_type": "stream",
     "text": [
      "file_names.txt 的内容是：\n",
      "John\n"
     ]
    }
   ],
   "source": [
    "# 打开需要操作的文件，赋值给一个变量以便操作\n",
    "file_2 = open('enNames.txt') # 默认是 r 模式，所以不用书写\n",
    "# 读取 file_2 内容，也就是 file_names.txt 的内容\n",
    "# file_2.read()\n",
    "# 对读取的内容进行输出打印：\n",
    "print('file_names.txt 的内容是：')\n",
    "print(file_2.read())\n",
    "# 关闭保存文件\n",
    "file_2.close()"
   ]
  },
  {
   "cell_type": "markdown",
   "metadata": {},
   "source": [
    "### - 【增加内容】的 demo 说明\n",
    "\n",
    "#### 目标1：\n",
    "\n",
    "在文件原有的内容上增加内容。\n",
    "\n",
    "#### code："
   ]
  },
  {
   "cell_type": "code",
   "execution_count": 26,
   "metadata": {},
   "outputs": [
    {
     "name": "stdout",
     "output_type": "stream",
     "text": [
      "新增内容后的全部内容是：\n",
      "JohnBob\n"
     ]
    }
   ],
   "source": [
    "# 增加写入 ‘Bob’ 名字\n",
    "file_3 = open('enNames.txt','a')\n",
    "file_3.write('Bob')\n",
    "file_3.close()\n",
    "\n",
    "# 需要重新定义变量进行查看，原来的模式为 write，是 unreadable 状态\n",
    "file_4 = open('enNames.txt')\n",
    "\n",
    "print(\"新增内容后的全部内容是：\")\n",
    "print(file_4.read())\n",
    "file_4.close()"
   ]
  },
  {
   "cell_type": "markdown",
   "metadata": {},
   "source": [
    "#### 目标2：\n",
    "\n",
    "增加的内容在新的一行上。\n",
    "\n",
    "#### code："
   ]
  },
  {
   "cell_type": "code",
   "execution_count": 27,
   "metadata": {},
   "outputs": [
    {
     "name": "stdout",
     "output_type": "stream",
     "text": [
      "具有多行 string 的内容是：\n",
      "John\n",
      "Bob\n",
      "Jack\n",
      "Rose\n",
      "\n"
     ]
    }
   ],
   "source": [
    "file_5 = open('enNames.txt', 'w')\n",
    "file_5.write('John\\n')\n",
    "file_5.write('Bob\\n')\n",
    "file_5.write('Jack\\n')\n",
    "file_5.write('Rose\\n')\n",
    "file_5.close()\n",
    "\n",
    "file_6 = open('enNames.txt')\n",
    "\n",
    "print(\"具有多行 string 的内容是：\")\n",
    "print(file_6.read())\n",
    "file_6.close()"
   ]
  },
  {
   "cell_type": "markdown",
   "metadata": {},
   "source": [
    "### - 【逐行读取】的 demo 说明\n",
    "\n",
    "#### 目标1：\n",
    "\n",
    "逐行读取内容，以 string 类型的数据为例子。\n",
    "\n",
    "#### code："
   ]
  },
  {
   "cell_type": "code",
   "execution_count": 29,
   "metadata": {},
   "outputs": [
    {
     "name": "stdout",
     "output_type": "stream",
     "text": [
      "一行的内容是：\n",
      "John\n",
      "\n",
      "下一行的内容是：\n",
      "Bob\n",
      "\n"
     ]
    }
   ],
   "source": [
    "file_7 = open('enNames.txt')\n",
    "\n",
    "print('一行的内容是：')\n",
    "print(file_7.readline())\n",
    "print('下一行的内容是：')\n",
    "print(file_7.readline())\n",
    "\n",
    "file_7.close()"
   ]
  },
  {
   "cell_type": "markdown",
   "metadata": {},
   "source": [
    "#### 目标2：\n",
    "\n",
    "批量逐行读取内容，用到 ```for``` 函数。\n",
    "\n",
    "#### code："
   ]
  },
  {
   "cell_type": "code",
   "execution_count": 31,
   "metadata": {},
   "outputs": [
    {
     "name": "stdout",
     "output_type": "stream",
     "text": [
      "这行的内容是：John\n",
      "\n",
      "=*=*=*=\n",
      "这行的内容是：Bob\n",
      "\n",
      "=*=*=*=\n",
      "这行的内容是：Jack\n",
      "\n",
      "=*=*=*=\n",
      "这行的内容是：Rose\n",
      "\n",
      "=*=*=*=\n"
     ]
    }
   ],
   "source": [
    "file_8 = open('enNames.txt')\n",
    "for line in file_8.readlines():\n",
    "    print('这行的内容是：'+line)\n",
    "    print('=*=*=*=')\n",
    "    \n",
    "file_8.close()"
   ]
  },
  {
   "cell_type": "markdown",
   "metadata": {},
   "source": [
    "### - 定位指针指定位置\n",
    "\n",
    "【指针】：可以简单理解为我们进行 word 编辑的时候的那个“光标”，位置和 sequence 的下标一样，用数字表示。对应的“函数”是 ```tell()``` 。\n",
    "\n",
    "#### 目标1：\n",
    "\n",
    "获得指针位置信息。\n",
    "\n",
    "#### code："
   ]
  },
  {
   "cell_type": "code",
   "execution_count": 48,
   "metadata": {},
   "outputs": [
    {
     "name": "stdout",
     "output_type": "stream",
     "text": [
      "初始指针位置（应该是 0）：\n",
      "0\n",
      "读取3个字符，内容是：\n",
      "b'Joh'\n",
      "现在的指针位置是：\n",
      "3\n",
      "再读取4个字符，内容是（我不知道换行符是不是算一个字符）：\n",
      "b'n\\r\\nB'\n",
      "处理两次后，当前的指针位置：\n",
      "7\n"
     ]
    }
   ],
   "source": [
    "file_9 = open('enNames.txt', 'rb') # 需要增加 b 字符，才能在后面进行相对偏移的操作，否则没有权限。\n",
    "print('初始指针位置（应该是 0）：')\n",
    "print(file_9.tell())\n",
    "print(\"读取3个字符，内容是：\")\n",
    "print(file_9.read(3)) # read()默认是读取全部内容，增加的数字是指定读取的字符数量。\n",
    "print(\"现在的指针位置是：\")\n",
    "print(file_9.tell())\n",
    "print('再读取4个字符，内容是（我不知道换行符是不是算一个字符）：')\n",
    "print(file_9.read(4))\n",
    "print(\"处理两次后，当前的指针位置：\")\n",
    "print(file_9.tell())"
   ]
  },
  {
   "cell_type": "markdown",
   "metadata": {},
   "source": [
    "```mode = 'r'```的情况  \n",
    "【分析：】为什么最后是8，不应该是3+4=7的么？【猜想：】应该是换行符有点特别吧。\n",
    "\n",
    "```mode = 'rb```的情况  \n",
    "【分析：】打印的内容为什么出现```b''```字样？【基本猜测：】b 的意思是 binary mode，即 二级制，需要进行提醒。"
   ]
  },
  {
   "cell_type": "markdown",
   "metadata": {},
   "source": [
    "#### 目标2：\n",
    "\n",
    "将指针返回到文件开头。使用的是 ```seek()``` 函数。\n",
    "\n",
    "#### code:"
   ]
  },
  {
   "cell_type": "code",
   "execution_count": 49,
   "metadata": {},
   "outputs": [
    {
     "name": "stdout",
     "output_type": "stream",
     "text": [
      "我们进行了 seek() 的操作，seek（0）\n",
      "当前的指针位置是：\n",
      "0\n",
      "重新定位指针后，读取的两个字符内容是：\n",
      "b'Jo'\n",
      "读取完成后，当前的指针位置是：\n",
      "2\n"
     ]
    }
   ],
   "source": [
    "print(\"我们进行了 seek() 的操作，seek（0）\")\n",
    "file_9.seek(0) # 输入的数字是定位的位置的数字标记。\n",
    "print(\"当前的指针位置是：\")\n",
    "print(file_9.tell())\n",
    "print(\"重新定位指针后，读取的两个字符内容是：\")\n",
    "print(file_9.read(2))\n",
    "print(\"读取完成后，当前的指针位置是：\")\n",
    "print(file_9.tell())"
   ]
  },
  {
   "cell_type": "markdown",
   "metadata": {},
   "source": [
    "#### 目标3：\n",
    "\n",
    "在当前位置相对移动指针。\n",
    "\n",
    "#### code：\n",
    "\n",
    "接着上面，指针已经在 2 位置处。"
   ]
  },
  {
   "cell_type": "code",
   "execution_count": 50,
   "metadata": {},
   "outputs": [
    {
     "name": "stdout",
     "output_type": "stream",
     "text": [
      "当前位置偏移4个字符的 seek() 操作\n",
      "当前的指针位置是：6\n",
      "读取2个字符，内容是：b'Bo'\n",
      "从文件开头位置偏移3个字符的 seek() 操作\n",
      "当前的指针位置是：3\n",
      "读取2个字符，内容是：b'n\\r'\n",
      "从文件结尾位置偏移3个字符的 seek() 操作\n",
      "当前的指针位置是：20\n",
      "读取2个字符，内容是：b'e\\r'\n"
     ]
    }
   ],
   "source": [
    "print(\"当前位置偏移4个字符的 seek() 操作\")\n",
    "file_9.seek(4, 1)\n",
    "print(\"当前的指针位置是：%s\"%file_9.tell())\n",
    "print(\"读取2个字符，内容是：%s\"%file_9.read(2))\n",
    "\n",
    "print(\"从文件开头位置偏移3个字符的 seek() 操作\")\n",
    "file_9.seek(3, 0)\n",
    "print(\"当前的指针位置是：%s\"%file_9.tell())\n",
    "print(\"读取2个字符，内容是：%s\"%file_9.read(2))\n",
    "print(\"从文件结尾位置偏移3个字符的 seek() 操作\")\n",
    "file_9.seek(-3, 2)\n",
    "print(\"当前的指针位置是：%s\"%file_9.tell())\n",
    "print(\"读取2个字符，内容是：%s\"%file_9.read(2))"
   ]
  },
  {
   "cell_type": "markdown",
   "metadata": {},
   "source": [
    "\n",
    "---\n",
    "注：  \n",
    "个人微信公众号：codeAndWrite"
   ]
  }
 ],
 "metadata": {
  "kernelspec": {
   "display_name": "Python 3",
   "language": "python",
   "name": "python3"
  },
  "language_info": {
   "codemirror_mode": {
    "name": "ipython",
    "version": 3
   },
   "file_extension": ".py",
   "mimetype": "text/x-python",
   "name": "python",
   "nbconvert_exporter": "python",
   "pygments_lexer": "ipython3",
   "version": "3.5.5"
  }
 },
 "nbformat": 4,
 "nbformat_minor": 2
}
