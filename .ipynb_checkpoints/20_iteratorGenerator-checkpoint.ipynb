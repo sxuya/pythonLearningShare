{
 "cells": [
  {
   "cell_type": "markdown",
   "metadata": {},
   "source": [
    "# 20.【Python学习分享文章】_iterator（迭代器）&generator（生成器）"
   ]
  },
  {
   "cell_type": "markdown",
   "metadata": {},
   "source": [
    "## 综述\n",
    "\n",
    "还不太清楚有什么用。\n",
    "\n",
    "整体的表现就是可以一个一个排列地一次取出数据。取出一个数据，如果没有进行连续操作，下一个数据的提取会暂停，等待操作。\n",
    "\n",
    "**【个人理解】**  \n",
    "iterator（迭代器）：  \n",
    "无循环、单向、可暂停取出数据的一个东西。\n",
    "\n",
    "generator（生成器）：  \n",
    "通过一个特定方法 code 的iterator。"
   ]
  },
  {
   "cell_type": "markdown",
   "metadata": {},
   "source": [
    "## iterator（迭代器）\n",
    "\n",
    "定义？：能够实现依次处理数据的**函数**就是叫做迭代器。\n",
    "\n",
    "### - 基本方法 method\n",
    "\n",
    "method 也是函数，相当于函数的子函数，所以可能因为这个原因，就换做一个叫法（可能我的理解是不对的）。\n",
    "\n",
    "iterator（迭代器）两个基本 method：\n",
    "1. ```iter()```\n",
    "2. ```next()```\n",
    "\n",
    "#### -- 例子："
   ]
  },
  {
   "cell_type": "code",
   "execution_count": 37,
   "metadata": {},
   "outputs": [
    {
     "name": "stdout",
     "output_type": "stream",
     "text": [
      "<list_iterator object at 0x0000020F3783F668>\n",
      "smartian\n"
     ]
    }
   ],
   "source": [
    "aList = [\"smartian\", \"geek\", 10000, \"love\"]\n",
    "# print(aList)\n",
    "it = iter(aList)\n",
    "print(it) # 理解：也就是生成器默认不带数据，只有调用 next 才会产生数据？\n",
    "print(next(it)) # 之前都没有进行数据调用，所以 next 获取的是第0个数据"
   ]
  },
  {
   "cell_type": "code",
   "execution_count": 10,
   "metadata": {},
   "outputs": [
    {
     "name": "stdout",
     "output_type": "stream",
     "text": [
      "geek\n",
      "10000\n",
      "love\n"
     ]
    }
   ],
   "source": [
    "print(next(it)) # 接下来一个数据\n",
    "print(next(it)) # 再接下来一个数据\n",
    "print(next(it)) # 再接下来一个数据进行打印输出"
   ]
  },
  {
   "cell_type": "code",
   "execution_count": 11,
   "metadata": {},
   "outputs": [
    {
     "ename": "StopIteration",
     "evalue": "",
     "output_type": "error",
     "traceback": [
      "\u001b[1;31m---------------------------------------------------------------------------\u001b[0m",
      "\u001b[1;31mStopIteration\u001b[0m                             Traceback (most recent call last)",
      "\u001b[1;32m<ipython-input-11-3504ed077bb3>\u001b[0m in \u001b[0;36m<module>\u001b[1;34m()\u001b[0m\n\u001b[1;32m----> 1\u001b[1;33m \u001b[0mprint\u001b[0m\u001b[1;33m(\u001b[0m\u001b[0mnext\u001b[0m\u001b[1;33m(\u001b[0m\u001b[0mit\u001b[0m\u001b[1;33m)\u001b[0m\u001b[1;33m)\u001b[0m \u001b[1;31m# 因为 iterator 里面只有4个数据，再没有数据可以取出了，\u001b[0m\u001b[1;33m\u001b[0m\u001b[0m\n\u001b[0m\u001b[0;32m      2\u001b[0m \u001b[1;31m# StopIteration 就是“超出了迭代器的个数”，需要停止了\u001b[0m\u001b[1;33m\u001b[0m\u001b[1;33m\u001b[0m\u001b[0m\n",
      "\u001b[1;31mStopIteration\u001b[0m: "
     ]
    }
   ],
   "source": [
    "print(next(it)) # 因为 iterator 里面只有4个数据，再没有数据可以取出了，\n",
    "# StopIteration 就是“超出了迭代器的个数”，需要停止了"
   ]
  },
  {
   "cell_type": "markdown",
   "metadata": {},
   "source": [
    "### - 自带的简单 iterator\n",
    "\n",
    "也就是```range(start， stop， step)```\n",
    "\n",
    "#### -- 例子1：  \n",
    "默认 step（步长）=1的增加。"
   ]
  },
  {
   "cell_type": "code",
   "execution_count": 12,
   "metadata": {},
   "outputs": [
    {
     "name": "stdout",
     "output_type": "stream",
     "text": [
      "10\n",
      "11\n",
      "12\n",
      "13\n",
      "14\n"
     ]
    }
   ],
   "source": [
    "for i in range(10, 15):\n",
    "    print(i)"
   ]
  },
  {
   "cell_type": "markdown",
   "metadata": {},
   "source": [
    "#### -- 例子2：  \n",
    "修改 step 为其他数值。"
   ]
  },
  {
   "cell_type": "code",
   "execution_count": 13,
   "metadata": {},
   "outputs": [
    {
     "name": "stdout",
     "output_type": "stream",
     "text": [
      "10\n",
      "12\n",
      "14\n",
      "16\n"
     ]
    }
   ],
   "source": [
    "for i in range(10, 18, 2):\n",
    "    print(i)"
   ]
  },
  {
   "cell_type": "markdown",
   "metadata": {},
   "source": [
    "#### -- 反例3：  \n",
    "修改为 float（小数）的 step，```range()```是不支持的。"
   ]
  },
  {
   "cell_type": "code",
   "execution_count": 14,
   "metadata": {},
   "outputs": [
    {
     "ename": "TypeError",
     "evalue": "'float' object cannot be interpreted as an integer",
     "output_type": "error",
     "traceback": [
      "\u001b[1;31m---------------------------------------------------------------------------\u001b[0m",
      "\u001b[1;31mTypeError\u001b[0m                                 Traceback (most recent call last)",
      "\u001b[1;32m<ipython-input-14-78c49d4392e6>\u001b[0m in \u001b[0;36m<module>\u001b[1;34m()\u001b[0m\n\u001b[1;32m----> 1\u001b[1;33m \u001b[1;32mfor\u001b[0m \u001b[0mi\u001b[0m \u001b[1;32min\u001b[0m \u001b[0mrange\u001b[0m\u001b[1;33m(\u001b[0m\u001b[1;36m10\u001b[0m\u001b[1;33m,\u001b[0m \u001b[1;36m18\u001b[0m\u001b[1;33m,\u001b[0m \u001b[1;36m0.5\u001b[0m\u001b[1;33m)\u001b[0m\u001b[1;33m:\u001b[0m\u001b[1;33m\u001b[0m\u001b[0m\n\u001b[0m\u001b[0;32m      2\u001b[0m     \u001b[0mprint\u001b[0m\u001b[1;33m(\u001b[0m\u001b[0mi\u001b[0m\u001b[1;33m)\u001b[0m\u001b[1;33m\u001b[0m\u001b[0m\n",
      "\u001b[1;31mTypeError\u001b[0m: 'float' object cannot be interpreted as an integer"
     ]
    }
   ],
   "source": [
    "for i in range(10, 18, 0.5):\n",
    "    print(i)"
   ]
  },
  {
   "cell_type": "markdown",
   "metadata": {},
   "source": [
    "## generator（生成器）\n",
    "\n",
    "个人理解：  \n",
    "感觉像自己制作自己需要的 iterator，用一个特定的 method。\n",
    "\n",
    "### - 关键 method：\n",
    "```yield()```\n",
    "\n",
    "### - demo 说明\n",
    "#### -- 例子1：step 可为 float 的 range"
   ]
  },
  {
   "cell_type": "code",
   "execution_count": 43,
   "metadata": {},
   "outputs": [
    {
     "name": "stdout",
     "output_type": "stream",
     "text": [
      "10\n",
      "10.5\n",
      "11.0\n",
      "20\n",
      "20.5\n",
      "21.0\n",
      "21.5\n"
     ]
    }
   ],
   "source": [
    "def frange(start, stop, step):\n",
    "    tempX = start\n",
    "    while tempX < stop:\n",
    "        yield tempX\n",
    "        tempX += step\n",
    "\n",
    "it2 = frange(10, 14, 0.5)\n",
    "# print(list(it2)) # 写了这句可以得到list，\n",
    "# 但是生成器好像用完了，后面再 next 就会报 StopIterator 错误\n",
    "# 也就是说，迭代器&生成器是一次性的\n",
    "# print(it2)\n",
    "# it3 = iter(it2)\n",
    "# print(it3)\n",
    "print(next(it2))\n",
    "print(next(it2))\n",
    "print(next(it2))\n",
    "\n",
    "for i in frange(20, 22, 0.5):\n",
    "    print(i)"
   ]
  },
  {
   "cell_type": "markdown",
   "metadata": {},
   "source": [
    "#### -- 例子2：不使用 yield 的后果"
   ]
  },
  {
   "cell_type": "code",
   "execution_count": 46,
   "metadata": {},
   "outputs": [
    {
     "name": "stdout",
     "output_type": "stream",
     "text": [
      "3\n",
      "3.5\n",
      "4.0\n",
      "4.5\n",
      "41\n",
      "41.5\n",
      "42.0\n",
      "42.5\n"
     ]
    },
    {
     "ename": "TypeError",
     "evalue": "'NoneType' object is not iterable",
     "output_type": "error",
     "traceback": [
      "\u001b[1;31m---------------------------------------------------------------------------\u001b[0m",
      "\u001b[1;31mTypeError\u001b[0m                                 Traceback (most recent call last)",
      "\u001b[1;32m<ipython-input-46-9188e9da5bf6>\u001b[0m in \u001b[0;36m<module>\u001b[1;34m()\u001b[0m\n\u001b[0;32m      6\u001b[0m \u001b[1;33m\u001b[0m\u001b[0m\n\u001b[0;32m      7\u001b[0m \u001b[0mit4\u001b[0m \u001b[1;33m=\u001b[0m \u001b[0mfrange2\u001b[0m\u001b[1;33m(\u001b[0m\u001b[1;36m3\u001b[0m\u001b[1;33m,\u001b[0m \u001b[1;36m5\u001b[0m\u001b[1;33m,\u001b[0m \u001b[1;36m0.5\u001b[0m\u001b[1;33m)\u001b[0m\u001b[1;33m\u001b[0m\u001b[0m\n\u001b[1;32m----> 8\u001b[1;33m \u001b[1;32mfor\u001b[0m \u001b[0mi\u001b[0m \u001b[1;32min\u001b[0m \u001b[0mfrange2\u001b[0m\u001b[1;33m(\u001b[0m\u001b[1;36m41\u001b[0m\u001b[1;33m,\u001b[0m \u001b[1;36m43\u001b[0m\u001b[1;33m,\u001b[0m \u001b[1;36m0.5\u001b[0m\u001b[1;33m)\u001b[0m\u001b[1;33m:\u001b[0m\u001b[1;33m\u001b[0m\u001b[0m\n\u001b[0m\u001b[0;32m      9\u001b[0m     \u001b[0mi\u001b[0m \u001b[1;31m# 这个时候就没有可以用了。\u001b[0m\u001b[1;33m\u001b[0m\u001b[0m\n\u001b[0;32m     10\u001b[0m     \u001b[1;31m# for 语句应该是需要 iterator or generator的\u001b[0m\u001b[1;33m\u001b[0m\u001b[1;33m\u001b[0m\u001b[0m\n",
      "\u001b[1;31mTypeError\u001b[0m: 'NoneType' object is not iterable"
     ]
    }
   ],
   "source": [
    "def frange2(start, stop, step):\n",
    "    tempX = start\n",
    "    while tempX < stop:\n",
    "        print(tempX)\n",
    "        tempX += step\n",
    "        \n",
    "it4 = frange2(3, 5, 0.5)\n",
    "for i in frange2(41, 43, 0.5):\n",
    "    i # 这个时候就没有可以用了。\n",
    "    # for 语句应该是需要 iterator or generator的\n",
    "    # 现在记住就好，以后碰到深入理解再说吧。"
   ]
  },
  {
   "cell_type": "markdown",
   "metadata": {},
   "source": [
    "---\n",
    "注：  \n",
    "个人微信公众号：codeAndWrite"
   ]
  },
  {
   "cell_type": "code",
   "execution_count": null,
   "metadata": {},
   "outputs": [],
   "source": []
  }
 ],
 "metadata": {
  "kernelspec": {
   "display_name": "Python 3",
   "language": "python",
   "name": "python3"
  },
  "language_info": {
   "codemirror_mode": {
    "name": "ipython",
    "version": 3
   },
   "file_extension": ".py",
   "mimetype": "text/x-python",
   "name": "python",
   "nbconvert_exporter": "python",
   "pygments_lexer": "ipython3",
   "version": "3.5.5"
  }
 },
 "nbformat": 4,
 "nbformat_minor": 2
}
