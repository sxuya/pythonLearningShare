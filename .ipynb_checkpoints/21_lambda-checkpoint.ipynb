{
 "cells": [
  {
   "cell_type": "markdown",
   "metadata": {},
   "source": [
    "# 22.【Python学习分享文章】_lambda函数"
   ]
  },
  {
   "cell_type": "markdown",
   "metadata": {},
   "source": [
    "## 综述\n",
    "\n",
    "主要的目的是：使得代码优美。\n",
    "\n",
    "主要的用途是：简化简单的函数，复杂的函数就不在处理的范围里面了。\n",
    "\n",
    "## demo 解释\n",
    "\n",
    "主要的方式是：通过化简前后的对比进行说明。\n",
    "\n",
    "### - 例子1：返回型\n",
    "\n",
    "【原始函数】："
   ]
  },
  {
   "cell_type": "code",
   "execution_count": 3,
   "metadata": {},
   "outputs": [
    {
     "data": {
      "text/plain": [
       "True"
      ]
     },
     "execution_count": 3,
     "metadata": {},
     "output_type": "execute_result"
    }
   ],
   "source": [
    "def true():\n",
    "    return True\n",
    "\n",
    "true()"
   ]
  },
  {
   "cell_type": "markdown",
   "metadata": {},
   "source": [
    "个人感受：看到的这个教程的例子，感觉这个没有什么能够理解的，到底为什么这么出教程呢？大家看看过一遍就好了。\n",
    "\n",
    "这需要 lambda 的函数的特点：建立函数比直接引用还要复杂。（可能有些地方必须需要函数，但是又是简单的，如果没有 lambda 会不优美。）\n",
    "\n",
    "【lambda 型】\n",
    "\n",
    "【化简思路】\n",
    "\n",
    "步骤1.两行变成："
   ]
  },
  {
   "cell_type": "code",
   "execution_count": 2,
   "metadata": {},
   "outputs": [],
   "source": [
    "def true(): return True"
   ]
  },
  {
   "cell_type": "markdown",
   "metadata": {},
   "source": [
    "步骤2.精简函数名（其实就是不要了，因为这类函数简单，且一般只是一次性使用）"
   ]
  },
  {
   "cell_type": "code",
   "execution_count": null,
   "metadata": {},
   "outputs": [],
   "source": [
    "lambda : return True"
   ]
  },
  {
   "cell_type": "markdown",
   "metadata": {},
   "source": [
    "步骤3.省略 return 这个关键字。（也就是说，lambda 默认是 return 数据结果的，而不是 print）"
   ]
  },
  {
   "cell_type": "code",
   "execution_count": null,
   "metadata": {},
   "outputs": [],
   "source": [
    "lambda : True"
   ]
  },
  {
   "cell_type": "markdown",
   "metadata": {},
   "source": [
    "### - 例子2：简单计算\n",
    "\n",
    "目的：计算、返回两个数的和。\n",
    "\n",
    "【函数型】"
   ]
  },
  {
   "cell_type": "code",
   "execution_count": 4,
   "metadata": {},
   "outputs": [
    {
     "name": "stdout",
     "output_type": "stream",
     "text": [
      "9\n"
     ]
    }
   ],
   "source": [
    "def add(x, y):\n",
    "    return x+y\n",
    "\n",
    "print(add(4, 5))"
   ]
  },
  {
   "cell_type": "markdown",
   "metadata": {},
   "source": [
    "【lambda 型】"
   ]
  },
  {
   "cell_type": "code",
   "execution_count": 10,
   "metadata": {},
   "outputs": [
    {
     "data": {
      "text/plain": [
       "<function __main__.<lambda>(x, y)>"
      ]
     },
     "execution_count": 10,
     "metadata": {},
     "output_type": "execute_result"
    }
   ],
   "source": [
    "lambda x, y: x+y\n",
    "# 例子1 的函数没有参数，这个例子有\n",
    "# 省略的只是函数名字，参数的名字是要使用，所以不能省略。\n",
    "# 因为这个 lambda 应该是不能建立变量，所以这里只是展示他的结构。"
   ]
  },
  {
   "cell_type": "markdown",
   "metadata": {},
   "source": [
    "### - 例子3：还原 lambda 函数1\n",
    "\n",
    "【lambda 型】\n",
    "\n",
    "之前星座程序用过的一个（第7篇文章例子）："
   ]
  },
  {
   "cell_type": "code",
   "execution_count": null,
   "metadata": {},
   "outputs": [],
   "source": [
    "lambda x: x <= (month, day)"
   ]
  },
  {
   "cell_type": "markdown",
   "metadata": {},
   "source": [
    "【函数型】"
   ]
  },
  {
   "cell_type": "code",
   "execution_count": null,
   "metadata": {},
   "outputs": [],
   "source": [
    "def compare(x):\n",
    "    return x <= (month, day)"
   ]
  },
  {
   "cell_type": "markdown",
   "metadata": {},
   "source": [
    "### - 例子4：还原 lambda 函数2\n",
    "\n",
    "【lambda 型】"
   ]
  },
  {
   "cell_type": "code",
   "execution_count": null,
   "metadata": {},
   "outputs": [],
   "source": [
    "lambda item:item[1]"
   ]
  },
  {
   "cell_type": "markdown",
   "metadata": {},
   "source": [
    "【函数型】"
   ]
  },
  {
   "cell_type": "code",
   "execution_count": null,
   "metadata": {},
   "outputs": [],
   "source": [
    "def getFirst(item):\n",
    "    return item[1]"
   ]
  },
  {
   "cell_type": "markdown",
   "metadata": {},
   "source": [
    "## 总结\n",
    "\n",
    "1. lambda 函数主要用于函数、方法里面的简单处理的函数的代替；\n",
    "\n",
    "2. 不会作为单独使用；\n",
    "\n",
    "3. 具有临时性、一次性的特点。"
   ]
  },
  {
   "cell_type": "markdown",
   "metadata": {},
   "source": [
    "---\n",
    "注：  \n",
    "个人微信公众号：codeAndWrite"
   ]
  }
 ],
 "metadata": {
  "kernelspec": {
   "display_name": "Python 3",
   "language": "python",
   "name": "python3"
  },
  "language_info": {
   "codemirror_mode": {
    "name": "ipython",
    "version": 3
   },
   "file_extension": ".py",
   "mimetype": "text/x-python",
   "name": "python",
   "nbconvert_exporter": "python",
   "pygments_lexer": "ipython3",
   "version": "3.5.5"
  }
 },
 "nbformat": 4,
 "nbformat_minor": 2
}
