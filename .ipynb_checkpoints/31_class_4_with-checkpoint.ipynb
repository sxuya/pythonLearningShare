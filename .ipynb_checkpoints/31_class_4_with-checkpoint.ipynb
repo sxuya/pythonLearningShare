{
 "cells": [
  {
   "cell_type": "markdown",
   "metadata": {},
   "source": [
    "#  31.【Python学习分享文章】_with 自定义类的情况\n",
    "\n",
    "## 综述\n",
    "\n",
    "自定义信息，什么信息呢？使用某个 class类 的时候的，对使用和停止使用两个状态进行信息输出。"
   ]
  },
  {
   "cell_type": "markdown",
   "metadata": {},
   "source": [
    "## 想法来源\n",
    "\n",
    "对文件进行打开等操作的时候，会对“异常”进行处理，相应的完整语句是："
   ]
  },
  {
   "cell_type": "code",
   "execution_count": null,
   "metadata": {},
   "outputs": [],
   "source": [
    "f = open('fileName.txt', 'r')\n",
    "\n",
    "try:\n",
    "    r = f.read()\n",
    "except:  # 出现异常会进行的操作\n",
    "    pass  # 这里不进行操作，只是 pass 掉，让程序继续往下运行\n",
    "finally: # 无论正确还是错误，都进行的操作\n",
    "    f.close()  # 这里是进行文件的关闭，释放内存"
   ]
  },
  {
   "cell_type": "markdown",
   "metadata": {},
   "source": [
    "因为 Python 所追求的简洁语法的特点，就创造了如下的方法："
   ]
  },
  {
   "cell_type": "code",
   "execution_count": null,
   "metadata": {},
   "outputs": [],
   "source": [
    "with open('fileName', 'r') as f:\n",
    "    f.read()"
   ]
  },
  {
   "cell_type": "markdown",
   "metadata": {},
   "source": [
    "使用 ```with``` 语句，就默认自带文件的最终关闭操作。\n",
    "\n",
    "以此为准，出现了下面的类似的操作。"
   ]
  },
  {
   "cell_type": "markdown",
   "metadata": {},
   "source": [
    "## 使用 with 方法调用 class类\n",
    "\n",
    "### - 基本结构"
   ]
  },
  {
   "cell_type": "code",
   "execution_count": null,
   "metadata": {},
   "outputs": [],
   "source": [
    "class NewCreatedClassName():\n",
    "    def __enter__(self):  # class 初始化的时候会自动调用的特殊语句\n",
    "        pass  # 一个操作，这里用无害的 pass 代替、\n",
    "    def __exit__(self, exc_type, exc_val, exc_tb):  # class 结束的时候会自动调用的特殊语句\n",
    "        pass\n",
    "    \n",
    "with NewCreatedClassName():\n",
    "    pass  # 执行的操作、代码，需要的目的"
   ]
  },
  {
   "cell_type": "markdown",
   "metadata": {},
   "source": [
    "自动调用的两个语句：```__enter__```、```__exit__``` 和原先使用的初始化的特数语句 ```__init__``` 是一个意思。"
   ]
  },
  {
   "cell_type": "markdown",
   "metadata": {},
   "source": [
    "### - with 语句简单 demo（无异常）\n",
    "\n",
    "展示 ```__enter__```、```__exit__``` 的执行效果。如下："
   ]
  },
  {
   "cell_type": "code",
   "execution_count": 12,
   "metadata": {},
   "outputs": [
    {
     "name": "stdout",
     "output_type": "stream",
     "text": [
      "1.现在进入了，所以马上到这里，执行 __enter__ 这里的代码\n",
      "3.这里的内容是class之外的操作，是在开始确认使用类AClassWithWith、执行 __enter__ 后才执行的，\n",
      "4.执行完之后，就自动执行结束的 __exit__ 里面的内容，什么呢？如下：\n",
      "2.结束使用这个 class 时，会执行这里面的代码，用打印内容代替\n"
     ]
    }
   ],
   "source": [
    "class AClassWhatever():\n",
    "    def __init__(self):\n",
    "        pass\n",
    "    def __enter__(self):\n",
    "        print(\"1.现在进入了，所以马上到这里，执行 __enter__ 这里的代码\")\n",
    "    def __exit__(self, exc_type, exc_val, exc_tb):\n",
    "        print(\"2.结束使用这个 class 时，会执行这里面的代码，用打印内容代替\")\n",
    "        \n",
    "with AClassWhatever():\n",
    "    print(\"3.这里的内容是class之外的操作，是在开始确认使用类AClassWithWith、执行 __enter__ 后才执行的，\")\n",
    "    print(\"4.执行完之后，就自动执行结束的 __exit__ 里面的内容，什么呢？如下：\")"
   ]
  },
  {
   "cell_type": "markdown",
   "metadata": {},
   "source": [
    "【牢骚】：  \n",
    "我自己编写的解释demo，可能更好理解吧，新手就是不知道代码里面到底是什么，总是简称代指，真的着急费解。\n",
    "\n",
    "一直无法理解demo就是demo为什么非要那么简单呢？太简单了理解就多了，只有**信息冗余、互相关联**，才能表达明确的意思。\n",
    "\n",
    "学习课程介绍的代码：\n",
    "\n",
    "```\n",
    "class Testwith():\n",
    "    def __enter__(self):\n",
    "        print('run')\n",
    "    def __exit__(self, exc_type, exc_val, exc_ty):\n",
    "        print('exit')\n",
    "        \n",
    "with TestWith():\n",
    "    print('Test is running')\n",
    "```\n",
    "\n",
    "关键词有 exit，打印内容也出现 exit，不明白的人很容易被带乱了吧。"
   ]
  },
  {
   "cell_type": "markdown",
   "metadata": {},
   "source": [
    "### - with 语句有异常的处理方法\n",
    "\n",
    "如果 class类 发生了异常，那么 ```__exit__``` 里面的 ```exc_tb``` 这个属性值就会捕获错误的提示，获得 参数值，如果没有异常，就会是 ```None``` 这个参数值，判断关系使用 ```is``` 关键字。代码如下："
   ]
  },
  {
   "cell_type": "code",
   "execution_count": 16,
   "metadata": {},
   "outputs": [
    {
     "name": "stdout",
     "output_type": "stream",
     "text": [
      "运行这个class内容之前，会先执行这个内容\n",
      "开始类之外、这里的正文的内容，\n",
      "运行完前面的功能、离开这个class之前，用这里的代码作为结束\n",
      "there is error,it's <traceback object at 0x0000023EE169E508>\n"
     ]
    },
    {
     "ename": "NameError",
     "evalue": "随意写入的提示信息",
     "output_type": "error",
     "traceback": [
      "\u001b[1;31m---------------------------------------------------------------------------\u001b[0m",
      "\u001b[1;31mNameError\u001b[0m                                 Traceback (most recent call last)",
      "\u001b[1;32m<ipython-input-16-728b29d29f03>\u001b[0m in \u001b[0;36m<module>\u001b[1;34m()\u001b[0m\n\u001b[0;32m     13\u001b[0m \u001b[1;32mwith\u001b[0m \u001b[0mAClassWhatever\u001b[0m\u001b[1;33m(\u001b[0m\u001b[1;33m)\u001b[0m\u001b[1;33m:\u001b[0m\u001b[1;33m\u001b[0m\u001b[0m\n\u001b[0;32m     14\u001b[0m     \u001b[0mprint\u001b[0m\u001b[1;33m(\u001b[0m\u001b[1;34m\"开始类之外、这里的正文的内容，\"\u001b[0m\u001b[1;33m)\u001b[0m\u001b[1;33m\u001b[0m\u001b[0m\n\u001b[1;32m---> 15\u001b[1;33m     \u001b[1;32mraise\u001b[0m \u001b[0mNameError\u001b[0m\u001b[1;33m(\u001b[0m\u001b[1;34m'随意写入的提示信息'\u001b[0m\u001b[1;33m)\u001b[0m  \u001b[1;31m# 这里只是认为制造一个错误，程序会停止，具体情况看实际创建的代码了\u001b[0m\u001b[1;33m\u001b[0m\u001b[0m\n\u001b[0m",
      "\u001b[1;31mNameError\u001b[0m: 随意写入的提示信息"
     ]
    }
   ],
   "source": [
    "class AClassWhatever():\n",
    "    def __init__(self):\n",
    "        pass\n",
    "    def __enter__(self):\n",
    "        print(\"运行这个class内容之前，会先执行这个内容\")\n",
    "    def __exit__(self, exc_type, exc_val, exc_tb):\n",
    "        print(\"运行完前面的功能、离开这个class之前，用这里的代码作为结束\")\n",
    "        if exc_tb is None:\n",
    "            print(\"everything is OK~\")\n",
    "        else:\n",
    "            print(\"there is error,it's %s\" %exc_tb)\n",
    "        \n",
    "with AClassWhatever():\n",
    "    print(\"开始类之外、这里的正文的内容，\")\n",
    "    raise NameError('随意写入的提示信息')  # 这里只是认为制造一个错误，程序会停止，具体情况看实际创建的代码了"
   ]
  },
  {
   "cell_type": "markdown",
   "metadata": {},
   "source": [
    "## 总结\n",
    "\n",
    "并不清楚到底有什么使用的场景。。。这种教程完全看不懂这么隐晦的功能到底什么逻辑、使用作用。"
   ]
  },
  {
   "cell_type": "markdown",
   "metadata": {},
   "source": [
    "---\n",
    "注：  \n",
    "个人微信公众号：codeAndWrite"
   ]
  }
 ],
 "metadata": {
  "kernelspec": {
   "display_name": "Python 3",
   "language": "python",
   "name": "python3"
  },
  "language_info": {
   "codemirror_mode": {
    "name": "ipython",
    "version": 3
   },
   "file_extension": ".py",
   "mimetype": "text/x-python",
   "name": "python",
   "nbconvert_exporter": "python",
   "pygments_lexer": "ipython3",
   "version": "3.5.5"
  }
 },
 "nbformat": 4,
 "nbformat_minor": 2
}
