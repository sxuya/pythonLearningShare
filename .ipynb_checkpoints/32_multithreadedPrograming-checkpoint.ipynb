{
 "cells": [
  {
   "cell_type": "markdown",
   "metadata": {},
   "source": [
    "# 32.【Python学习分享文章】\\_multithreadedPrograming多线程编程_并发编程\n",
    "\n",
    "## 综述\n",
    "\n",
    "目的是为了提高计算机的硬件性能，从而减少程序的执行时间。\n",
    "\n",
    "相当于物理里面线路的连接问题：将串联的程序改变成并联的，一次进行的任务量会增加。\n",
    "\n",
    "“线程”的“线’相当于“排队”的“队”，排队买票当然是队伍越多速度越快。简单理解就是将多个任务的执行情况，从单线变成多线。但是火车站的售票窗口无能无限多，即队伍数量不会无限多，有场地的限制，计算机因为有硬件的限制，所以也不会无限多线程。\n",
    "\n",
    "总的思路就是：  \n",
    "1. 尽可能多开售票窗口，增加卖票速度；\n",
    "1. 尽可能充分利用硬件可以达到的最大线程，缩短程序运行时间。"
   ]
  },
  {
   "cell_type": "markdown",
   "metadata": {},
   "source": [
    "## 单线程 demo\n",
    "\n",
    "### - 创建一个基础线程作为讲解基础\n",
    "\n",
    "其实之前编写的程序都是单线程的执行过程，也就是串联的关系，一个程序语句执行完之后再执行下一个程序。"
   ]
  },
  {
   "cell_type": "code",
   "execution_count": 1,
   "metadata": {},
   "outputs": [
    {
     "name": "stdout",
     "output_type": "stream",
     "text": [
      "第一个参数是：1，第二个参数是：1\n",
      "第一个参数是：2，第二个参数是：4\n",
      "第一个参数是：3，第二个参数是：9\n",
      "第一个参数是：4，第二个参数是：16\n",
      "第一个参数是：5，第二个参数是：25\n"
     ]
    }
   ],
   "source": [
    "def basedThread(temp_a, temp_b):\n",
    "    print(\"第一个参数是：%s，第二个参数是：%s\" %(temp_a, temp_b))\n",
    "    \n",
    "for i in range(1, 6, 1):  # 包括前面不包括后面，第三个数字“1”是“递增量”\n",
    "    basedThread(i, i**2)"
   ]
  },
  {
   "cell_type": "markdown",
   "metadata": {},
   "source": [
    "【解释】：  \n",
    "for 语句执行过程的逻辑是“依次执行里面的内容，执行玩第i个情况之后，再执行第i+1个情况”，也就是单线程的方式。"
   ]
  },
  {
   "cell_type": "markdown",
   "metadata": {},
   "source": [
    "### - 显示单线程执行过程\n",
    "\n",
    "现在的计算机硬件太强了，对于这样的单线程程序，不到一眨眼的功夫就执行完了，和多线程的区别看不出来，所以为了放慢程序的执行过程，我们加入之前使用过的暂停（休眠）功能 ```sleep()```。"
   ]
  },
  {
   "cell_type": "code",
   "execution_count": 2,
   "metadata": {},
   "outputs": [
    {
     "name": "stdout",
     "output_type": "stream",
     "text": [
      "第一个参数是：1，第二个参数是：1\n",
      "暂停了1s\n",
      "第一个参数是：2，第二个参数是：4\n",
      "暂停了1s\n",
      "第一个参数是：3，第二个参数是：9\n",
      "暂停了1s\n",
      "第一个参数是：4，第二个参数是：16\n",
      "暂停了1s\n",
      "第一个参数是：5，第二个参数是：25\n",
      "暂停了1s\n"
     ]
    }
   ],
   "source": [
    "import time\n",
    "\n",
    "def basedThread(temp_a, temp_b):\n",
    "    print(\"第一个参数是：%s，第二个参数是：%s\" %(temp_a, temp_b))\n",
    "    time.sleep(1)  # 这里执行完之后，暂停1s\n",
    "    print(\"暂停了1s\")\n",
    "    \n",
    "for i in range(1, 6, 1):\n",
    "    basedThread(i, i**2)"
   ]
  },
  {
   "cell_type": "markdown",
   "metadata": {},
   "source": [
    "【解释】：  \n",
    "这个就需要自己在电脑上执行看看效果了。我们会看到，上面每一个操作（打印代替）是依次进行的，相当于一个人买完票，再下一个，是串联的关系。"
   ]
  },
  {
   "cell_type": "markdown",
   "metadata": {},
   "source": [
    "## 改编成多线程 multithread\n",
    "\n",
    "使用的是 Python3 里面的 ```threading``` 库，有些老旧的，比如```_thread``` 被取代了。\n",
    "\n",
    "### - 简单改编\n",
    "\n",
    "使用 ```threading``` 里面的 ```Thread()``` 功能。\n",
    "\n",
    "Thread(target, args):  \n",
    "1. target。使用的函数，输入函数名字\n",
    "2. args。传入函数的参数值，根据第1点传入的函数而输入。\n",
    "\n",
    "如下："
   ]
  },
  {
   "cell_type": "code",
   "execution_count": 3,
   "metadata": {},
   "outputs": [
    {
     "name": "stdout",
     "output_type": "stream",
     "text": [
      "第一个参数是：1，第二个参数是：1\n",
      "第一个参数是：2，第二个参数是：4\n",
      "第一个参数是：3，第二个参数是：9第一个参数是：4，第二个参数是：16\n",
      "\n",
      "第一个参数是：5，第二个参数是：25\n",
      "暂停了1s\n",
      "暂停了1s\n",
      "暂停了1s暂停了1s\n",
      "\n",
      "暂停了1s\n"
     ]
    }
   ],
   "source": [
    "import time, threading\n",
    "\n",
    "def basedThread(temp_a, temp_b):\n",
    "    print(\"第一个参数是：%s，第二个参数是：%s\" %(temp_a, temp_b))\n",
    "    time.sleep(1)  # 这里执行完之后，暂停1s\n",
    "    print(\"暂停了1s\")\n",
    "    \n",
    "for i in range(1, 6, 1):\n",
    "    t1 = threading.Thread(target=basedThread, args=(i, i**2))  ## 只是创建一个多线程程序\n",
    "    t1.start()  # 运行 t1 这个多线程程序"
   ]
  },
  {
   "cell_type": "markdown",
   "metadata": {},
   "source": [
    "【解释】：  \n",
    "因为是多线程是同步运行的，所以大家一起执行，所以是一起输出打印的第一个内容，然后休息1s，再一起输出打印的第二个内容。"
   ]
  },
  {
   "cell_type": "markdown",
   "metadata": {},
   "source": [
    "### - 线程运行的时候增加线程名字标志\n",
    "\n",
    "#### -- 单线程的："
   ]
  },
  {
   "cell_type": "code",
   "execution_count": 4,
   "metadata": {},
   "outputs": [
    {
     "name": "stdout",
     "output_type": "stream",
     "text": [
      "MainThread 这个线程开始啦~\n",
      "第一个参数是：1，第二个参数是：1\n",
      "MainThread 这个线程结束了\n",
      "MainThread 这个线程开始啦~\n",
      "第一个参数是：2，第二个参数是：4\n",
      "MainThread 这个线程结束了\n",
      "MainThread 这个线程开始啦~\n",
      "第一个参数是：3，第二个参数是：9\n",
      "MainThread 这个线程结束了\n",
      "MainThread 这个线程开始啦~\n",
      "第一个参数是：4，第二个参数是：16\n",
      "MainThread 这个线程结束了\n",
      "MainThread 这个线程开始啦~\n",
      "第一个参数是：5，第二个参数是：25\n",
      "MainThread 这个线程结束了\n"
     ]
    }
   ],
   "source": [
    "from threading import current_thread\n",
    "\n",
    "def basedThread(temp_a, temp_b):\n",
    "    print(current_thread().getName(),'这个线程开始啦~')  # 获取进程的名字，自己添加的注释（英文的话就是start）\n",
    "    print(\"第一个参数是：%s，第二个参数是：%s\" %(temp_a, temp_b))\n",
    "    time.sleep(2)\n",
    "    print(current_thread().getName(),'这个线程结束了')\n",
    "    \n",
    "for i in range(1, 6, 1):\n",
    "    basedThread(i, i**2)"
   ]
  },
  {
   "cell_type": "markdown",
   "metadata": {},
   "source": [
    "【解释】：  \n",
    "没有多线程，所以就一个线程，相当于电路里面的“干路”，这个线程就叫做主线程 MainThread。"
   ]
  },
  {
   "cell_type": "markdown",
   "metadata": {},
   "source": [
    "#### -- 多线程的："
   ]
  },
  {
   "cell_type": "code",
   "execution_count": 5,
   "metadata": {},
   "outputs": [
    {
     "name": "stdout",
     "output_type": "stream",
     "text": [
      "Thread-11Thread-12 这个线程开始啦~\n",
      "第一个参数是：1，第二个参数是：1\n",
      "Thread-13 这个线程开始啦~\n",
      "第一个参数是：3，第二个参数是：9\n",
      " 这个线程开始啦~\n",
      "第一个参数是：2，第二个参数是：4\n",
      "Thread-14 Thread-15MainThread 这个线程开始啦~\n",
      "第一个参数是：5，第二个参数是：25\n",
      "这个线程开始啦~ 都结束了\n",
      "\n",
      "第一个参数是：4，第二个参数是：16\n",
      "Thread-13Thread-11 这个线程结束了\n",
      " 这个线程结束了\n",
      "Thread-12 这个线程结束了\n",
      "Thread-15Thread-14 这个线程结束了 这个线程结束了\n",
      "\n"
     ]
    }
   ],
   "source": [
    "def basedThread(temp_a, temp_b):\n",
    "    print(current_thread().getName(),'这个线程开始啦~')  # 获取进程的名字，自己添加的注释（英文的话就是start）\n",
    "    print(\"第一个参数是：%s，第二个参数是：%s\" %(temp_a, temp_b))\n",
    "    time.sleep(2)\n",
    "    print(current_thread().getName(),'这个线程结束了')\n",
    "    \n",
    "for i in range(1, 6, 1):\n",
    "    t1 = threading.Thread(target=basedThread, args=(i, i**2))\n",
    "    t1.start()\n",
    "    \n",
    "print(current_thread().getName(), '都结束了')"
   ]
  },
  {
   "cell_type": "markdown",
   "metadata": {},
   "source": [
    "【解释】：  \n",
    "因为是jupyter一直在运行，所以进程应该是没有关闭的，所以进程的数字标志就在一直增加。"
   ]
  },
  {
   "cell_type": "markdown",
   "metadata": {},
   "source": [
    "## 多线程顺序整理\n",
    "\n",
    "【问题】：  \n",
    "上述的多线程的程序运行的结果中，我们可以看到，主线程MainThread 是先结束的，然后是（带数字的）子线程结束，顺序上不太符合我们的想法。\n",
    "\n",
    "【目的】：  \n",
    "建立依赖关系，使得线程的运行是和其他现成有“先后关系”的，也就是希望得到**“线程的同步”**，比如：一个线程的运行需要等待另外一个线程的结束。\n",
    "\n",
    "【控制方法】：  \n",
    "1. 使用“面向对象”的形式去编写；\n",
    "2. 使用 ```join()``` 的方法\n",
    "\n",
    "【背景/原理】：  \n",
    "1. ```Thread()``` start() 后，函数这个参数的条用，是进行了 ```run()``` 这个方法；\n",
    "2. 使用面向对象的方法，建立自己的类，这个类作为 Thread 的子类，继承所有的内容；\n",
    "3. 单独修改其中 ```run()``` 的方法，即 run 成为一个多态的方法。"
   ]
  },
  {
   "cell_type": "markdown",
   "metadata": {},
   "source": [
    "### - 1. 建立进程的类"
   ]
  },
  {
   "cell_type": "code",
   "execution_count": null,
   "metadata": {},
   "outputs": [],
   "source": [
    "import threading\n",
    "\n",
    "class MyNewThread(threading.Thread()):  # 建立一个自己的类，从 Thread 继承，作为其中一个子类\n",
    "    def run(self):\n",
    "        pass  # 搭建框架而已，内容应该是自己修改的内容。"
   ]
  },
  {
   "cell_type": "markdown",
   "metadata": {},
   "source": [
    "### - 2.修改自己需要的功能"
   ]
  },
  {
   "cell_type": "code",
   "execution_count": 6,
   "metadata": {},
   "outputs": [
    {
     "name": "stdout",
     "output_type": "stream",
     "text": [
      "Thread-16 这个线程开始了~\n",
      "run\n",
      "Thread-16 这个线程结束了！\n",
      "Thread-17 这个线程开始了~\n",
      "run\n",
      "Thread-17 这个线程结束了！\n",
      "Thread-18 这个线程开始了~\n",
      "run\n",
      "Thread-18 这个线程结束了！\n",
      "MainThread 主进程结束了！\n"
     ]
    }
   ],
   "source": [
    "from threading import current_thread  # 如果名字太长，建议使用 from...import... 的语句\n",
    "\n",
    "class MyNewThread(threading.Thread):  # 这里没有括号（）\n",
    "    def run(self):\n",
    "        print(current_thread().getName(),\"这个线程开始了~\")\n",
    "        print('run')\n",
    "        print(current_thread().getName(),\"这个线程结束了！\")\n",
    "\n",
    "for i in range(1, 4, 1):\n",
    "    t2 = MyNewThread()\n",
    "    t2.start()\n",
    "    t2.join()  # 没有太明白这个方法具体到底有什么用。\n",
    "    # 不写这句，MainThread 会乱跑，也就是并发处理看随机先打印谁，\n",
    "    # 写了这句，子线程会先全部处理，最后再去处理干路的 MainThread\n",
    "    \n",
    "print(current_thread().getName(),\"主进程结束了！\")"
   ]
  },
  {
   "cell_type": "markdown",
   "metadata": {},
   "source": [
    "## 总结\n",
    "\n",
    "多线程处理，就是 ```threading``` 这个库，遇到是后再寻找具体的方法了。"
   ]
  },
  {
   "cell_type": "markdown",
   "metadata": {},
   "source": [
    "---\n",
    "注：  \n",
    "个人微信公众号：codeAndWrite"
   ]
  }
 ],
 "metadata": {
  "kernelspec": {
   "display_name": "Python 3",
   "language": "python",
   "name": "python3"
  },
  "language_info": {
   "codemirror_mode": {
    "name": "ipython",
    "version": 3
   },
   "file_extension": ".py",
   "mimetype": "text/x-python",
   "name": "python",
   "nbconvert_exporter": "python",
   "pygments_lexer": "ipython3",
   "version": "3.5.5"
  }
 },
 "nbformat": 4,
 "nbformat_minor": 2
}
