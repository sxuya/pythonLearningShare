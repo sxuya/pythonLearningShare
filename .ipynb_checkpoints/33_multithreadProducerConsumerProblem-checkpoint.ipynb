{
 "cells": [
  {
   "cell_type": "markdown",
   "metadata": {},
   "source": [
    "# 33.【Python学习分享文章】_multithreadProducerConsumerProblem生产者消费者问题\n",
    "\n",
    "## 综述\n",
    "\n",
    "现实生活中的一个例子：  \n",
    "> 一个游泳池，有进水口和出水口，泳池的总水量既会增加、也会减少，并且是同步进行的。\n",
    "\n",
    "对应到编程里面就是：  \n",
    "> “泳池”就是“分配的硬盘空间”，“水”就是“数据”，“进水口”就是“产生数据的方法”，“出水口”就是“消耗数据的方法”，最后总是要看数据发生了什么变化，对数据进行控制。\n",
    "\n",
    "数据的产生和消耗，就是经典的**“生产者和消费者”问题**了。\n",
    "\n",
    "### - 使用的方法：\n",
    "\n",
    "#### -- 工具1：\n",
    "\n",
    "多线程编程，对应出水口和进水口可以同时工作的状态，所以需要多个线程同时进行了。\n",
    "\n",
    "#### -- 工具2：\n",
    "\n",
    "```queue```，即“队列的库”，对应泳池，需要以固定的容量作为基准，算是控制数据多少的数据容器尺寸。\n",
    "\n",
    "### - 背景例子：\n",
    "\n",
    "比如马上就要进行的双十一活动（反正我是尽量做到需要的东西随时购买，尽量远离这个“活动”），购买的时候多多少少就要和客服进行沟通确认，所有的“顾客”（生产者）发送消息，就生产的了一个“请求”数据，“客服”（消费者）就要回答消息，就消耗了一个请求。\n",
    "\n",
    "【泳池】：客服的数量不是无穷多，所以要控制消息的容量。（如果超出了容量，解决方法可以是额外开一个“泳池”先放着存储请求，等前一个泳池消耗完了再处理下面一个泳池）"
   ]
  },
  {
   "cell_type": "markdown",
   "metadata": {},
   "source": [
    "## queue 队列 概念\n",
    "\n",
    "### - 理解\n",
    "\n",
    "相当于一个 list，不过更对应的理解是“排队的队伍”，依次排序，从前开始处理、消耗数据（对应“结账”），处理完的数据就从 queue 里面消失（对应“结完账的顾客回家了，不用再进行结账了”）。\n",
    "\n",
    "### - demo\n",
    "\n",
    "如下：\n",
    "\n",
    "- 首先先创建一个 queue队列"
   ]
  },
  {
   "cell_type": "code",
   "execution_count": 1,
   "metadata": {},
   "outputs": [],
   "source": [
    "import queue  # 导入 queue 这个库进行使用\n",
    "\n",
    "myNewQueue = queue.Queue()  # 创建一个 Queue 类型的变量\n",
    "myNewQueue.put(\"banana\")  # put 就是增加一个数据\n",
    "myNewQueue.put(10086)  # 再 put 一个数据，就是想排队一样，排在了后面\n",
    "myNewQueue.put(\"love1024\")  # 同理，排在第3位"
   ]
  },
  {
   "cell_type": "markdown",
   "metadata": {},
   "source": [
    "- 在取出数据（可以跟着进行数据处理，这里不展开）"
   ]
  },
  {
   "cell_type": "code",
   "execution_count": 2,
   "metadata": {},
   "outputs": [
    {
     "data": {
      "text/plain": [
       "'banana'"
      ]
     },
     "execution_count": 2,
     "metadata": {},
     "output_type": "execute_result"
    }
   ],
   "source": [
    "myNewQueue.get()  # 取出排在第一个的数据，在 原queue 里面就消失了"
   ]
  },
  {
   "cell_type": "code",
   "execution_count": 3,
   "metadata": {},
   "outputs": [
    {
     "data": {
      "text/plain": [
       "10086"
      ]
     },
     "execution_count": 3,
     "metadata": {},
     "output_type": "execute_result"
    }
   ],
   "source": [
    "myNewQueue.get()  # 取出 queue 剩下的数据的第一个"
   ]
  },
  {
   "cell_type": "code",
   "execution_count": 4,
   "metadata": {},
   "outputs": [
    {
     "data": {
      "text/plain": [
       "'love1024'"
      ]
     },
     "execution_count": 4,
     "metadata": {},
     "output_type": "execute_result"
    }
   ],
   "source": [
    "myNewQueue.get()  #  同理"
   ]
  },
  {
   "cell_type": "markdown",
   "metadata": {},
   "source": [
    "如果再取数据呢？现在 myNewQueue 这个 queue 已经没有数据了，看看输出结果是什么。"
   ]
  },
  {
   "cell_type": "code",
   "execution_count": null,
   "metadata": {},
   "outputs": [],
   "source": [
    "myNewQueue.get()  # 运行这个会一直处于等待的状态，不要运行呦~"
   ]
  },
  {
   "cell_type": "markdown",
   "metadata": {},
   "source": [
    "【结果】：  \n",
    "没有响应，一直处于处理的状态，怎么办。。。使用 ```get_nowait()``` 方法。  \n",
    "如果使用上面这个方法，会报错，这时候就需要使用之前的“捕获错误”（try...except...finally...）的方法进行处理了。"
   ]
  },
  {
   "cell_type": "code",
   "execution_count": 5,
   "metadata": {},
   "outputs": [
    {
     "ename": "Empty",
     "evalue": "",
     "output_type": "error",
     "traceback": [
      "\u001b[1;31m---------------------------------------------------------------------------\u001b[0m",
      "\u001b[1;31mEmpty\u001b[0m                                     Traceback (most recent call last)",
      "\u001b[1;32m<ipython-input-5-82c6db71c36a>\u001b[0m in \u001b[0;36m<module>\u001b[1;34m()\u001b[0m\n\u001b[1;32m----> 1\u001b[1;33m \u001b[0mmyNewQueue\u001b[0m\u001b[1;33m.\u001b[0m\u001b[0mget_nowait\u001b[0m\u001b[1;33m(\u001b[0m\u001b[1;33m)\u001b[0m\u001b[1;33m\u001b[0m\u001b[0m\n\u001b[0m",
      "\u001b[1;32m~\\Anaconda2\\envs\\tensorflow\\lib\\queue.py\u001b[0m in \u001b[0;36mget_nowait\u001b[1;34m(self)\u001b[0m\n\u001b[0;32m    190\u001b[0m         \u001b[1;32mraise\u001b[0m \u001b[0mthe\u001b[0m \u001b[0mEmpty\u001b[0m \u001b[0mexception\u001b[0m\u001b[1;33m.\u001b[0m\u001b[1;33m\u001b[0m\u001b[0m\n\u001b[0;32m    191\u001b[0m         '''\n\u001b[1;32m--> 192\u001b[1;33m         \u001b[1;32mreturn\u001b[0m \u001b[0mself\u001b[0m\u001b[1;33m.\u001b[0m\u001b[0mget\u001b[0m\u001b[1;33m(\u001b[0m\u001b[0mblock\u001b[0m\u001b[1;33m=\u001b[0m\u001b[1;32mFalse\u001b[0m\u001b[1;33m)\u001b[0m\u001b[1;33m\u001b[0m\u001b[0m\n\u001b[0m\u001b[0;32m    193\u001b[0m \u001b[1;33m\u001b[0m\u001b[0m\n\u001b[0;32m    194\u001b[0m     \u001b[1;31m# Override these methods to implement other queue organizations\u001b[0m\u001b[1;33m\u001b[0m\u001b[1;33m\u001b[0m\u001b[0m\n",
      "\u001b[1;32m~\\Anaconda2\\envs\\tensorflow\\lib\\queue.py\u001b[0m in \u001b[0;36mget\u001b[1;34m(self, block, timeout)\u001b[0m\n\u001b[0;32m    159\u001b[0m             \u001b[1;32mif\u001b[0m \u001b[1;32mnot\u001b[0m \u001b[0mblock\u001b[0m\u001b[1;33m:\u001b[0m\u001b[1;33m\u001b[0m\u001b[0m\n\u001b[0;32m    160\u001b[0m                 \u001b[1;32mif\u001b[0m \u001b[1;32mnot\u001b[0m \u001b[0mself\u001b[0m\u001b[1;33m.\u001b[0m\u001b[0m_qsize\u001b[0m\u001b[1;33m(\u001b[0m\u001b[1;33m)\u001b[0m\u001b[1;33m:\u001b[0m\u001b[1;33m\u001b[0m\u001b[0m\n\u001b[1;32m--> 161\u001b[1;33m                     \u001b[1;32mraise\u001b[0m \u001b[0mEmpty\u001b[0m\u001b[1;33m\u001b[0m\u001b[0m\n\u001b[0m\u001b[0;32m    162\u001b[0m             \u001b[1;32melif\u001b[0m \u001b[0mtimeout\u001b[0m \u001b[1;32mis\u001b[0m \u001b[1;32mNone\u001b[0m\u001b[1;33m:\u001b[0m\u001b[1;33m\u001b[0m\u001b[0m\n\u001b[0;32m    163\u001b[0m                 \u001b[1;32mwhile\u001b[0m \u001b[1;32mnot\u001b[0m \u001b[0mself\u001b[0m\u001b[1;33m.\u001b[0m\u001b[0m_qsize\u001b[0m\u001b[1;33m(\u001b[0m\u001b[1;33m)\u001b[0m\u001b[1;33m:\u001b[0m\u001b[1;33m\u001b[0m\u001b[0m\n",
      "\u001b[1;31mEmpty\u001b[0m: "
     ]
    }
   ],
   "source": [
    "myNewQueue.get_nowait()"
   ]
  },
  {
   "cell_type": "markdown",
   "metadata": {},
   "source": [
    "## demo说明\n",
    "\n",
    "### - demo 如下："
   ]
  },
  {
   "cell_type": "code",
   "execution_count": 1,
   "metadata": {},
   "outputs": [],
   "source": [
    "from threading import Thread, current_thread\n",
    "import time, random\n",
    "from queue import Queue\n",
    "\n",
    "queueDemo = Queue(5)  # 定义一个队列，长度是5\n",
    "\n",
    "class ProducerThread(Thread):\n",
    "    def run(self):\n",
    "        name = current_thread().getName()  # 获取线程的名字\n",
    "        nums = range(100)  # 产生0~99的数字\n",
    "        global queueDemo\n",
    "        for i in range(5):\n",
    "            num = random.choice(nums)  # 随机选取一个数字作为生产者生产的数字\n",
    "            queueDemo.put(num)  # 将上面生产的数字放入到队列 queueDemo 中\n",
    "            print('生产者 %s 生产了数据： %s' %(name, num))  # 打印信息\n",
    "            t = random.randint(1, 3)  # 随机选择一个休眠/暂停的时间\n",
    "            time.sleep(t)  # 按照选取的长度进行休眠\n",
    "            print('生产者 %s 睡眠了 %s 秒' %(name, t))  # 打印休眠信息\n",
    "\n",
    "class ConsumerThread(Thread):\n",
    "    def run(self):\n",
    "        name = current_thread().getName()\n",
    "        global queueDemo\n",
    "        for i in range(5):\n",
    "            num = queueDemo.get()  # 消费队列 queueDemo 里面第一个数字\n",
    "            queueDemo.task_done()  # 封装好了线程的 等待、同步 的问题，直接拿过来常用\n",
    "            print('消费者 %s 消耗了数据：%s' %(name, num))\n",
    "            t = random.randint(1, 5)\n",
    "            time.sleep(t)\n",
    "            print('消费者 %s 休眠了 %s 秒' %(name, t))"
   ]
  },
  {
   "cell_type": "markdown",
   "metadata": {},
   "source": [
    "### - 情况1：生产少，消费多"
   ]
  },
  {
   "cell_type": "code",
   "execution_count": 3,
   "metadata": {},
   "outputs": [
    {
     "name": "stdout",
     "output_type": "stream",
     "text": [
      "生产者 p1 生产了数据： 47\n",
      "消费者 c2 消耗了数据：47\n",
      "生产者 p1 睡眠了 3 秒\n",
      "生产者 p1 生产了数据： 25消费者 c1 消耗了数据：25\n",
      "\n",
      "消费者 c2 休眠了 4 秒\n",
      "生产者 p1 睡眠了 2 秒\n",
      "生产者 p1 生产了数据： 75\n",
      "消费者 c1 消耗了数据：75\n",
      "消费者 c1 休眠了 3 秒\n",
      "生产者 p1 睡眠了 1 秒\n",
      "生产者 p1 生产了数据： 5消费者 c2 消耗了数据：5\n",
      "\n",
      "消费者 c1 休眠了 3 秒\n",
      "生产者 p1 睡眠了 2 秒\n",
      "生产者 p1 生产了数据： 88消费者 c2 消耗了数据：88\n",
      "\n",
      "消费者 c2 休眠了 1 秒\n",
      "消费者 c2 休眠了 4 秒\n",
      "生产者 p1 睡眠了 2 秒\n"
     ]
    }
   ],
   "source": [
    "p1 = ProducerThread(name = 'p1')\n",
    "p1.start()\n",
    "c1 = ConsumerThread(name = 'c1')\n",
    "c1.start()\n",
    "c2 = ConsumerThread(name = 'c2')\n",
    "c2.start()"
   ]
  },
  {
   "cell_type": "markdown",
   "metadata": {},
   "source": [
    "【解释】：  \n",
    "数据生产得慢，消耗得快，c1 和 c2 轮流消耗 p1 生产出来的数据。"
   ]
  },
  {
   "cell_type": "markdown",
   "metadata": {},
   "source": [
    "### - 情况2：生产多， 消费少\n",
    "\n",
    "【注意】：  \n",
    "在 jupyterNotebook 里面运行下面这个代码是，要点击上方的“Kernel”-“Restart”，将程序注销重新运行。  \n",
    "【原因】：  \n",
    "无法像其他编辑器一样有“停止”按钮，所以上面运行的 p1、c2、c3 还在，会影响下面的代码。为什么还会在呢？我现在的水平是无法回答的。  \n",
    "【补充】：  \n",
    "或者，既然原先的 p1、c1、c2不消失，那么就直接只增加 p2、p3就好了嘛。"
   ]
  },
  {
   "cell_type": "code",
   "execution_count": 2,
   "metadata": {},
   "outputs": [
    {
     "name": "stdout",
     "output_type": "stream",
     "text": [
      "生产者 p2 生产了数据： 20\n",
      "生产者 p3 生产了数据： 87消费者 c3 消耗了数据：20\n",
      "\n",
      "消费者 c3 休眠了 1 秒\n",
      "消费者 c3 消耗了数据：87\n",
      "生产者 p2 睡眠了 2 秒\n",
      "生产者 p2 生产了数据： 15\n",
      "生产者 p3 睡眠了 3 秒\n",
      "生产者 p3 生产了数据： 29\n",
      "生产者 p2 睡眠了 2 秒\n",
      "生产者 p2 生产了数据： 73\n",
      "生产者 p3 睡眠了 1 秒\n",
      "生产者 p3 生产了数据： 61\n",
      "生产者 p2 睡眠了 1 秒\n",
      "生产者 p2 生产了数据： 7\n",
      "消费者 c3 休眠了 5 秒\n",
      "消费者 c3 消耗了数据：15\n",
      "生产者 p3 睡眠了 2 秒\n",
      "生产者 p3 生产了数据： 68\n",
      "生产者 p2 睡眠了 2 秒\n",
      "消费者 c3 休眠了 2 秒\n",
      "消费者 c3 消耗了数据：29\n",
      "生产者 p2 生产了数据： 95\n",
      "生产者 p3 睡眠了 3 秒\n",
      "生产者 p2 睡眠了 2 秒消费者 c3 休眠了 2 秒\n",
      "\n",
      "消费者 c3 消耗了数据：73生产者 p3 生产了数据： 51\n",
      "\n",
      "消费者 c3 休眠了 2 秒\n",
      "生产者 p3 睡眠了 3 秒\n"
     ]
    }
   ],
   "source": [
    "p2 = ProducerThread(name='p2')\n",
    "p2.start()\n",
    "p3 = ProducerThread(name='p3')\n",
    "p3.start()\n",
    "c3 = ConsumerThread(name='c3')\n",
    "c3.start()"
   ]
  },
  {
   "cell_type": "markdown",
   "metadata": {},
   "source": [
    "【解释】：  \n",
    "生产者 p2 和 p3 依次产生了数据：20、87、15、29、73、61、7、68、95、51  \n",
    "消费者 c3 依次消耗了：20、87、15、29、73\n",
    "\n",
    "【验证】：  \n",
    "如果推到正确，那么接下来如果取出数据的话，应该是 61，如下：\n",
    "\n",
    "【注】：因为是随机的，所以上面所说的数字数据，只是我现在运行的结果，每个人、每次运行的结果都是不一样的。"
   ]
  },
  {
   "cell_type": "code",
   "execution_count": 3,
   "metadata": {},
   "outputs": [
    {
     "name": "stdout",
     "output_type": "stream",
     "text": [
      "61\n"
     ]
    }
   ],
   "source": [
    "print(queueDemo.get())"
   ]
  },
  {
   "cell_type": "markdown",
   "metadata": {},
   "source": [
    "【结果】：  \n",
    "NICE！对的。"
   ]
  },
  {
   "cell_type": "markdown",
   "metadata": {},
   "source": [
    "---\n",
    "注：  \n",
    "个人微信公众号：codeAndWrite"
   ]
  }
 ],
 "metadata": {
  "kernelspec": {
   "display_name": "Python 3",
   "language": "python",
   "name": "python3"
  },
  "language_info": {
   "codemirror_mode": {
    "name": "ipython",
    "version": 3
   },
   "file_extension": ".py",
   "mimetype": "text/x-python",
   "name": "python",
   "nbconvert_exporter": "python",
   "pygments_lexer": "ipython3",
   "version": "3.5.5"
  }
 },
 "nbformat": 4,
 "nbformat_minor": 2
}
