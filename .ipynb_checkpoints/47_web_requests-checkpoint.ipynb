{
 "cells": [
  {
   "cell_type": "markdown",
   "metadata": {},
   "source": [
    "# 7. 【Python学习分享文章】\\_webData_requests\n",
    "\n",
    "## 综述\n",
    "\n",
    "requests 是第三方库，所以是需要自己安装的，在命令窗口输入 ```pip install requests``` 安装即可。"
   ]
  },
  {
   "cell_type": "markdown",
   "metadata": {},
   "source": [
    "## 代码演示\n",
    "\n",
    "### - get 形式上传数据\n",
    "\n",
    "代码如下："
   ]
  },
  {
   "cell_type": "code",
   "execution_count": 1,
   "metadata": {},
   "outputs": [
    {
     "name": "stdout",
     "output_type": "stream",
     "text": [
      "{\n",
      "  \"args\": {\n",
      "    \"key\": \"value\", \n",
      "    \"username\": \"sxuya\"\n",
      "  }, \n",
      "  \"headers\": {\n",
      "    \"Accept\": \"*/*\", \n",
      "    \"Accept-Encoding\": \"gzip, deflate\", \n",
      "    \"Host\": \"httpbin.org\", \n",
      "    \"User-Agent\": \"python-requests/2.18.4\"\n",
      "  }, \n",
      "  \"origin\": \"121.8.227.29, 121.8.227.29\", \n",
      "  \"url\": \"https://httpbin.org/get?key=value&username=sxuya\"\n",
      "}\n",
      "\n"
     ]
    }
   ],
   "source": [
    "import requests\n",
    "\n",
    "url = 'http://httpbin.org/get'\n",
    "data = {'key':'value', 'username':'sxuya'}\n",
    "# 方便的地方是：data 数据不用自己加工处理，库的.get方法自动进行处理。\n",
    "response = requests.get(url, data)\n",
    "print(response.text)  # 不是 .read()，而是库里面的 .text 方法，显示成“文本格式”"
   ]
  },
  {
   "cell_type": "markdown",
   "metadata": {},
   "source": [
    "【结果说明】  \n",
    "和之前用 urllib 得到的结果是一样的。"
   ]
  },
  {
   "cell_type": "markdown",
   "metadata": {},
   "source": [
    "### - post 形式上传数据\n",
    "\n",
    "代码如下："
   ]
  },
  {
   "cell_type": "code",
   "execution_count": 2,
   "metadata": {},
   "outputs": [
    {
     "name": "stdout",
     "output_type": "stream",
     "text": [
      "{'data': '', 'args': {}, 'headers': {'Host': 'httpbin.org', 'Content-Type': 'application/x-www-form-urlencoded', 'Accept': '*/*', 'User-Agent': 'python-requests/2.18.4', 'Content-Length': '24', 'Accept-Encoding': 'gzip, deflate'}, 'origin': '121.8.227.29, 121.8.227.29', 'form': {'key': 'value', 'username': 'sxuya'}, 'files': {}, 'json': None, 'url': 'https://httpbin.org/post'}\n"
     ]
    }
   ],
   "source": [
    "url_post = 'http://httpbin.org/post'\n",
    "response_post = requests.post(url_post, data)\n",
    "print(response_post.json())\n",
    "# 另外一种格式，我现在也不找到这种格式有什么用，\n",
    "# 反正就是说，这个库，可以方便转化成很多不同形式的数据。"
   ]
  },
  {
   "cell_type": "markdown",
   "metadata": {},
   "source": [
    "【结果说明】  \n",
    "同样的，使用 requests 库后，打码的可读性得到很大的提升，不用将精力放在很多对于初学者来说很晦涩的底层代码的转化、编写。"
   ]
  },
  {
   "cell_type": "markdown",
   "metadata": {},
   "source": [
    "---\n",
    "注：  \n",
    "个人微信公众号：codeAndWrite"
   ]
  }
 ],
 "metadata": {
  "kernelspec": {
   "display_name": "Python 3",
   "language": "python",
   "name": "python3"
  },
  "language_info": {
   "codemirror_mode": {
    "name": "ipython",
    "version": 3
   },
   "file_extension": ".py",
   "mimetype": "text/x-python",
   "name": "python",
   "nbconvert_exporter": "python",
   "pygments_lexer": "ipython3",
   "version": "3.5.5"
  }
 },
 "nbformat": 4,
 "nbformat_minor": 2
}
