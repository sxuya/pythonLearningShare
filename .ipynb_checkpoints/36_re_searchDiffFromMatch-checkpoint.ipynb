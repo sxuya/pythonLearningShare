{
 "cells": [
  {
   "cell_type": "markdown",
   "metadata": {},
   "source": [
    "# 【Python学习分享文章】_re_search_搜索\n",
    "\n",
    "## 综述\n",
    "\n",
    ".search() 和 .match() 功能很像，目标都是匹配。\n",
    "\n",
    "但是如果准确去翻译的话，我的理解的翻译应该是：\n",
    "- match，验证形式完全一致，从头开始。\n",
    "- 寻找到形式一样的内容，无论从哪个位置开始都可以。\n",
    "\n",
    "比较正统的翻译：\n",
    "- match，匹配。\n",
    "- search，搜索。突然想到，一个可能更好的翻译：“检索”。\n",
    "\n",
    "我觉得看看就好，英文的表达的意思会和中文有区别，有些是无法用词语翻译词语的，私以为。\n",
    "\n",
    "### - 目的\n",
    "\n",
    "- match。完全匹配数据。\n",
    "- search。不完全匹配。\n",
    "\n",
    "\n",
    "### - 使用前提\n",
    "\n",
    "- ```match```  \n",
    "构建代码之前，已知、确认手里数据的结构\n",
    "- ```search```  \n",
    "未知上述内容"
   ]
  },
  {
   "cell_type": "markdown",
   "metadata": {},
   "source": [
    "## ```.match()``` 困境\n",
    "\n",
    "如果数据结构有一点点无关字符，就完全无法使用了。demo 如下："
   ]
  },
  {
   "cell_type": "code",
   "execution_count": 4,
   "metadata": {},
   "outputs": [
    {
     "ename": "AttributeError",
     "evalue": "'NoneType' object has no attribute 'groups'",
     "output_type": "error",
     "traceback": [
      "\u001b[1;31m---------------------------------------------------------------------------\u001b[0m",
      "\u001b[1;31mAttributeError\u001b[0m                            Traceback (most recent call last)",
      "\u001b[1;32m<ipython-input-4-c6fd9c5fb850>\u001b[0m in \u001b[0;36m<module>\u001b[1;34m()\u001b[0m\n\u001b[0;32m      2\u001b[0m \u001b[1;33m\u001b[0m\u001b[0m\n\u001b[0;32m      3\u001b[0m \u001b[0mp\u001b[0m \u001b[1;33m=\u001b[0m \u001b[0mre\u001b[0m\u001b[1;33m.\u001b[0m\u001b[0mcompile\u001b[0m\u001b[1;33m(\u001b[0m\u001b[1;34mr'(\\d+)-(\\d+)-(\\d+)'\u001b[0m\u001b[1;33m)\u001b[0m\u001b[1;33m\u001b[0m\u001b[0m\n\u001b[1;32m----> 4\u001b[1;33m \u001b[0mprint\u001b[0m\u001b[1;33m(\u001b[0m\u001b[0mp\u001b[0m\u001b[1;33m.\u001b[0m\u001b[0mmatch\u001b[0m\u001b[1;33m(\u001b[0m\u001b[1;34m'aa2018-11-01'\u001b[0m\u001b[1;33m)\u001b[0m\u001b[1;33m.\u001b[0m\u001b[0mgroups\u001b[0m\u001b[1;33m(\u001b[0m\u001b[1;33m)\u001b[0m\u001b[1;33m)\u001b[0m\u001b[1;33m\u001b[0m\u001b[0m\n\u001b[0m",
      "\u001b[1;31mAttributeError\u001b[0m: 'NoneType' object has no attribute 'groups'"
     ]
    }
   ],
   "source": [
    "import re\n",
    "\n",
    "p = re.compile(r'(\\d+)-(\\d+)-(\\d+)')\n",
    "print(p.match('aa2018-11-01').groups())"
   ]
  },
  {
   "cell_type": "markdown",
   "metadata": {},
   "source": [
    "【解读】：  \n",
    "无法获得分组情况。  \n",
    "【困境】：  \n",
    "时间格式的部分是正确的，但是因为方法的功能并不是万能的，导致眼前的“好数据”就这么被错过了。“我们不能让这样的事情发生，要想办法解决”。于是，就有了 .search() 这个方法了。   \n",
    "【思考】：  \n",
    "但是前提还是要保证整体连贯的数据是正确的，只能是头部的前面出现其他字符，尾巴出现其实没有影响，因为默认是无关数据，自动忽略了。  \n",
    "【验证】：如果中间的月份有字母参杂进去，还能使用么？后面看看能不能验证一下。"
   ]
  },
  {
   "cell_type": "markdown",
   "metadata": {},
   "source": [
    "## ```.search()``` 搜寻\n",
    "\n",
    "和 ```.match()``` 很像，但是不需要完全匹配。两者的区别是：\n",
    "1. ```.match()``` **必须**从第一个字符开始，所有位置字符均相同才能匹配；\n",
    "2. ```.search()```就像大家平时理解的那样，从前往后依次检索，找到整体连续的内容满足要求即可，不需要从第一位开始。\n",
    "\n",
    "简单理解可以说是：\n",
    "1. ```.match()``` 是从头就完全相同；\n",
    "2. ```.search()``` 是包含内容即可。\n",
    "\n",
    "demo 如下："
   ]
  },
  {
   "cell_type": "code",
   "execution_count": 5,
   "metadata": {},
   "outputs": [
    {
     "name": "stdout",
     "output_type": "stream",
     "text": [
      "('2018', '11', '01')\n"
     ]
    }
   ],
   "source": [
    "p_s = re.compile(r'(\\d+)-(\\d+)-(\\d+)')\n",
    "print(p_s.search('aa2018-11-01').groups())"
   ]
  },
  {
   "cell_type": "markdown",
   "metadata": {},
   "source": [
    "【分析】：  \n",
    "我们可以看到，即使前面有其他数据，也会略过，向后找到了完整的、满足规则的数据结构，然后进行输出了。"
   ]
  },
  {
   "cell_type": "markdown",
   "metadata": {},
   "source": [
    "## 总结\n",
    "\n",
    "### - 使用方法\n",
    "\n",
    "- ```.search()``` 在数据中找到目标数据；\n",
    "- ```.match()``` 一般会用作完全匹配之后，进行分组使用。\n"
   ]
  },
  {
   "cell_type": "markdown",
   "metadata": {},
   "source": [
    "## 补充\n",
    "\n",
    "之前的【验证】的观察。\n",
    "\n",
    "既然 ```.search()``` 可以忽略无关数据，那么中间有其他数据，行不行呢？我的判断是不行的。验证如下："
   ]
  },
  {
   "cell_type": "code",
   "execution_count": 6,
   "metadata": {},
   "outputs": [
    {
     "ename": "AttributeError",
     "evalue": "'NoneType' object has no attribute 'groups'",
     "output_type": "error",
     "traceback": [
      "\u001b[1;31m---------------------------------------------------------------------------\u001b[0m",
      "\u001b[1;31mAttributeError\u001b[0m                            Traceback (most recent call last)",
      "\u001b[1;32m<ipython-input-6-92bb3e3bf29f>\u001b[0m in \u001b[0;36m<module>\u001b[1;34m()\u001b[0m\n\u001b[0;32m      1\u001b[0m \u001b[0mp_try\u001b[0m \u001b[1;33m=\u001b[0m \u001b[0mre\u001b[0m\u001b[1;33m.\u001b[0m\u001b[0mcompile\u001b[0m\u001b[1;33m(\u001b[0m\u001b[1;34mr'(\\d+)-(\\d+)-(\\d+)'\u001b[0m\u001b[1;33m)\u001b[0m\u001b[1;33m\u001b[0m\u001b[0m\n\u001b[1;32m----> 2\u001b[1;33m \u001b[0mprint\u001b[0m\u001b[1;33m(\u001b[0m\u001b[0mp_try\u001b[0m\u001b[1;33m.\u001b[0m\u001b[0msearch\u001b[0m\u001b[1;33m(\u001b[0m\u001b[1;34m'aa2018-a11-01'\u001b[0m\u001b[1;33m)\u001b[0m\u001b[1;33m.\u001b[0m\u001b[0mgroups\u001b[0m\u001b[1;33m(\u001b[0m\u001b[1;33m)\u001b[0m\u001b[1;33m)\u001b[0m\u001b[1;33m\u001b[0m\u001b[0m\n\u001b[0m",
      "\u001b[1;31mAttributeError\u001b[0m: 'NoneType' object has no attribute 'groups'"
     ]
    }
   ],
   "source": [
    "p_try = re.compile(r'(\\d+)-(\\d+)-(\\d+)')\n",
    "print(p_try.search('aa2018-a11-01').groups())"
   ]
  },
  {
   "cell_type": "markdown",
   "metadata": {},
   "source": [
    "【分析】：  \n",
    "是的，不行，即使是 ```.search()```，也需要保证满足规则的数据是要连续的，要不然，分散的数据都可以被识别，也就没有准确性了嘛。"
   ]
  },
  {
   "cell_type": "markdown",
   "metadata": {},
   "source": [
    "---\n",
    "注：  \n",
    "个人微信公众号：codeAndWrite"
   ]
  }
 ],
 "metadata": {
  "kernelspec": {
   "display_name": "Python 3",
   "language": "python",
   "name": "python3"
  },
  "language_info": {
   "codemirror_mode": {
    "name": "ipython",
    "version": 3
   },
   "file_extension": ".py",
   "mimetype": "text/x-python",
   "name": "python",
   "nbconvert_exporter": "python",
   "pygments_lexer": "ipython3",
   "version": "3.5.5"
  }
 },
 "nbformat": 4,
 "nbformat_minor": 2
}
