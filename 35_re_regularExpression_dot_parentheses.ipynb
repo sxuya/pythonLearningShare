{
 "cells": [
  {
   "cell_type": "markdown",
   "metadata": {},
   "source": [
    "# 【Python学习分享文章】_re_详细介绍"
   ]
  },
  {
   "cell_type": "markdown",
   "metadata": {},
   "source": [
    "## 综述\n",
    "\n",
    "re 的具体内容有很多，我们主要是把握几个常见、常用的规则方法，即可满足大部分 code 工作。\n",
    "\n",
    "这些，用来表达规则、方法的特殊字符叫做“**元字符**”。\n",
    "\n",
    "常见元字符有：\n",
    "- ```.``` （代表任意单个字符）\n",
    "- ```^``` （从头开始匹配）\n",
    "- ```$``` （从结尾开始匹配）\n",
    "- ```*``` （前面的字符重复多次，包括0次）\n",
    "- ```+``` （前面的字符重复多次，**不**包括0次）\n",
    "- ```?``` （前面的字符重复0次或者1次）\n",
    "- ```{重复出现的次数}``` （指定具体重复的次数）\n",
    "- ```{min,max}``` （可以重复的次数，从min次到max次）\n",
    "- ```[]``` （list，将.的任意匹配字符的功能限制为有限的字符）\n",
    "- ```|``` （需要和“（）”括号一起使用）\n",
    "- ```\\d``` （匹配的是数字的 string，等价于```[0-9]+```\n",
    "- ```\\D``` （匹配不包含数字的 string）\n",
    "- ```\\s``` （只匹配 a-z 的 string）\n",
    "- ```()``` （进行分组）\n",
    "- ```^$``` （什么都不包括，代表空行）\n",
    "- ```.\\*?``` （不适用贪婪模式，就匹配到第一个就停止）（```*``` 这个方法就是贪婪模式）"
   ]
  },
  {
   "cell_type": "markdown",
   "metadata": {},
   "source": [
    "## 点 ```.```（匹配任意单个字符）\n",
    "\n",
    "### - 理解\n",
    "\n",
    "一个点```.```代表一个字符，**任意的**，可以代表“a”、“b”、“3”等等。  \n",
    "比如：“goog.e”可以匹配到“google”、“googpe”、“googje”、“googke”、“goog1e”（对应位置是数字1）等等所有可能。\n",
    "\n",
    "【demo】："
   ]
  },
  {
   "cell_type": "code",
   "execution_count": 3,
   "metadata": {},
   "outputs": [
    {
     "name": "stdout",
     "output_type": "stream",
     "text": [
      "<_sre.SRE_Match object; span=(0, 6), match='googee'>\n",
      "<_sre.SRE_Match object; span=(0, 6), match='googke'>\n",
      "None\n"
     ]
    }
   ],
   "source": [
    "import re\n",
    "\n",
    "p = re.compile(\"goog.e\")\n",
    "print(p.match(\"googee\"))  # 这里的 match 是确认是否相同的意思，如果非要准确翻译的话就是“吻合”，\n",
    "print(p.match(\"googke\"))  # 意译上我觉得“验证是否完全一致”更好一些。\n",
    "print(p.match(\"googlle\")) # 因为只有一个任意字符，这里是两个了，不符合规则了"
   ]
  },
  {
   "cell_type": "markdown",
   "metadata": {},
   "source": [
    "### - 扩展使用\n",
    "\n",
    "使用多个 ```.``` 来匹配多个任意字符，达到扩大陪陪范围的目的。  \n",
    "比如：“g..gle”可以匹配到“gaagle”、“guugle”、“gxogle”、“geogle”等等中间对应**两个位置**为任意字符的 string。\n",
    "\n",
    "【demo】："
   ]
  },
  {
   "cell_type": "code",
   "execution_count": 8,
   "metadata": {},
   "outputs": [
    {
     "name": "stdout",
     "output_type": "stream",
     "text": [
      "<_sre.SRE_Match object; span=(0, 6), match='gaogle'>\n",
      "<_sre.SRE_Match object; span=(0, 6), match='go8gle'>\n",
      "None\n"
     ]
    }
   ],
   "source": [
    "g = re.compile(\"g..gle\")\n",
    "print(g.match('gaogle'))\n",
    "print(g.match('go8gle'))\n",
    "print(g.match('g8o0gle')) # 规则是三个，这里是两个，不适用建立的规则"
   ]
  },
  {
   "cell_type": "markdown",
   "metadata": {},
   "source": [
    "### - 组合使用\n",
    "\n",
    "如果个数太多，自己也会看晕掉，所有可以和 ```{n}``` 组合使用，形成重复 n 次的点，然后 n 个点就可以匹配 n 个任意字符了。\n",
    "\n",
    "【demo】：确认输入的 string 是否为5个"
   ]
  },
  {
   "cell_type": "code",
   "execution_count": 9,
   "metadata": {},
   "outputs": [
    {
     "name": "stdout",
     "output_type": "stream",
     "text": [
      "<_sre.SRE_Match object; span=(0, 5), match='adklk'>\n",
      "<_sre.SRE_Match object; span=(0, 5), match='ud8u3'>\n",
      "<_sre.SRE_Match object; span=(0, 5), match='ayuxs'>\n"
     ]
    }
   ],
   "source": [
    "f = re.compile(\".{5}\")\n",
    "print(f.match(\"adklkjb\"))\n",
    "print(f.match(\"ud8u3\"))\n",
    "print(f.match(\"ayuxsey\"))"
   ]
  },
  {
   "cell_type": "markdown",
   "metadata": {},
   "source": [
    "【理解】：  \n",
    "其实只匹配对应```.```所在的位置的内容，后面的内容会**被忽略**，不会报错。  \n",
    "那么，“goo”是可以匹配“google”的？确认一下，demo 如下："
   ]
  },
  {
   "cell_type": "code",
   "execution_count": 10,
   "metadata": {},
   "outputs": [
    {
     "name": "stdout",
     "output_type": "stream",
     "text": [
      "<_sre.SRE_Match object; span=(0, 3), match='goo'>\n"
     ]
    }
   ],
   "source": [
    "h = re.compile('goo')\n",
    "print(h.match('google'))"
   ]
  },
  {
   "cell_type": "markdown",
   "metadata": {},
   "source": [
    "【确认】：  \n",
    "nice，就是这样的理解，只会判断 ```.compile()``` 里面的内容，多余的 string **不会影响**这部分的判断。"
   ]
  },
  {
   "cell_type": "markdown",
   "metadata": {},
   "source": [
    "## 分组```()```字符应用\n",
    "\n",
    "以一个 demo 进行说明如何使用**分组功能**的 ```()``` 这个括号字符。\n",
    "\n",
    "【目的】of demo：  \n",
    "将用户输出的“日期”信息进行“年、月、日”的单独输出，这里直接用一个 string 替代当作输入的内容，不输出“用户输入”的 code。\n",
    "\n",
    "【基调】of demo：  \n",
    "使用```.```进行粗略搭建。"
   ]
  },
  {
   "cell_type": "code",
   "execution_count": 16,
   "metadata": {},
   "outputs": [
    {
     "name": "stdout",
     "output_type": "stream",
     "text": [
      "<_sre.SRE_Match object; span=(0, 10), match='2018-11-05'>\n"
     ]
    }
   ],
   "source": [
    "birth = re.compile('....-..-..')\n",
    "print(birth.match('2018-11-05'))"
   ]
  },
  {
   "cell_type": "markdown",
   "metadata": {},
   "source": [
    "【问题】of 原始 demo：  \n",
    "如果用户的日期有个位数，像上面的“05”，并且用户输出成了“5”，那么两个点```..```的方法就会报错——就是会得到```None```，如下："
   ]
  },
  {
   "cell_type": "code",
   "execution_count": 18,
   "metadata": {},
   "outputs": [
    {
     "name": "stdout",
     "output_type": "stream",
     "text": [
      "None\n"
     ]
    }
   ],
   "source": [
    "print(birth.match('2018-11-5'))"
   ]
  },
  {
   "cell_type": "markdown",
   "metadata": {},
   "source": [
    "【调整】1_数字 of demo：  \n",
    "对于数字，一个比较好的解决方法是使用 ```\\d``` 这个专门匹配数学字符的方法来进行数字的匹配。如下："
   ]
  },
  {
   "cell_type": "code",
   "execution_count": 26,
   "metadata": {},
   "outputs": [
    {
     "name": "stdout",
     "output_type": "stream",
     "text": [
      "None\n"
     ]
    }
   ],
   "source": [
    "birth_2 = re.compile('\\d-\\d-\\d')\n",
    "print(birth_2.match('2018-11-05'))"
   ]
  },
  {
   "cell_type": "markdown",
   "metadata": {},
   "source": [
    "【问题】：  \n",
    "没有内容输出！为什么？因为一个 ```\\d``` 就是判别一个数字字符，而这里都不是一个。为了避免个数问题导致错误，可以使用 ```*``` 或者 ```+``` 让程序对数字个数进行动态调整。如下：  \n",
    "（那其实，上面的 ```.``` 的方法也可以进行这样的设计！）"
   ]
  },
  {
   "cell_type": "code",
   "execution_count": 27,
   "metadata": {},
   "outputs": [
    {
     "name": "stdout",
     "output_type": "stream",
     "text": [
      "<_sre.SRE_Match object; span=(0, 10), match='2018-11-05'>\n"
     ]
    }
   ],
   "source": [
    "birth_3 = re.compile('\\d+-\\d+-\\d+')\n",
    "print(birth_3.match('2018-11-05'))"
   ]
  },
  {
   "cell_type": "markdown",
   "metadata": {},
   "source": [
    "### - 进行分组设计\n",
    "\n",
    "#### -- 进行匹配时的分组\n",
    "\n",
    "使用 ```()``` 对年、月、日举行分组。如下："
   ]
  },
  {
   "cell_type": "code",
   "execution_count": 28,
   "metadata": {},
   "outputs": [
    {
     "name": "stdout",
     "output_type": "stream",
     "text": [
      "<_sre.SRE_Match object; span=(0, 10), match='2018-11-05'>\n"
     ]
    }
   ],
   "source": [
    "birth_4 = re.compile('(\\d+)-(\\d+)-(\\d+)')  # 对于需要分入一组的内容，前后加上（括号）即可\n",
    "print(birth_4.match('2018-11-05'))"
   ]
  },
  {
   "cell_type": "markdown",
   "metadata": {},
   "source": [
    "【分析】：  \n",
    "好像并没有什么区别……等等下面的操作就可以看出区别了。\n",
    "\n",
    "#### -- 进行分组后的输出\n",
    "\n",
    "如下："
   ]
  },
  {
   "cell_type": "code",
   "execution_count": 29,
   "metadata": {},
   "outputs": [
    {
     "name": "stdout",
     "output_type": "stream",
     "text": [
      "2018-11-05\n"
     ]
    }
   ],
   "source": [
    "birth_5 = re.compile('(\\d+)-(\\d+)-(\\d+)')\n",
    "print(birth_5.match('2018-11-05').group())  # .group() 什么参数都不添加，就是输出所有组的数据"
   ]
  },
  {
   "cell_type": "markdown",
   "metadata": {},
   "source": [
    "#### -- 分组后的单个组的输出\n",
    "\n",
    "如下："
   ]
  },
  {
   "cell_type": "code",
   "execution_count": 31,
   "metadata": {},
   "outputs": [
    {
     "name": "stdout",
     "output_type": "stream",
     "text": [
      "2018\n"
     ]
    }
   ],
   "source": [
    "birth_6 = re.compile('(\\d+)-(\\d+)-(\\d+)')\n",
    "print(birth_6.match('2018-11-05').group(1))  # 输出第一组"
   ]
  },
  {
   "cell_type": "markdown",
   "metadata": {},
   "source": [
    "【强烈疑问】：  \n",
    "程序里面的第一个不都是用数字0进行指定的嘛！为什么这个方法的语法是使用数字1？中国程序员开发的库？……"
   ]
  },
  {
   "cell_type": "markdown",
   "metadata": {},
   "source": [
    "#### -- 所有组内容分开全部输出\n",
    "\n",
    "方法：```.groups()```。如下："
   ]
  },
  {
   "cell_type": "code",
   "execution_count": 33,
   "metadata": {},
   "outputs": [
    {
     "name": "stdout",
     "output_type": "stream",
     "text": [
      "('2018', '11', '5')\n"
     ]
    }
   ],
   "source": [
    "birth_7 = re.compile('(\\d+)-(\\d+)-(\\d+)')\n",
    "print(birth_7.match('2018-11-5').groups())"
   ]
  },
  {
   "cell_type": "markdown",
   "metadata": {},
   "source": [
    "#### -- 将年月日三个数据分开进行赋值\n",
    "\n",
    "因为最后产生的数据是 tuple 类型，所以直接用 tuple 对应的方法进行单个赋值。如下："
   ]
  },
  {
   "cell_type": "code",
   "execution_count": 34,
   "metadata": {},
   "outputs": [
    {
     "name": "stdout",
     "output_type": "stream",
     "text": [
      "2018\n",
      "11\n",
      "5\n"
     ]
    }
   ],
   "source": [
    "birth_8 = re.compile('(\\d+)-(\\d+)-(\\d+)')\n",
    "year, month, day = birth_8.match('2018-11-5').groups()\n",
    "print(year)\n",
    "print(month)\n",
    "print(day)"
   ]
  },
  {
   "cell_type": "markdown",
   "metadata": {},
   "source": [
    "## 补充：不进行转义标记```r```\n",
    "\n",
    "对于转义符，可以是按照转义的结构进行输出，也可以保留原始字符。如果保留，则要使用 ```r``` 进行标记。\n",
    "\n",
    "比如，**文本内容** ```\\n``` 如果按照转义的形式表现，就是换行，如果**前面**加入```r``` 的标记，就不会进行转义的表达，只会当作普通字符进行看待。\n",
    "\n",
    "【demo】：进行转义表达输出："
   ]
  },
  {
   "cell_type": "code",
   "execution_count": 11,
   "metadata": {},
   "outputs": [
    {
     "name": "stdout",
     "output_type": "stream",
     "text": [
      "\n",
      "x\n",
      "xx\n"
     ]
    }
   ],
   "source": [
    "print('\\nx\\nxx')  # 就会先输出一个换行，再输出一个 x，紧跟着换行，在下一行输出一个 xx。"
   ]
  },
  {
   "cell_type": "markdown",
   "metadata": {},
   "source": [
    "【demo】：**不**进行转义表达输出："
   ]
  },
  {
   "cell_type": "code",
   "execution_count": 15,
   "metadata": {},
   "outputs": [
    {
     "name": "stdout",
     "output_type": "stream",
     "text": [
      "\\nx\\nxx\n"
     ]
    }
   ],
   "source": [
    "theInputStrings = r'\\nx\\nxx'\n",
    "print(theInputStrings)  # 只会把这些所有的符号，当作纯字符看待，"
   ]
  },
  {
   "cell_type": "markdown",
   "metadata": {},
   "source": [
    "【完善】of demo：\n",
    "\n",
    "避免输入的信息有什么转义符的使用，比如```\\s```（匹配空白）、```\\S```（匹配非空白），空白包括：```\\n```（换行）、```\\t```（制表符）。\n",
    "\n",
    "如下："
   ]
  },
  {
   "cell_type": "code",
   "execution_count": 38,
   "metadata": {},
   "outputs": [
    {
     "name": "stdout",
     "output_type": "stream",
     "text": [
      "('2018', '11', '5')\n"
     ]
    }
   ],
   "source": [
    "birth_9 = re.compile(r'(\\d+)-(\\d+)-(\\d+)')  # 这里加入一个 r。最后结果并没有改变，\n",
    "print(birth_9.match('2018-11-5').groups())  # 因为这里的内容没有特殊转义符嘛"
   ]
  },
  {
   "cell_type": "markdown",
   "metadata": {},
   "source": [
    "---\n",
    "注：  \n",
    "个人微信公众号：codeAndWrite"
   ]
  }
 ],
 "metadata": {
  "kernelspec": {
   "display_name": "Python 3",
   "language": "python",
   "name": "python3"
  },
  "language_info": {
   "codemirror_mode": {
    "name": "ipython",
    "version": 3
   },
   "file_extension": ".py",
   "mimetype": "text/x-python",
   "name": "python",
   "nbconvert_exporter": "python",
   "pygments_lexer": "ipython3",
   "version": "3.5.5"
  }
 },
 "nbformat": 4,
 "nbformat_minor": 2
}
