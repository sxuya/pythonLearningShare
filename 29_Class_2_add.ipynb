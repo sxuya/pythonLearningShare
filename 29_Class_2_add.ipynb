{
 "cells": [
  {
   "cell_type": "markdown",
   "metadata": {},
   "source": [
    "# 29.【Python学习分享文章】_class类的增加与丰富\n",
    "\n",
    "## 综述\n",
    "\n",
    "为了体现一个项目的情况，去增加一些功能，然后距离讲解一些修改数值的（update data）的操作，和一些注意事项。"
   ]
  },
  {
   "cell_type": "markdown",
   "metadata": {},
   "source": [
    "## 增加多个class\n",
    "\n",
    "方法同之前建立 ```Player()``` 这个类是一样的道理，如下："
   ]
  },
  {
   "cell_type": "code",
   "execution_count": null,
   "metadata": {},
   "outputs": [],
   "source": [
    "class Player():\n",
    "    def __init__(self, inputName, inputHp):\n",
    "        self.name = inputName\n",
    "        self.hp = inputHp\n",
    "    def printHelp(self):\n",
    "        print(\"Mayday.it's %s,****\" %(self.name))\n",
    "\n",
    "class Monster():\n",
    "    # 里面就是需要输入的属性和方法了\n",
    "    \n",
    "playerB2 = Player('beita',120)\n",
    "playerA2.printHelp()"
   ]
  },
  {
   "cell_type": "markdown",
   "metadata": {},
   "source": [
    "### - 搁置处理\n",
    "\n",
    "1. 在开发的时候，如果考虑要增加某一个 class，比如 怪物monster；\n",
    "2. 但是还没有具体想好里面的内容到底要怎么设定；\n",
    "3. 但是又不想程序在这里报错。\n",
    "\n",
    "那么，就是下面的处理方法："
   ]
  },
  {
   "cell_type": "code",
   "execution_count": 1,
   "metadata": {},
   "outputs": [],
   "source": [
    "class Monster():\n",
    "    '{这里的内容是说明性文字，比如：}定义一个怪物的 class'\n",
    "    pass"
   ]
  },
  {
   "cell_type": "markdown",
   "metadata": {},
   "source": [
    "【解释】：\n",
    "\n",
    "1. ```''``` 单引号里面的内容是为了防止以后忘记当初思考的想法进行的说明、**解释文字**\n",
    "2. ```pass``` 的意思相当于对程序说：“到我这了是吧，没事，这里面没有内容，跳过我先，你先运行后面的程序，别在我这里就停住报错了，生活需要继续，你也要继续向下运行”"
   ]
  },
  {
   "cell_type": "markdown",
   "metadata": {},
   "source": [
    "## 增加 class 的属性\n",
    "\n",
    "解释：class 里面的“变量”就叫做 **class 的属性**。\n",
    "\n",
    "目的：给 beita 增加 驾驶员driver 的职业身份，给 shuke 增加 飞行员pilot 的职业身份。\n",
    "\n",
    "代码如下："
   ]
  },
  {
   "cell_type": "code",
   "execution_count": 9,
   "metadata": {},
   "outputs": [],
   "source": [
    "class Player():\n",
    "    def __init__(self, inputName, inputHp, inputCareer):  # added\n",
    "        self.name = inputName\n",
    "        self.hp = inputHp\n",
    "        self.career = inputCareer  # added\n",
    "    def printHelp(self):\n",
    "        print(\"Mayday.it's %s,****\" %(self.name))\n",
    "\n",
    "class Monster():\n",
    "    # 里面就是需要输入的属性和方法了\n",
    "    pass\n",
    "\n",
    "playerA2 = Player('shuke', 100, 'pilot')  # added\n",
    "playerB2 = Player('beita',120, 'driver')  # added\n"
   ]
  },
  {
   "cell_type": "markdown",
   "metadata": {},
   "source": [
    "## 增加改名的“方法”\n",
    "\n",
    "解释：class 里面的定义的“函数”就叫做 **class 方法**。\n",
    "\n",
    "\n",
    "### - “正确的”构建方法\n",
    "\n",
    "目的：增加一个方法，来实现修改名字的效果。\n",
    "\n",
    "代码如下："
   ]
  },
  {
   "cell_type": "code",
   "execution_count": 18,
   "metadata": {},
   "outputs": [
    {
     "name": "stdout",
     "output_type": "stream",
     "text": [
      "Hi, my name is shuke, and my hp is 100, my career is pilot, and I do love my job!\n",
      "Hi, my name is sxuya, and my hp is 100, my career is pilot, and I do love my job!\n"
     ]
    }
   ],
   "source": [
    "class Player():\n",
    "    def __init__(self, inputName, inputHp, inputCareer):\n",
    "        self.name = inputName\n",
    "        self.hp = inputHp\n",
    "        self.career = inputCareer\n",
    "    def printInfo(self):  # 调整的\n",
    "        print(\"Hi, my name is %s, and my hp is %s, my career is %s, and I do love my job!\"\n",
    "              %(self.name, self.hp, self.career))\n",
    "    def updateName(self, newName):  # 增加的\n",
    "        self.name = newName\n",
    "\n",
    "class Monster():\n",
    "    # 里面就是需要输入的属性和方法了\n",
    "    pass\n",
    "\n",
    "playerA2 = Player('shuke', 100, 'pilot')\n",
    "# playerB2 = Player('beita',120, 'driver')\n",
    "playerA2.printInfo()\n",
    "playerA2.updateName('sxuya')  # 增加的，为了修改名字\n",
    "playerA2.printInfo()  # 看看改名字的效果"
   ]
  },
  {
   "cell_type": "markdown",
   "metadata": {},
   "source": [
    "### - 改名字的取巧方法\n",
    "\n",
    "通过 class 里面属性值的再次赋值进行改名字。\n",
    "\n",
    "代码如下："
   ]
  },
  {
   "cell_type": "code",
   "execution_count": 21,
   "metadata": {},
   "outputs": [
    {
     "name": "stdout",
     "output_type": "stream",
     "text": [
      "Hi, my name is shuke, and my hp is 100, my career is pilot, and I do love my job!\n",
      "Hi, my name is sxuyaNotSuggest, and my hp is 100, my career is pilot, and I do love my job!\n"
     ]
    }
   ],
   "source": [
    "playerA2 = Player('shuke', 100, 'pilot')\n",
    "# playerB2 = Player('beita',120, 'driver')\n",
    "playerA2.printInfo()\n",
    "playerA2.name = 'sxuyaNotSuggest'  # 变量赋值的不推荐方法\n",
    "playerA2.printInfo()"
   ]
  },
  {
   "cell_type": "markdown",
   "metadata": {},
   "source": [
    "### - 属性值不可访问\n",
    "\n",
    "class 的属性值可以设置成不可访问，也就是相当于“隐藏了”，上述的改名字的方法就不可实现了。\n",
    "\n",
    "【**不可访问**】：让 class 里面的属性设定成“不可访问”的形式，在属性值前面增加两个下划线 ```__```，如下："
   ]
  },
  {
   "cell_type": "code",
   "execution_count": null,
   "metadata": {},
   "outputs": [],
   "source": [
    "self.__name = inputName"
   ]
  },
  {
   "cell_type": "markdown",
   "metadata": {},
   "source": [
    "如此情况，就无法使用上述方法实现改名字的效果了。\n",
    "\n",
    "表现如下："
   ]
  },
  {
   "cell_type": "code",
   "execution_count": 25,
   "metadata": {},
   "outputs": [
    {
     "name": "stdout",
     "output_type": "stream",
     "text": [
      "Hi, my name is shuke, and my hp is 100, my career is pilot, and I do love my job!\n",
      "Hi, my name is shuke, and my hp is 100, my career is pilot, and I do love my job!\n"
     ]
    }
   ],
   "source": [
    "class Player():\n",
    "    def __init__(self, inputName, inputHp, inputCareer):\n",
    "        self.__name = inputName\n",
    "        self.hp = inputHp\n",
    "        self.career = inputCareer\n",
    "    def printInfo(self):\n",
    "        print(\"Hi, my name is %s, and my hp is %s, my career is %s, and I do love my job!\"\n",
    "              %(self.__name, self.hp, self.career))\n",
    "\n",
    "# monster 没有用，就先删除了。\n",
    "\n",
    "playerA2 = Player('shuke', 100, 'pilot')\n",
    "# playerB2 = Player('beita',120, 'driver')\n",
    "playerA2.printInfo()\n",
    "playerA2.name = \"sxuyaNotOK\"  # 进行了上述改名的操作\n",
    "playerA2.printInfo()  # 但是信息会发现并没有改变"
   ]
  },
  {
   "cell_type": "markdown",
   "metadata": {},
   "source": [
    "【分析】我们可以看到，即使进行了 ```playerA2.name = \"sxuyaNotOK\"``` 的改名操作，最后名字也是没有变化的。"
   ]
  },
  {
   "cell_type": "markdown",
   "metadata": {},
   "source": [
    "### - 属性值不可访问——修改\n",
    "\n",
    "需要通过“method方法”去修改，也就是说的“正确的”修改属性值方法。\n",
    "\n",
    "代码如下："
   ]
  },
  {
   "cell_type": "code",
   "execution_count": 27,
   "metadata": {},
   "outputs": [
    {
     "name": "stdout",
     "output_type": "stream",
     "text": [
      "Hi, my name is shuke, and my hp is 100, my career is pilot, and I do love my job!\n",
      "Hi, my name is sxuyaIsOK, and my hp is 100, my career is pilot, and I do love my job!\n"
     ]
    }
   ],
   "source": [
    "class Player():\n",
    "    def __init__(self, inputName, inputHp, inputCareer):\n",
    "        self.__name = inputName\n",
    "        self.hp = inputHp\n",
    "        self.career = inputCareer\n",
    "    def printInfo(self):\n",
    "        print(\"Hi, my name is %s, and my hp is %s, my career is %s, and I do love my job!\"\n",
    "              %(self.__name, self.hp, self.career))\n",
    "    def updataName(self, newName):\n",
    "        self.__name = newName  # 这里面也要改成两个下划线的结构\n",
    "\n",
    "playerA2 = Player('shuke', 100, 'pilot')\n",
    "playerA2.printInfo()\n",
    "playerA2.updataName('sxuyaIsOK')\n",
    "playerA2.printInfo()"
   ]
  },
  {
   "cell_type": "markdown",
   "metadata": {},
   "source": [
    "## class 的封装\n",
    "\n",
    "上述将 ```name``` 改成 ```__name``` 后，变成“不可访问”的状态，这种“特性”就叫做“class 的封装”，即封装后，属性值不可以通过赋值的方法改变.\n",
    "\n",
    "封装了嘛，就像快递封装了，你就不能在加东西进去了，但是可以通过拆开、重新包装的方法去加东西。"
   ]
  },
  {
   "cell_type": "markdown",
   "metadata": {},
   "source": [
    "---\n",
    "注：  \n",
    "个人微信公众号：codeAndWrite"
   ]
  }
 ],
 "metadata": {
  "kernelspec": {
   "display_name": "Python 3",
   "language": "python",
   "name": "python3"
  },
  "language_info": {
   "codemirror_mode": {
    "name": "ipython",
    "version": 3
   },
   "file_extension": ".py",
   "mimetype": "text/x-python",
   "name": "python",
   "nbconvert_exporter": "python",
   "pygments_lexer": "ipython3",
   "version": "3.5.5"
  }
 },
 "nbformat": 4,
 "nbformat_minor": 2
}
