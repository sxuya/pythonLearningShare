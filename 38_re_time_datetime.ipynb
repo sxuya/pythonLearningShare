{
 "cells": [
  {
   "cell_type": "markdown",
   "metadata": {},
   "source": [
    "# 38.【Python学习分享文章】_time\\_datetime\\_时间相关操作\n",
    "\n",
    "## 综述\n",
    "\n",
    "比较常用的两个方法就是：\n",
    "- 8.Date Types 里面的 ```.datetime()```\n",
    "- 16.Generic Operating Services 里面的 ```.time()```\n",
    "\n",
    "【常用作用】\n",
    "\n",
    "- ```.time()```：时间的查看\n",
    "- ```.datetime()```：时间的修改"
   ]
  },
  {
   "cell_type": "markdown",
   "metadata": {},
   "source": [
    "## ```.time()```\n",
    "\n",
    "是系统操作里面的模块（功能），和操作系统的时间有关。主要用于“查看”，举例几个常见时间调用。\n",
    "\n",
    "### - 时间的秒数\n",
    "\n",
    "code 如下："
   ]
  },
  {
   "cell_type": "code",
   "execution_count": 1,
   "metadata": {},
   "outputs": [
    {
     "name": "stdout",
     "output_type": "stream",
     "text": [
      "1542596249.5257728\n"
     ]
    }
   ],
   "source": [
    "import time\n",
    "print(time.time())"
   ]
  },
  {
   "cell_type": "markdown",
   "metadata": {},
   "source": [
    "【解释】：  \n",
    "这个数字代表的是“从1970年1月1日到当前时间点的总秒数”。"
   ]
  },
  {
   "cell_type": "markdown",
   "metadata": {},
   "source": [
    "### - 年月日形式封装\n",
    "\n",
    "上面的时间不是人类所使用的，因此使用一些 .time 封装好的、处理过的时间表达，如 ```.localtime()```。\n",
    "\n",
    "如下："
   ]
  },
  {
   "cell_type": "code",
   "execution_count": 4,
   "metadata": {},
   "outputs": [
    {
     "name": "stdout",
     "output_type": "stream",
     "text": [
      "time.struct_time(tm_year=2018, tm_mon=11, tm_mday=19, tm_hour=11, tm_min=16, tm_sec=28, tm_wday=0, tm_yday=323, tm_isdst=0)\n"
     ]
    }
   ],
   "source": [
    "print(time.localtime())"
   ]
  },
  {
   "cell_type": "markdown",
   "metadata": {},
   "source": [
    "### - 再优化的封装\n",
    "\n",
    "上述的表述还是不是太适合阅读，所以使用另外一个方法，进行**格式化地**表达，如 ```.strftime()```（string 的缩写，f 是 format格式 的缩写）。  \n",
    "这个方法是需要给定输出格式的表达方式的，不能直接使用。\n",
    "\n",
    "一种格式的 argument 给定方式，如下："
   ]
  },
  {
   "cell_type": "code",
   "execution_count": 16,
   "metadata": {},
   "outputs": [
    {
     "name": "stdout",
     "output_type": "stream",
     "text": [
      "2018-11-19 11:24:46\n"
     ]
    }
   ],
   "source": [
    "print(time.strftime('%Y-%m-%d %H:%M:%S'))"
   ]
  },
  {
   "cell_type": "markdown",
   "metadata": {},
   "source": [
    "【解释】：\n",
    "- “%一个字母”。是一种参数的引用，是有大小写区分的，有些是只有大写的参数 or 小写的参数，另外一些大小写的参数形式都有，但是代表的是不同的内容，具体的内容参见https://docs.python.org/3/library/time.html#time.strftime\n",
    "- 连接格式。中间的“-”和“：”可以自己根据需要换成其他的连接字符，形成自己想要的**时间格式**。\n",
    "\n",
    "【变形使用】：  \n",
    "如果进行文件的命名使用，时间的格式希望就是纯数字，那么就“不使用连接符号”即可，如下："
   ]
  },
  {
   "cell_type": "code",
   "execution_count": 18,
   "metadata": {},
   "outputs": [
    {
     "name": "stdout",
     "output_type": "stream",
     "text": [
      "20181119\n"
     ]
    }
   ],
   "source": [
    "print(time.strftime('%Y%m%d'))"
   ]
  },
  {
   "cell_type": "markdown",
   "metadata": {},
   "source": [
    "## ```.datetime()```\n",
    "\n",
    "主要用于时间的处理，比如修改、指定特定时间等等。"
   ]
  },
  {
   "cell_type": "markdown",
   "metadata": {},
   "source": [
    "### - 获取当前时间数据"
   ]
  },
  {
   "cell_type": "code",
   "execution_count": 19,
   "metadata": {},
   "outputs": [
    {
     "name": "stdout",
     "output_type": "stream",
     "text": [
      "2018-11-19 11:38:24.090691\n"
     ]
    }
   ],
   "source": [
    "import datetime\n",
    "\n",
    "print(datetime.datetime.now())"
   ]
  },
  {
   "cell_type": "markdown",
   "metadata": {},
   "source": [
    "【疑惑】：  \n",
    "那这个模块获取的时间不是更符合人类阅读么？那么两个模块有区别作用呢？——再说了，在这里保留先。2018年11月19日 11:39:33"
   ]
  },
  {
   "cell_type": "markdown",
   "metadata": {},
   "source": [
    "### - 获取现在时间的一段时间后的时间数据\n",
    "\n",
    "【目的】：  \n",
    "取得当前时间10min后的时间数据。如下："
   ]
  },
  {
   "cell_type": "code",
   "execution_count": 21,
   "metadata": {},
   "outputs": [
    {
     "name": "stdout",
     "output_type": "stream",
     "text": [
      "2018-11-19 11:43:58.470262\n",
      "2018-11-19 11:53:58.470262\n"
     ]
    }
   ],
   "source": [
    "timeDelta = datetime.timedelta(minutes=10)  # 理科里，差值默认使用 △（delta） 作为表达符号，\n",
    "newTime = datetime.datetime.now() + timeDelta  # 比如 △t 表示时间差\n",
    "print(datetime.datetime.now())\n",
    "print(newTime)"
   ]
  },
  {
   "cell_type": "markdown",
   "metadata": {},
   "source": [
    "### - 获取指定时间的一段时间后的时间数据\n",
    "\n",
    "步骤：  \n",
    "1. 先指定一个时间\n",
    "1. 再指定一个时间差\n",
    "1. 指定时间上叠加时间差"
   ]
  },
  {
   "cell_type": "code",
   "execution_count": 26,
   "metadata": {},
   "outputs": [
    {
     "name": "stdout",
     "output_type": "stream",
     "text": [
      "指定的时间：2018-05-11 00:00:00\n",
      "时间差是：25 days, 0:00:00\n",
      "新的时间是：2018-06-05 00:00:00\n"
     ]
    }
   ],
   "source": [
    "oneDay = datetime.datetime(2018, 5, 11)  # 指定了一个时间，直接用参数输入\n",
    "timeDelta = datetime.timedelta(days=25)\n",
    "updatedDay = oneDay + timeDelta\n",
    "print('指定的时间：%s' %oneDay)\n",
    "print('时间差是：%s' %timeDelta)\n",
    "print('新的时间是：%s' %updatedDay)"
   ]
  },
  {
   "cell_type": "markdown",
   "metadata": {},
   "source": [
    "## 总结\n",
    "\n",
    "还是常规的，就是参数的格式要注意：\n",
    "- datetime 里面很多是要有“s”的；\n",
    "- 方法的名字是没有“驼峰形式的”；\n",
    "- “5”是不能输入成“05”的；\n",
    "\n",
    "具体的使用的时候再用文档进行验证、核对了。"
   ]
  },
  {
   "cell_type": "markdown",
   "metadata": {},
   "source": [
    "---\n",
    "注：  \n",
    "个人微信公众号：codeAndWrite"
   ]
  }
 ],
 "metadata": {
  "kernelspec": {
   "display_name": "Python 3",
   "language": "python",
   "name": "python3"
  },
  "language_info": {
   "codemirror_mode": {
    "name": "ipython",
    "version": 3
   },
   "file_extension": ".py",
   "mimetype": "text/x-python",
   "name": "python",
   "nbconvert_exporter": "python",
   "pygments_lexer": "ipython3",
   "version": "3.5.5"
  }
 },
 "nbformat": 4,
 "nbformat_minor": 2
}
