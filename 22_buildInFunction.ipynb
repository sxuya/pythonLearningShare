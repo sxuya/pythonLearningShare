{
 "cells": [
  {
   "cell_type": "markdown",
   "metadata": {},
   "source": [
    "# 22.【Python学习分享文章】_build-in function（内建函数）"
   ]
  },
  {
   "cell_type": "markdown",
   "metadata": {},
   "source": [
    "## 综述\n",
    "\n",
    "### - 主体\n",
    "\n",
    "主要介绍四个 build-in functions，分别是：\n",
    "1. filter()\n",
    "2. map()\n",
    "3. reduce()\n",
    "4. zip()\n",
    "\n",
    "#### - 主要作用\n",
    "\n",
    "对下面的数据处理：\n",
    "1. 合并\n",
    "2. 累加工作\n",
    "3. 等等\n",
    "\n",
    "会使用到这几个函数。"
   ]
  },
  {
   "cell_type": "markdown",
   "metadata": {},
   "source": [
    "## filter()\n",
    "\n",
    "### - 个人理解\n",
    "\n",
    "filter 的意思是“过滤”、“筛选”，主要就是“根据自己建立的规则，去筛选数据”。\n",
    "\n",
    "一个朴素的类比：\n",
    "1. “原始数据”就是“原料沙石”；\n",
    "2. “处理规则”就是“筛眼大小”；\n",
    "3. “处理后数据”就是“细分的沙石”。\n",
    "\n",
    "### - demo\n",
    "\n",
    "#### -- filter() list"
   ]
  },
  {
   "cell_type": "code",
   "execution_count": 1,
   "metadata": {},
   "outputs": [
    {
     "name": "stdout",
     "output_type": "stream",
     "text": [
      "[1, 2, -2]\n"
     ]
    }
   ],
   "source": [
    "aList = [1, 5, 7, 2, 4, 6, 9, -2]\n",
    "filteredList = list(filter(lambda x:x<4, aList))  # 需要使用list将结果序列化，要不然无法进行输出、处理。\n",
    "print(filteredList)  # 进行输出。"
   ]
  },
  {
   "cell_type": "markdown",
   "metadata": {},
   "source": [
    "## map()\n",
    "\n",
    "### - 理解\n",
    "\n",
    "将过个参数、数据，依次进行处理。相当于构造一个“数学上的函数”，建立函数的映射关系，“原始输入”相当于“自变量x”，“输出结果”相当于“函数值y”\n",
    "\n",
    "### - demo\n",
    "\n",
    "#### -- 单个list"
   ]
  },
  {
   "cell_type": "code",
   "execution_count": 5,
   "metadata": {},
   "outputs": [
    {
     "name": "stdout",
     "output_type": "stream",
     "text": [
      "[0, 26, 8]\n"
     ]
    }
   ],
   "source": [
    "bList = [1, 14, 5]\n",
    "bListMaped = list(map(lambda x:2*(x-1), bList)) # 中间的乘号 * 不能像平时数学书写省略掉\n",
    "print(bListMaped)"
   ]
  },
  {
   "cell_type": "markdown",
   "metadata": {},
   "source": [
    "#### -- 两个list（长度一致）"
   ]
  },
  {
   "cell_type": "code",
   "execution_count": 8,
   "metadata": {},
   "outputs": [
    {
     "name": "stdout",
     "output_type": "stream",
     "text": [
      "[-2, 12, 4]\n"
     ]
    }
   ],
   "source": [
    "cList = [3, 2, 1]\n",
    "bcListMaped = list(map(lambda x,y:x-y,bList, cList)) # 相同个数，相同位置的数据进行 lambda 规则运算\n",
    "print(bcListMaped)"
   ]
  },
  {
   "cell_type": "markdown",
   "metadata": {},
   "source": [
    "#### -- 两个list（长度不同）"
   ]
  },
  {
   "cell_type": "code",
   "execution_count": 9,
   "metadata": {},
   "outputs": [
    {
     "name": "stdout",
     "output_type": "stream",
     "text": [
      "[-1, 9, 2]\n"
     ]
    }
   ],
   "source": [
    "dList = [2, 5, 3, 7]\n",
    "bdListMaped = list(map(lambda x,y:x-y,bList, dList))\n",
    "print(bdListMaped)"
   ]
  },
  {
   "cell_type": "markdown",
   "metadata": {},
   "source": [
    "分析：\n",
    "\n",
    "也就是以最短的、可算的位置为准，其他位置的数据被遗弃。"
   ]
  },
  {
   "cell_type": "markdown",
   "metadata": {},
   "source": [
    "## reduce()\n",
    "\n",
    "### - 注意\n",
    "\n",
    "1. 不能直接使用，需要进行导入：```from functools import reduce```；\n",
    "2. 也是只能处理一个序列。\n",
    "3. 所有的数据和相同的 initial（初始值）做函数定义的运算\n",
    "\n",
    "### - demo\n",
    "\n",
    "#### -- "
   ]
  },
  {
   "cell_type": "code",
   "execution_count": 50,
   "metadata": {},
   "outputs": [
    {
     "name": "stdout",
     "output_type": "stream",
     "text": [
      "-17\n",
      "-17\n",
      "-4\n",
      "6\n"
     ]
    }
   ],
   "source": [
    "from functools import reduce\n",
    "eList = [1, 2, 3, 4]\n",
    "print(reduce(lambda x,y:x-y, [2,5,11],1) )\n",
    "print(reduce(lambda x,y:x-y, [11,5,2],1) )\n",
    "print(reduce(lambda x,y:y-x, [11,5,2,3],1) )\n",
    "print(reduce(lambda x,y:y-x, [3,2,5,11],1) )\n",
    "# 这是一个单个数字的结果，计算的是最终的函数值，因此不需要 list 呈现结果\n"
   ]
  },
  {
   "cell_type": "markdown",
   "metadata": {},
   "source": [
    "解释：\n",
    "\n",
    "后面的“1”就是 initial，代表的是x的初始值，每次计算的结果是赋值给x的。\n",
    "\n",
    "1. ((1-2)-5)-11 = -17\n",
    "2. ((1-11)-5)-2 = -17\n",
    "3. 3-(2-((5-(11-1))) = 7\n",
    "4. 11-(5-(2-(3-1))) = 6"
   ]
  },
  {
   "cell_type": "markdown",
   "metadata": {},
   "source": [
    "## zip()\n",
    "\n",
    "### - 整体感觉\n",
    "\n",
    "电脑上的用法叫压缩，也就是把多个数据合成一个感觉。code 里面的 zip 是将两个（多个可以？）数据一次运算成一个。\n",
    "\n",
    "### - demo\n",
    "\n",
    "#### -- 合并两个元组"
   ]
  },
  {
   "cell_type": "code",
   "execution_count": 54,
   "metadata": {},
   "outputs": [
    {
     "name": "stdout",
     "output_type": "stream",
     "text": [
      "<zip object at 0x0000023F3692DCC8>\n",
      "<zip object at 0x0000023F3692DD08>\n",
      "(1, 33)\n",
      "(2, 6)\n",
      "(4, 5)\n",
      "(1, 33, -11)\n",
      "(2, 6, -4)\n",
      "(4, 5, 7)\n"
     ]
    }
   ],
   "source": [
    "aTuple = (1, 2, 4)\n",
    "bTuple = (33, 6, 5)\n",
    "cTuple = (-11, -4, 7)\n",
    "abTupleZiped = zip(aTuple, bTuple)\n",
    "print(abTupleZiped)\n",
    "abcTupleZiped =  zip(aTuple, bTuple, cTuple)\n",
    "print(abcTupleZiped)\n",
    "for i in abTupleZiped:\n",
    "    print(i)\n",
    "for i in abcTupleZiped:\n",
    "    print(i)"
   ]
  },
  {
   "cell_type": "markdown",
   "metadata": {},
   "source": [
    "解释：\n",
    "\n",
    "纵向变换后进行整合。就是线性代数里面的“矩阵转换”。\n",
    "\n",
    "因为使用了 ```for … i …```的语句，说明最后的数据是可迭代的数据类型iter。"
   ]
  },
  {
   "cell_type": "markdown",
   "metadata": {},
   "source": [
    "#### -- 对调字典的key和value"
   ]
  },
  {
   "cell_type": "code",
   "execution_count": 57,
   "metadata": {},
   "outputs": [
    {
     "name": "stdout",
     "output_type": "stream",
     "text": [
      "{'aaa': 'a', 999: 'b', 577: 'c'}\n"
     ]
    }
   ],
   "source": [
    "aDict = {'a':'aaa', 'b':999, 'c':577}\n",
    "aDictZiped = dict(zip(aDict.values(), aDict.keys()))\n",
    "print(aDictZiped)"
   ]
  },
  {
   "cell_type": "markdown",
   "metadata": {},
   "source": [
    "---\n",
    "注：  \n",
    "个人微信公众号：codeAndWrite"
   ]
  }
 ],
 "metadata": {
  "kernelspec": {
   "display_name": "Python 3",
   "language": "python",
   "name": "python3"
  },
  "language_info": {
   "codemirror_mode": {
    "name": "ipython",
    "version": 3
   },
   "file_extension": ".py",
   "mimetype": "text/x-python",
   "name": "python",
   "nbconvert_exporter": "python",
   "pygments_lexer": "ipython3",
   "version": "3.5.5"
  }
 },
 "nbformat": 4,
 "nbformat_minor": 2
}
