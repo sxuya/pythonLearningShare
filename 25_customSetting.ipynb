{
 "cells": [
  {
   "cell_type": "markdown",
   "metadata": {},
   "source": [
    "# 25.【Python学习分享文章】_customSetting（自定义上下文管理器）"
   ]
  },
  {
   "cell_type": "markdown",
   "metadata": {},
   "source": [
    "## 综述\n",
    "\n",
    "就是之前打开文件使用过的 ```with```。\n",
    "\n",
    "这个的内容完全不知道在讲解什么，好像没有什么用。\n",
    "\n",
    "就是文件的“打开”、“命名”、“关闭”的一系列操作。"
   ]
  },
  {
   "cell_type": "markdown",
   "metadata": {},
   "source": [
    "## demo说明\n",
    "\n",
    "### -【目的】：\n",
    "\n",
    "打开文件；如果打开失败，则关闭文件。\n",
    "\n",
    "### - 普通 code"
   ]
  },
  {
   "cell_type": "code",
   "execution_count": null,
   "metadata": {},
   "outputs": [],
   "source": [
    "fileA = open('name.txt')\n",
    "try:\n",
    "    for line in fileA:\n",
    "        print(line)\n",
    "finally:\n",
    "    fileA.close()"
   ]
  },
  {
   "cell_type": "markdown",
   "metadata": {},
   "source": [
    "这个也不太优雅。\n",
    "\n",
    "### - 使用上下文管理器 with 语句"
   ]
  },
  {
   "cell_type": "code",
   "execution_count": null,
   "metadata": {},
   "outputs": [],
   "source": [
    "with open('name.txt') as f:\n",
    "    for line in f:\n",
    "        print(line)"
   ]
  },
  {
   "cell_type": "markdown",
   "metadata": {},
   "source": [
    "#### -- 解释：\n",
    "\n",
    "使用了 with，如果打开失败，Python 会默认调用 finally，然后关闭文件。\n",
    "\n",
    "详细的内容在后面讲解完“类”等的知识的时候在详细讲解。"
   ]
  },
  {
   "cell_type": "markdown",
   "metadata": {},
   "source": [
    "---\n",
    "注：  \n",
    "个人微信公众号：codeAndWrite"
   ]
  }
 ],
 "metadata": {
  "kernelspec": {
   "display_name": "Python 3",
   "language": "python",
   "name": "python3"
  },
  "language_info": {
   "codemirror_mode": {
    "name": "ipython",
    "version": 3
   },
   "file_extension": ".py",
   "mimetype": "text/x-python",
   "name": "python",
   "nbconvert_exporter": "python",
   "pygments_lexer": "ipython3",
   "version": "3.5.5"
  }
 },
 "nbformat": 4,
 "nbformat_minor": 2
}
