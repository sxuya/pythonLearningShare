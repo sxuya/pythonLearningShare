{
 "cells": [
  {
   "cell_type": "markdown",
   "metadata": {},
   "source": [
    "# 39.【Python学习分享文章】\\_random\\_随机选取方法\n",
    "\n",
    "## 综述\n",
    "\n",
    "两个数学相关的库（9. Numeric and Mathematical Modules）：\n",
    "- math。主要用于机器学习、深度学习中。比如计算正弦值、余弦值，不用在自己编写 code。\n",
    "- random。产生随机数字、字母等，主要用于软件测试、密码学中。\n",
    "\n",
    "这里主要演示 ```random``` 这个库。"
   ]
  },
  {
   "cell_type": "markdown",
   "metadata": {},
   "source": [
    "## ```random```\n",
    "\n",
    "### - 生成随机整数\n",
    "\n",
    "按照格式来 code 就好，如下："
   ]
  },
  {
   "cell_type": "code",
   "execution_count": 8,
   "metadata": {},
   "outputs": [
    {
     "name": "stdout",
     "output_type": "stream",
     "text": [
      "25\n",
      "36\n",
      "1\n"
     ]
    }
   ],
   "source": [
    "import random  # 导入库\n",
    "\n",
    "randomIntMine_1 = random.randint(1, 37)  # 在包括1、包括37的范围里面“随机产生”一个整数\n",
    "randomIntMine_2 = random.randint(1, 37)\n",
    "randomIntMine_3 = random.randint(1, 37)\n",
    "\n",
    "print(randomIntMine_1)\n",
    "print(randomIntMine_2)\n",
    "print(randomIntMine_3)"
   ]
  },
  {
   "cell_type": "markdown",
   "metadata": {},
   "source": [
    "【解释】：  \n",
    "每次运行的结果都会不一样。"
   ]
  },
  {
   "cell_type": "markdown",
   "metadata": {},
   "source": [
    "### - “随机”抽取字符（即非数字，/D）\n",
    "\n",
    "方式是使用：```choice()````，如下："
   ]
  },
  {
   "cell_type": "code",
   "execution_count": 16,
   "metadata": {},
   "outputs": [
    {
     "name": "stdout",
     "output_type": "stream",
     "text": [
      "10086\n",
      "abcd\n",
      "yang\n"
     ]
    }
   ],
   "source": [
    "rangeList = ['abcd', 'sxu', 'yang', 10086]\n",
    "randomStringMine_1 = random.choice(rangeList)\n",
    "randomStringMine_2 = random.choice(rangeList)\n",
    "randomStringMine_3 = random.choice(rangeList)\n",
    "\n",
    "print(randomStringMine_1)\n",
    "print(randomStringMine_2)\n",
    "print(randomStringMine_3)"
   ]
  },
  {
   "cell_type": "markdown",
   "metadata": {},
   "source": [
    "## 总结\n",
    "\n",
    "主要是在我们给定的数据范围里面，进行随机产生（其实是伪随机产生，毕竟计算机只能公式产生，只不过我们看着有点像随机数字。那这就有一个问题了：世界上真的有随机数这个概念么？人类想的随机数，也是根据一定的情景想出来的，也算是一种算法吧）。\n",
    "\n",
    "具体希望产生什么样的随机方案、目标，到用的时候再在 ```random``` 这个库/模块里面来寻找对应的方法即可。"
   ]
  },
  {
   "cell_type": "markdown",
   "metadata": {},
   "source": [
    "---\n",
    "注：  \n",
    "个人微信公众号：codeAndWrite"
   ]
  }
 ],
 "metadata": {
  "kernelspec": {
   "display_name": "Python 3",
   "language": "python",
   "name": "python3"
  },
  "language_info": {
   "codemirror_mode": {
    "name": "ipython",
    "version": 3
   },
   "file_extension": ".py",
   "mimetype": "text/x-python",
   "name": "python",
   "nbconvert_exporter": "python",
   "pygments_lexer": "ipython3",
   "version": "3.5.5"
  }
 },
 "nbformat": 4,
 "nbformat_minor": 2
}
