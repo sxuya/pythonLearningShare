{
 "cells": [
  {
   "cell_type": "markdown",
   "metadata": {},
   "source": [
    "# 【Python学习分享文章】_for 嵌套 if"
   ]
  },
  {
   "cell_type": "markdown",
   "metadata": {},
   "source": [
    "### 原始数据"
   ]
  },
  {
   "cell_type": "code",
   "execution_count": 1,
   "metadata": {},
   "outputs": [],
   "source": [
    "zodiac_name = (u'摩羯座', u'水瓶座', u'双鱼座', u'白羊座', u'金牛座', u'双子座',\n",
    "               u'巨蟹座', u'狮子座', u'处女座', u'天秤座', u'天蝎座', u'射手座')\n",
    "zodiac_days = ((1, 20), (2,19), (3, 21), (4, 21), (5, 21), (6, 22),\n",
    "               (7, 23), (8, 23), (9, 23), (10, 23), (11, 23), (12, 23))"
   ]
  },
  {
   "cell_type": "markdown",
   "metadata": {},
   "source": [
    "### 数据改为由用户输入"
   ]
  },
  {
   "cell_type": "code",
   "execution_count": 4,
   "metadata": {},
   "outputs": [
    {
     "name": "stdout",
     "output_type": "stream",
     "text": [
      "请输入月份：5\n",
      "请输入日期：21\n"
     ]
    }
   ],
   "source": [
    "# month = input('请输入月份：') # 这样的语句，得到的数据默认是 string（字符串）\n",
    "month = int(input(\"请输入月份：\"))\n",
    "# print(type(month))\n",
    "day = int(input(\"请输入日期：\"))"
   ]
  },
  {
   "cell_type": "code",
   "execution_count": 10,
   "metadata": {},
   "outputs": [
    {
     "name": "stdout",
     "output_type": "stream",
     "text": [
      "金牛座\n"
     ]
    }
   ],
   "source": [
    "for zd_num in range(len(zodiac_days)):\n",
    "    if zodiac_days[zd_num] >= (month, day):\n",
    "        print(zodiac_name[zd_num])\n",
    "        break # 如果没有这个“终止”操作，金牛座后面的数据也会进行比较，并且也是 True 的判定，所以都会输出，但不是我们想要的"
   ]
  },
  {
   "cell_type": "markdown",
   "metadata": {},
   "source": [
    "### 补充结尾判断，形成闭环"
   ]
  },
  {
   "cell_type": "code",
   "execution_count": 11,
   "metadata": {},
   "outputs": [
    {
     "name": "stdout",
     "output_type": "stream",
     "text": [
      "请输入月份（请等于12）：12\n",
      "请输入日期（请在24-31之间选择一个数）：25\n",
      "摩羯座\n"
     ]
    }
   ],
   "source": [
    "month2 = int(input(\"请输入月份（请等于12）：\"))\n",
    "day2 = int(input(\"请输入日期（请在24-31之间选择一个数）：\"))\n",
    "for zd_num in range(len(zodiac_days)):\n",
    "    if zodiac_days[zd_num] >= (month2, day2):\n",
    "        print(zodiac_name[zd_num])\n",
    "        break\n",
    "    elif month2 == 12 and day2 >23:\n",
    "        print(zodiac_name[0])\n",
    "        break # 获得结果后，就是一个，就终止语句"
   ]
  },
  {
   "cell_type": "markdown",
   "metadata": {},
   "source": [
    "**注释：** 参考之前的 tuple.md 文件，里面的 lambda 和 filter 结合也是实现同样的功能。"
   ]
  },
  {
   "cell_type": "markdown",
   "metadata": {},
   "source": [
    "---\n",
    "注：  \n",
    "个人微信公众号：codeAndWrite"
   ]
  }
 ],
 "metadata": {
  "kernelspec": {
   "display_name": "Python 3",
   "language": "python",
   "name": "python3"
  },
  "language_info": {
   "codemirror_mode": {
    "name": "ipython",
    "version": 3
   },
   "file_extension": ".py",
   "mimetype": "text/x-python",
   "name": "python",
   "nbconvert_exporter": "python",
   "pygments_lexer": "ipython3",
   "version": "3.5.5"
  }
 },
 "nbformat": 4,
 "nbformat_minor": 2
}
