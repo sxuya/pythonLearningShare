{
 "cells": [
  {
   "cell_type": "markdown",
   "metadata": {},
   "source": [
    "# 40.【Python学习分享文章】_fileDirectoryOperation_文件目录操作介绍\n",
    "\n",
    "## 综述\n",
    "\n",
    "我们在处理数据的时候，总会进行输入或者输出，而输入或者输出的文件总要放置在一个特定的位置，不然所有数据都放在一个原始文件夹中，实在是太凌乱了。\n",
    "\n",
    "而在进行编程的时候，目录的显示就没有图形化界面了，只有路径的名字，比如 ```C:\\Users\\yeray\\Documents\\AndroidFiles```，其实就代表我们平时看到的图形界面的：\n",
    "\n",
    "\n",
    "![Image of Yaktocat](https://photos.google.com/search/_tra_/photo/AF1QipOzPnm0nQKTtIImgZWgUOnV0q7GMQL_o0EmWgwB)"
   ]
  },
  {
   "cell_type": "markdown",
   "metadata": {},
   "source": [
    "---\n",
    "注：  \n",
    "个人微信公众号：codeAndWrite"
   ]
  }
 ],
 "metadata": {
  "kernelspec": {
   "display_name": "Python 3",
   "language": "python",
   "name": "python3"
  },
  "language_info": {
   "codemirror_mode": {
    "name": "ipython",
    "version": 3
   },
   "file_extension": ".py",
   "mimetype": "text/x-python",
   "name": "python",
   "nbconvert_exporter": "python",
   "pygments_lexer": "ipython3",
   "version": "3.5.5"
  }
 },
 "nbformat": 4,
 "nbformat_minor": 2
}
