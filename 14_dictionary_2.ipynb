{
 "cells": [
  {
   "cell_type": "markdown",
   "metadata": {},
   "source": [
    "# 14.【Python学习分享文章】_列表推导式&字典推导式"
   ]
  },
  {
   "cell_type": "markdown",
   "metadata": {},
   "source": [
    "## 综述\n",
    "\n",
    "新建一个带有初始化数值的 list 和 dict，C 语言、Java 等语言采用的普通的方法是，即“不优雅”的方法是：\n",
    "\n",
    "1. 先定义数据类型；\n",
    "2. 再输入初始化值。\n",
    "\n",
    "Python 里面的“推导式”，就是将这两部合并为一步的操作。\n",
    "\n",
    "**独有的**语法呦~"
   ]
  },
  {
   "cell_type": "markdown",
   "metadata": {},
   "source": [
    "## list 推导式的 demo 介绍"
   ]
  },
  {
   "cell_type": "markdown",
   "metadata": {},
   "source": [
    "### - 例子1\n",
    "\n",
    "【目标：】得到一个1~20范围内的偶数的平方值的 list：\n",
    "\n",
    "#### “不优雅”方式："
   ]
  },
  {
   "cell_type": "code",
   "execution_count": 5,
   "metadata": {},
   "outputs": [
    {
     "name": "stdout",
     "output_type": "stream",
     "text": [
      "[4, 16, 36, 64, 100, 144, 196, 256, 324, 400]\n"
     ]
    }
   ],
   "source": [
    "# 获得1~20的偶数的平方值的 list\n",
    "\n",
    "list = []\n",
    "for i in range(1, 21):\n",
    "    if i % 2 == 0:\n",
    "        list.append(i*i)\n",
    "        \n",
    "print(list)"
   ]
  },
  {
   "cell_type": "markdown",
   "metadata": {},
   "source": [
    "#### “优雅”方式：\n",
    "\n",
    "主要思路：将 ```for```、```if``` 语句整合到“[ ]”里面，从而变得简洁。"
   ]
  },
  {
   "cell_type": "code",
   "execution_count": 6,
   "metadata": {},
   "outputs": [
    {
     "name": "stdout",
     "output_type": "stream",
     "text": [
      "[4, 16, 36, 64, 100, 144, 196, 256, 324, 400]\n"
     ]
    }
   ],
   "source": [
    "# step 1:[]\n",
    "# step 2:[for i in range(1, 21) if i%2==0]\n",
    "# step 3:[i*i for i in range(1, 21) if i%2==0]\n",
    "betterList = [i*i for i in range(1, 21) if i%2==0]\n",
    "\n",
    "print(betterList)"
   ]
  },
  {
   "cell_type": "markdown",
   "metadata": {},
   "source": [
    "【结果：】获得了同样的结果，但是可读性增加了很多。（这里的“可读性”只是相对来说，看多了“不优雅”的写法，也能马上明白 code 表达的内容。）"
   ]
  },
  {
   "cell_type": "markdown",
   "metadata": {},
   "source": [
    "## dict 推导式的 demo 介绍"
   ]
  },
  {
   "cell_type": "markdown",
   "metadata": {},
   "source": [
    "### - 例子1\n",
    "\n",
    "之前的 dict 文章里面已经出现了，这里再摘录过来。\n",
    "\n",
    "【目标：】记录统计到的生肖人数，建立初始化 dict。\n",
    "\n",
    "#### “不优雅”方式："
   ]
  },
  {
   "cell_type": "code",
   "execution_count": 7,
   "metadata": {},
   "outputs": [
    {
     "name": "stdout",
     "output_type": "stream",
     "text": [
      "{'鼠': 0, '虎': 0, '龙': 0, '狗': 0, '马': 0, '猪': 0, '蛇': 0, '猴': 0, '兔': 0, '羊': 0, '牛': 0, '鸡': 0}\n"
     ]
    }
   ],
   "source": [
    "chinese_zodiac = \"猴鸡狗猪鼠牛虎兔龙蛇马羊\"\n",
    "\n",
    "c_list = {}\n",
    "for animal in chinese_zodiac:\n",
    "    c_list[animal] = 0\n",
    "    \n",
    "print(c_list)"
   ]
  },
  {
   "cell_type": "markdown",
   "metadata": {},
   "source": [
    "#### “优雅”方式："
   ]
  },
  {
   "cell_type": "code",
   "execution_count": 8,
   "metadata": {},
   "outputs": [
    {
     "name": "stdout",
     "output_type": "stream",
     "text": [
      "{'鼠': 0, '虎': 0, '龙': 0, '狗': 0, '马': 0, '猪': 0, '蛇': 0, '猴': 0, '兔': 0, '羊': 0, '牛': 0, '鸡': 0}\n"
     ]
    }
   ],
   "source": [
    "# step 1:d_list = {for animal in chinese_zodiac} # 这里的 animal 会历遍所有生肖进行指代。\n",
    "# step 2:\n",
    "d_list = {animal:0 for animal in chinese_zodiac}\n",
    "\n",
    "print(d_list)"
   ]
  },
  {
   "cell_type": "markdown",
   "metadata": {},
   "source": [
    "---\n",
    "注：  \n",
    "个人微信公众号：codeAndWrite"
   ]
  }
 ],
 "metadata": {
  "kernelspec": {
   "display_name": "Python 3",
   "language": "python",
   "name": "python3"
  },
  "language_info": {
   "codemirror_mode": {
    "name": "ipython",
    "version": 3
   },
   "file_extension": ".py",
   "mimetype": "text/x-python",
   "name": "python",
   "nbconvert_exporter": "python",
   "pygments_lexer": "ipython3",
   "version": "3.5.5"
  }
 },
 "nbformat": 4,
 "nbformat_minor": 2
}
