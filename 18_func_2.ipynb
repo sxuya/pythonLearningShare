{
 "cells": [
  {
   "cell_type": "markdown",
   "metadata": {},
   "source": [
    "# 18.【Python学习分享文章】_function（函数）_2_参数使用"
   ]
  },
  {
   "cell_type": "markdown",
   "metadata": {},
   "source": [
    "## 综述\n",
    "\n",
    "0. 函数分类\n",
    "1. 参数的设置\n",
    "2. 可变长设置\n"
   ]
  },
  {
   "cell_type": "markdown",
   "metadata": {},
   "source": [
    "## 函数分类\n",
    "\n",
    "### - 内建函数\n",
    "\n",
    "比如 ```print()``` 等，属于 Python 自带的，可以使用的。\n",
    "\n",
    "### - 自建函数\n",
    "\n",
    "自己构建的函数，使用 ```def 函数的名字()``` 来创建自己想要的功能的函数。\n",
    "\n",
    "### - 关系\n",
    "\n",
    "无论是内建函数，还是自建函数，调用的方法都是类似的。\n",
    "\n",
    "不过自建函数的时候，有些参数的功能设定需要自己依据需要进行设定，本讲会介绍“可变长参数”的设定。"
   ]
  },
  {
   "cell_type": "markdown",
   "metadata": {},
   "source": [
    "## 参数的赋值逻辑\n",
    "\n",
    "### - 默认顺序\n",
    "\n",
    "#### -- 自建简单函数进行说明\n",
    "\n",
    "Python 内建函数相对来说功能比较复杂，会对知识点的介绍产生认知上的干扰，因此我们自己创建一个简单函数进行演示说明，如果不满足，可以看下面的内建函数的例子说明（希望能解释清楚了。）。\n",
    "\n",
    "创建一个赋值5个数值的函数，并且将“参数名字”和“对应数值”对应输出："
   ]
  },
  {
   "cell_type": "code",
   "execution_count": 1,
   "metadata": {},
   "outputs": [
    {
     "name": "stdout",
     "output_type": "stream",
     "text": [
      "a 对应的数字是 1;\n",
      "b 对应的数字是 22;\n",
      "c 对应的数字是 333;\n",
      "d 对应的数字是 4444;\n",
      "e 对应的数字是 55555;\n",
      "a 对应的数字是 22;\n",
      "b 对应的数字是 1;\n",
      "c 对应的数字是 55555;\n",
      "d 对应的数字是 333;\n",
      "e 对应的数字是 4444;\n"
     ]
    }
   ],
   "source": [
    "def print5num(a, b, c, d, e):\n",
    "    print('a 对应的数字是 %a;' %a)\n",
    "    print('b 对应的数字是 %a;' %b)\n",
    "    print('c 对应的数字是 %a;' %c)\n",
    "    print('d 对应的数字是 %a;' %d)\n",
    "    print('e 对应的数字是 %a;' %e)\n",
    "    \n",
    "print5num(1, 22, 333, 4444, 55555)\n",
    "# print5num(b=1, 222, 333, 4444, 5555) # 这样子会报错\n",
    "# print5num(b=1, a=22, 333, 4444, 55555) # 也是会报错\n",
    "print5num(b=1, a=22, d=333, e=4444, c=55555) # 也是会报错"
   ]
  },
  {
   "cell_type": "markdown",
   "metadata": {},
   "source": [
    "【理解：】\n",
    "\n",
    "也就是如果有一个参数提前调用赋值，那么其他的参数也需要使用“参数名字=赋值内容”这样的语句进行赋值，剩下的参数不再具有默认顺序赋值的考虑；但是不包括下面介绍的“参数默认值”的这种情况。"
   ]
  },
  {
   "cell_type": "markdown",
   "metadata": {},
   "source": [
    "#### -- Python 内建函数举例\n",
    "\n",
    "如果没有使用参数名字进行赋值（比如 ```encoding='utf8'``` ），那么，默认是是按照定义的参数的顺序依次将“内容”赋值对应的参数（我不太喜欢 这样，1. 因为过了一段时间，如果函数的参数调整了，然后就找不到以前的设定的意义了；2. 对于其他人、一段时间后的自己的可读性太差）。\n",
    "\n",
    "比如 ```print()``` 的参数依次为 ```(values, sep, end, file, flush)```，具体的意义我们暂且不说，只是解释常用的几个作为说明。\n",
    "\n",
    "```values```就是需要输出的内容，作为第一个，所以我们之前的语句 ```print('这里的内容会输出')```，就会输出“这里的内容会输出”，其他参数就会使用默认的设定。  \n",
    "由于 print 函数的特殊性（如果一直不指明参数名字，默认所有内容都是输出的 values 内容。），比如："
   ]
  },
  {
   "cell_type": "code",
   "execution_count": 2,
   "metadata": {},
   "outputs": [
    {
     "name": "stdout",
     "output_type": "stream",
     "text": [
      "a b c -\n"
     ]
    }
   ],
   "source": [
    "print('a','b','c','-')"
   ]
  },
  {
   "cell_type": "markdown",
   "metadata": {},
   "source": [
    "其他例子，之前使用的 open() 函数，第一个是一定要输入的文件名字，第二个参数是打开读取方式，如果不说明，就默认当作第二个参数的数值使用，即   \n",
    "```open('fileName', 'r')``` 就是 ```open(file='fileName', mode='r')```。\n",
    "\n",
    "而如果想跳到其他参数进行设定，那【方法】就是写出参数名字进行赋值，比如 ```print()``` 函数需要进行以“- from 作者”结尾，那么就调用第三个参数 ```end```（以什么作为结尾的作用），比如："
   ]
  },
  {
   "cell_type": "code",
   "execution_count": 3,
   "metadata": {},
   "outputs": [
    {
     "name": "stdout",
     "output_type": "stream",
     "text": [
      "这里是需要发送并且打印出来的内容- from 作者"
     ]
    }
   ],
   "source": [
    "print('这里是需要发送并且打印出来的内容', end='- from 作者')"
   ]
  },
  {
   "cell_type": "markdown",
   "metadata": {},
   "source": [
    "### - 参数默认值设定\n",
    "\n",
    "在创建函数的时候，如果属性赋值了，那么如果用户调用函数的时候没有进行赋值操作，那么就按照默认的赋值进行“计算”。\n",
    "\n",
    "比如创建一个计算“物体高空静止下落高度”的函数(即s = 1/2 * g * t^2)，那么，在地球上，重力加速度默认是9.8N/kg，但是如果以后移民火星后，那么重力加速度就不是了，这时候需要认为说明改变后的重力加速度是多少。\n",
    "\n",
    "代码如下："
   ]
  },
  {
   "cell_type": "code",
   "execution_count": 4,
   "metadata": {},
   "outputs": [
    {
     "name": "stdout",
     "output_type": "stream",
     "text": [
      "请输入第一个物体下落的时间：5\n",
      "地球上，5.0 s物体下落的距离是：122.5\n",
      "请输入第二个物体下落的时间：5\n",
      "请输入火星的重力加速度：3.711\n",
      "火星上，5.0 s物体下落的距离是：46.3875\n"
     ]
    }
   ],
   "source": [
    "def distOfDown(tempTime, tempGravity=9.8): # 如果没有第二个参数输入的话，tempGravity 默认数值是 9.8\n",
    "    tempDist = 0.5 * tempGravity * tempTime * tempTime \n",
    "    return tempDist\n",
    "\n",
    "time1 = float(input('请输入第一个物体下落的时间：'))\n",
    "dist1 = distOfDown(time1) # 没有第二个参数的数值，那么 time1 就是当作 tempTime 的数值\n",
    "# tempGravity 就是默认的数值 9.8\n",
    "print(\"地球上，%s s物体下落的距离是：%s\"%(time1, dist1))\n",
    "\n",
    "time2 = float(input('请输入第二个物体下落的时间：'))\n",
    "marsGravity = float(input('请输入火星的重力加速度：')) # 火星的重力加速度是 3.711\n",
    "dist2 = distOfDown(time1, marsGravity)\n",
    "print(\"火星上，%s s物体下落的距离是：%s\"%(time2, dist2))"
   ]
  },
  {
   "cell_type": "markdown",
   "metadata": {},
   "source": [
    "解释：\n",
    "1. 第一次调用函数 ```distOfDown``` 的时候，值输入了 ```time1```，按照默认顺序，这个数值赋值给了函数的 tempTime，然后 tempGravity 采用设定的默认数值 9.8 进行计算。\n",
    "2. 第二次调用函数 ```distOfDown``` 的时候，值输入了两个，```time2```、```marsGravity```，那么，函数里面参数的赋值相当于：  \n",
    "```\n",
    "tempTime = time2\n",
    "tempGravity = marsGravity\n",
    "```\n",
    "因此默认数值 9.8 就被替换掉了。\n",
    "3. 这里只进行简单的数字例子的说明，其他的数据类型，比如 dict（字典）、list（列表）等，都可以进行类似的设定，但是这样会冲淡这个知识点的说明，后面大家水平提高之后，碰到复杂些的例子就会明白啦。"
   ]
  },
  {
   "cell_type": "markdown",
   "metadata": {},
   "source": [
    "### - 可变长参数设定\n",
    "\n",
    "【目的】：使得构建的函数，可以想内建函数一样，可以是输入一个数值，也可以是输入多个数值，都可以正常运行。\n",
    "\n",
    "【反例】：比如之前的函数：\n",
    "```\n",
    " def print5num(a, b, c, d, e):\n",
    "    print('a 对应的数字是 %a;' %a)\n",
    "    print('b 对应的数字是 %a;' %b)\n",
    "    print('c 对应的数字是 %a;' %c)\n",
    "    print('d 对应的数字是 %a;' %d)\n",
    "    print('e 对应的数字是 %a;' %e)\n",
    " ```   \n",
    "如果输入的参数不是5个，无论是比5多还是比5少，都会报错，如下："
   ]
  },
  {
   "cell_type": "code",
   "execution_count": 5,
   "metadata": {},
   "outputs": [
    {
     "ename": "TypeError",
     "evalue": "print5num() missing 1 required positional argument: 'e'",
     "output_type": "error",
     "traceback": [
      "\u001b[1;31m---------------------------------------------------------------------------\u001b[0m",
      "\u001b[1;31mTypeError\u001b[0m                                 Traceback (most recent call last)",
      "\u001b[1;32m<ipython-input-5-11e4cb3eebb2>\u001b[0m in \u001b[0;36m<module>\u001b[1;34m()\u001b[0m\n\u001b[1;32m----> 1\u001b[1;33m \u001b[0mprint5num\u001b[0m\u001b[1;33m(\u001b[0m\u001b[1;36m1\u001b[0m\u001b[1;33m,\u001b[0m \u001b[1;36m22\u001b[0m\u001b[1;33m,\u001b[0m \u001b[1;36m333\u001b[0m\u001b[1;33m,\u001b[0m \u001b[1;36m4444\u001b[0m\u001b[1;33m)\u001b[0m\u001b[1;33m\u001b[0m\u001b[0m\n\u001b[0m",
      "\u001b[1;31mTypeError\u001b[0m: print5num() missing 1 required positional argument: 'e'"
     ]
    }
   ],
   "source": [
    "print5num(1, 22, 333, 4444)"
   ]
  },
  {
   "cell_type": "markdown",
   "metadata": {},
   "source": [
    "解释：就是说调用的 ```print5num``` 缺少了一个必要的参数数值，所以无法正常运行。\n",
    "\n",
    "【正例】：设定可变长参数，不必须的参数前面加上星号“*”。"
   ]
  },
  {
   "cell_type": "code",
   "execution_count": 9,
   "metadata": {},
   "outputs": [
    {
     "name": "stdout",
     "output_type": "stream",
     "text": [
      "3\n",
      "2\n",
      "5\n"
     ]
    }
   ],
   "source": [
    "def howLong(a, *others):\n",
    "    return 1 + len(others)    # 因为 a 就是一个长度，所以不必须使用 len（a），减少计算机计算量\n",
    "\n",
    "print(howLong(1, 22, 333))    # 一共3个参数，所以输出的是 3\n",
    "print(howLong(1, 22))    # 一共是2个参数，所以输出的是 2\n",
    "print(howLong(1, 22, 333, 4444, 55555))    # 一共是5个参数，所以输出的是 5"
   ]
  },
  {
   "cell_type": "markdown",
   "metadata": {},
   "source": [
    "【其他尝试】不知道如果有两个参数是打“*”会怎么样。"
   ]
  },
  {
   "cell_type": "code",
   "execution_count": 11,
   "metadata": {},
   "outputs": [
    {
     "ename": "SyntaxError",
     "evalue": "invalid syntax (<ipython-input-11-a2364a397a99>, line 1)",
     "output_type": "error",
     "traceback": [
      "\u001b[1;36m  File \u001b[1;32m\"<ipython-input-11-a2364a397a99>\"\u001b[1;36m, line \u001b[1;32m1\u001b[0m\n\u001b[1;33m    def howLong2(a, *b, *c):\u001b[0m\n\u001b[1;37m                        ^\u001b[0m\n\u001b[1;31mSyntaxError\u001b[0m\u001b[1;31m:\u001b[0m invalid syntax\n"
     ]
    }
   ],
   "source": [
    "def howLong2(a, *b, *c):\n",
    "    print(\"a= %s\" %a)\n",
    "    print(\"b= %s\" %b)\n",
    "    print(\"c= %s\" %c)\n",
    "howLong2(1, 22, 333)"
   ]
  },
  {
   "cell_type": "markdown",
   "metadata": {},
   "source": [
    "分析：报错，语法错误，应该就是加了“*”之后，后面的内容是不能再添加了"
   ]
  },
  {
   "cell_type": "code",
   "execution_count": 14,
   "metadata": {},
   "outputs": [
    {
     "name": "stdout",
     "output_type": "stream",
     "text": [
      "a= 1\n",
      "b= 22\n",
      "c= 333\n"
     ]
    }
   ],
   "source": [
    "def howLong3(a, *b):\n",
    "    print(\"a= %s\" %a)\n",
    "    print(\"b= %s\" %b[0])    # 不加数字标是不行的，也就是除了a之外，后面的内容，\n",
    "    print(\"c= %s\" %b[1])    # 是保存成 list 传入到函数的。\n",
    "howLong3(1, 22, 333)"
   ]
  },
  {
   "cell_type": "markdown",
   "metadata": {},
   "source": [
    "\n",
    "---\n",
    "注：  \n",
    "个人微信公众号：codeAndWrite"
   ]
  }
 ],
 "metadata": {
  "kernelspec": {
   "display_name": "Python 3",
   "language": "python",
   "name": "python3"
  },
  "language_info": {
   "codemirror_mode": {
    "name": "ipython",
    "version": 3
   },
   "file_extension": ".py",
   "mimetype": "text/x-python",
   "name": "python",
   "nbconvert_exporter": "python",
   "pygments_lexer": "ipython3",
   "version": "3.5.5"
  }
 },
 "nbformat": 4,
 "nbformat_minor": 2
}
