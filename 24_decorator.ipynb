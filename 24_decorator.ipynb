{
 "cells": [
  {
   "cell_type": "markdown",
   "metadata": {},
   "source": [
    "# 24.【Python学习分享文章】_decorator（装饰器）"
   ]
  },
  {
   "cell_type": "markdown",
   "metadata": {},
   "source": [
    "## 综述\n",
    "\n",
    "装饰器，是“闭包”的更加接近自然语意的表达，也是函数。\n",
    "\n",
    "这种使代码获得相同效果，但是代码更加简洁，有更高的可读性的处理，就叫做“**加糖**”（甜蜜到飞起），这样的结构就叫做“**Syntactic sugar语法糖**”\n",
    "\n",
    "### - demo 说明作用\n",
    "\n",
    "#### -- 目的：\n",
    "\n",
    "计算显示“程序运行时间”。\n",
    "\n",
    "#### -- 常规code："
   ]
  },
  {
   "cell_type": "code",
   "execution_count": 1,
   "metadata": {
    "scrolled": true
   },
   "outputs": [
    {
     "name": "stdout",
     "output_type": "stream",
     "text": [
      "1538103425.260957\n",
      "函数运行了 3.0007355213165283 秒\n"
     ]
    }
   ],
   "source": [
    "import time\n",
    "\n",
    "print(time.time())   \n",
    "# 返回从1970年01月01号到运行这句code时的总时间秒数\n",
    "# 从1970.01.01的“绝对时间”\n",
    "\n",
    "def sleepSomeTime():\n",
    "    time.sleep(3)    # 让程序休息（停止）3秒钟，单位是【秒】\n",
    "    \n",
    "startTime = time.time()    # 获得程序开始运行到这里的绝对时间\n",
    "sleepSomeTime()    # 调用停止3秒的函数\n",
    "stopTime = time.time()    # 获得程序运行到这里（结束的地方）的绝对时间\n",
    "print('函数运行了 %s 秒' %(stopTime-startTime))    # 计算中间程序运行的时间"
   ]
  },
  {
   "cell_type": "markdown",
   "metadata": {},
   "source": [
    "#### -- 问题\n",
    "\n",
    "如果 ```sleepSomeTime``` 所代表的函数（可以是很复杂，因为只是讲解思路，所以会感觉很奇怪，一句的 code 函数后变成了两句）需要多次运行，那么就需要多次建立 ```startTime```、```stopTime```，很很冗杂。\n",
    "\n",
    "能不能把这些重复的内容使用函数处理呢？\n",
    "\n",
    "#### -- 目的\n",
    "\n",
    "decorator 的作用是吧函数中还需要构建功能的部分也构造函数，但是不在原函数（即“被装饰函数”）进行处理，进行单独编写，使代码层次更加明确、易读。\n",
    "\n",
    "#### -- decorator 写法:"
   ]
  },
  {
   "cell_type": "code",
   "execution_count": 5,
   "metadata": {},
   "outputs": [
    {
     "name": "stdout",
     "output_type": "stream",
     "text": [
      "函数运行了 3.0049169063568115 秒\n"
     ]
    }
   ],
   "source": [
    "import time\n",
    "\n",
    "def timer(func):    # 外部函数\n",
    "    def wrapper():    # 内部函数\n",
    "        startTime = time.time()\n",
    "        func()    # 需要的功能，在外部进行函数构造，这里进行调用。这里用sleep代替进行演示\n",
    "        # 外部函数传入了“函数 func” 到内部函数，相当少“闭包”的逻辑，不过闭包是传入参数\n",
    "        stopTime = time.time()\n",
    "        print('函数运行了 %s 秒' %(stopTime-startTime))\n",
    "    return wrapper\n",
    "\n",
    "@timer    # 这个函数叫做“装饰函数”，这里面（也就是上面）的code对下面的函数进行装饰、补充\n",
    "def sleepSomeTime():    # 这个函数叫做“被装饰函数”，这个是【主体】\n",
    "    time.sleep(3)\n",
    "    \n",
    "sleepSomeTime()    # 被被装饰函数才是主体，所以使用功能是用调用这个函数名字的\n",
    "# 建立 decorator 后，调用 timer 和 sleepSomeTime 的嵌套的函数\n",
    "# 只要写一句 sleepSomeTime 就可以了，不用再写 startTime 和 stopTime 了。"
   ]
  },
  {
   "cell_type": "markdown",
   "metadata": {},
   "source": [
    "#### -- 解释(**important**）\n",
    "\n",
    "当运行 ```sleepSomeTime``` 时，Python 会寻找到定义的 ```def sleepSomeTime```,然后上面有一个装饰器语句，不会直接运行 ```sleepSomeTime```，而是会再向上寻找 @ 后面的 ```timer``` 函数，然后会把 ```sleepSomeTime``` 传输到 ```timer``` 中，也就是相当于：\n",
    "\n",
    "```\n",
    "timer(sleepSomeTime())\n",
    "```\n",
    "\n",
    "如果要完成得到结果，就是如下code：\n",
    "```\n",
    "getSleepTime = timer(sleepSomeTime())    # getSleepTime 成为定义的函数里面的 wrapper 的结构的函数\n",
    "getSleepTime()    # 运行这个函数\n",
    "```\n",
    "\n",
    "因为不够【优雅】，然后就演化成了 decorator 的写法。"
   ]
  },
  {
   "cell_type": "markdown",
   "metadata": {},
   "source": [
    "## 复杂demo_1\n",
    "\n",
    "被装饰函数（主体函数）带的【参数】传递到装饰函数 的 装饰器的构建。\n",
    "\n",
    "### - 框架"
   ]
  },
  {
   "cell_type": "code",
   "execution_count": null,
   "metadata": {},
   "outputs": [],
   "source": [
    "def waiFunc(chuanFunc):\n",
    "    def neiFunc():\n",
    "        start\n",
    "        chuanFunc\n",
    "        stop\n",
    "    return neiFunc"
   ]
  },
  {
   "cell_type": "markdown",
   "metadata": {},
   "source": [
    "### - 填充功能\n",
    "\n",
    "【功能】：实现“计算两个数据的累加结果”"
   ]
  },
  {
   "cell_type": "code",
   "execution_count": null,
   "metadata": {},
   "outputs": [],
   "source": [
    "def waiFunc(chuanFunc):\n",
    "    def neiFunc(a, b):    # 下面 add 函数的参数a、b需要写在内函数这里\n",
    "        start\n",
    "        chuanFunc(a, b)\n",
    "        stop\n",
    "    return neiFunc\n",
    "\n",
    "@waiFunc\n",
    "def add(a, b):\n",
    "    print(a+b)"
   ]
  },
  {
   "cell_type": "markdown",
   "metadata": {},
   "source": [
    "### - 外函数建立功能\n",
    "\n",
    "只是简单建立一个功能呢：进行提示程序运行到哪里。"
   ]
  },
  {
   "cell_type": "code",
   "execution_count": 6,
   "metadata": {},
   "outputs": [
    {
     "name": "stdout",
     "output_type": "stream",
     "text": [
      "开始要调用外函数传递过来的函数了\n",
      "9\n",
      "调用结束了\n"
     ]
    }
   ],
   "source": [
    "def tip(chuanFunc):\n",
    "    def neiFunc(a, b):\n",
    "        print('开始要调用外函数传递过来的函数了')\n",
    "        chuanFunc(a, b)\n",
    "        print('调用结束了')\n",
    "    return neiFunc\n",
    "\n",
    "@tip\n",
    "def add(a, b):\n",
    "    print(a+b)\n",
    "    \n",
    "add(4, 5)"
   ]
  },
  {
   "cell_type": "markdown",
   "metadata": {},
   "source": [
    "### - 延伸展示用法\n",
    "\n",
    "可以把 ```tip``` 这个装饰函数，去装饰其他主体函数，进行相同的提示。\n",
    "\n",
    "（可以有什么变形呢？遇到的code 不够多，不明白到底有什么作用）\n",
    "\n",
    "#### -- 装饰减法"
   ]
  },
  {
   "cell_type": "code",
   "execution_count": 7,
   "metadata": {},
   "outputs": [
    {
     "name": "stdout",
     "output_type": "stream",
     "text": [
      "开始要调用外函数传递过来的函数了\n",
      "-96\n",
      "调用结束了\n"
     ]
    }
   ],
   "source": [
    "@tip\n",
    "def sub(a, b):\n",
    "    print(a-b)\n",
    "    \n",
    "sub(3, 99)"
   ]
  },
  {
   "cell_type": "markdown",
   "metadata": {},
   "source": [
    "#### -- 装饰乘法"
   ]
  },
  {
   "cell_type": "code",
   "execution_count": 8,
   "metadata": {},
   "outputs": [
    {
     "name": "stdout",
     "output_type": "stream",
     "text": [
      "开始要调用外函数传递过来的函数了\n",
      "-10\n",
      "调用结束了\n"
     ]
    }
   ],
   "source": [
    "@tip\n",
    "def multi(a,b):\n",
    "    print(a * b)\n",
    "    \n",
    "multi(2, -5)"
   ]
  },
  {
   "cell_type": "markdown",
   "metadata": {},
   "source": [
    "## demo_2_装饰器参数\n",
    "\n",
    "将装饰器的参数传入进行处理、调用。\n",
    "\n",
    "### - 增加装饰器的参数"
   ]
  },
  {
   "cell_type": "code",
   "execution_count": null,
   "metadata": {},
   "outputs": [],
   "source": [
    "def tip(chuanFunc):\n",
    "    def neiFunc(a, b):\n",
    "        print('开始要调用外函数传递过来的函数了')\n",
    "        chuanFunc(a, b)\n",
    "        print('调用结束了')\n",
    "    return neiFunc\n",
    "\n",
    "@tip('add')    # 给装饰器一个特定标记，因为下面的被装饰函数是add，所以增加“add”的标记参数\n",
    "def add(a, b):\n",
    "    print(a+b)"
   ]
  },
  {
   "cell_type": "markdown",
   "metadata": {},
   "source": [
    "### - 结构调整\n",
    "\n",
    "【问题】：tip 的函数定义的时候，已经说明使用的参数是```chuanFunc```，所以这个 @ 后面增加的参数没有位置传入了。\n",
    "\n",
    "【解决】：再嵌套一层外函数，将装饰器的参数通过最外面一层传入，让里面的 ```tip```和```neiFunc```可以进行调用。\n",
    "\n",
    "code 如下："
   ]
  },
  {
   "cell_type": "code",
   "execution_count": 17,
   "metadata": {},
   "outputs": [
    {
     "name": "stdout",
     "output_type": "stream",
     "text": [
      "开始要调用外函数传递过来的函数了，\n",
      "且运行的机制是装饰器参数定义的\"addOperation\"计算方式\n",
      "8\n",
      "调用结束了\n",
      "开始要调用外函数传递过来的函数了，\n",
      "且运行的机制是装饰器参数定义的\"subOperation\"计算方式\n",
      "-5\n",
      "调用结束了\n"
     ]
    }
   ],
   "source": [
    "def tipWithParam(opName):\n",
    "    def tip(chuanFunc):\n",
    "        def neiFunc(a, b):\n",
    "            print('开始要调用外函数传递过来的函数了，')\n",
    "            print('且运行的机制是装饰器参数定义的\"%s\"计算方式' %opName)\n",
    "            chuanFunc(a, b)\n",
    "            print('调用结束了')\n",
    "        return neiFunc\n",
    "    return tip\n",
    "\n",
    "@tipWithParam('addOperation')\n",
    "def add(a, b):\n",
    "    print(a+b)\n",
    "# 上面这个语句结构，说明 Python 机制是：\n",
    "# 如果装饰器没有参数，那么就是把装饰器下面跟着的主体函数进行装饰，也就是传入到装饰函数\n",
    "# 如果装饰器函数有参数，那么先会把参数传输装饰器函数，得到一个新的装饰器函数\n",
    "# 这时候，再把主体函数传入到生成的具有参数特征的装饰器函数，再进行之前的逻辑的运行顺序\n",
    "\n",
    "add(3, 5)\n",
    "\n",
    "@tipWithParam('subOperation')\n",
    "def sub(a, b):\n",
    "    print(a-b)\n",
    "\n",
    "sub(3, 8)"
   ]
  },
  {
   "cell_type": "markdown",
   "metadata": {},
   "source": [
    "### - 作用&好处\n",
    "\n",
    "可以把装饰器变得通用化，可以根据被装饰的主体函数的特点，设定不一样的装饰情况。"
   ]
  },
  {
   "cell_type": "markdown",
   "metadata": {},
   "source": [
    "## demo_3_获取其他数据\n",
    "\n",
    "【目的】：下面的 code 是为了获取“主体函数”（被装饰函数）的函数名。\n",
    "\n",
    "code 如下："
   ]
  },
  {
   "cell_type": "code",
   "execution_count": 21,
   "metadata": {},
   "outputs": [
    {
     "name": "stdout",
     "output_type": "stream",
     "text": [
      "开始要调用外函数传递过来的函数了，\n",
      "且运行的机制是装饰器参数定义的\"addOperation\"计算方式\n",
      "但是，注意，真正的运算是按照函数名字进行的（如果你主体函数没有错的话），\n",
      "主体函数的名字是什么呢？是\"add\"\n",
      "8\n",
      "调用结束了\n",
      "开始要调用外函数传递过来的函数了，\n",
      "且运行的机制是装饰器参数定义的\"subOperation\"计算方式\n",
      "但是，注意，真正的运算是按照函数名字进行的（如果你主体函数没有错的话），\n",
      "主体函数的名字是什么呢？是\"sub\"\n",
      "-5\n",
      "调用结束了\n"
     ]
    }
   ],
   "source": [
    "def tipWithParam(opName):\n",
    "    def tip(chuanFunc):\n",
    "        def neiFunc(a, b):\n",
    "            print('开始要调用外函数传递过来的函数了，')\n",
    "            print('且运行的机制是装饰器参数定义的\"%s\"计算方式' %opName)\n",
    "            print('但是，注意，真正的运算是按照函数名字进行的（如果你主体函数没有错的话），')\n",
    "            print('主体函数的名字是什么呢？是\"%s\"'%chuanFunc.__name__)\n",
    "            chuanFunc(a, b)\n",
    "            print('调用结束了')\n",
    "        return neiFunc\n",
    "    return tip\n",
    "\n",
    "@tipWithParam('addOperation')\n",
    "def add(a, b):\n",
    "    print(a+b)\n",
    "\n",
    "add(3, 5)\n",
    "\n",
    "@tipWithParam('subOperation')\n",
    "def sub(a, b):\n",
    "    print(a-b)\n",
    "\n",
    "sub(3, 8)"
   ]
  },
  {
   "cell_type": "markdown",
   "metadata": {},
   "source": [
    "## 总结\n",
    "\n",
    "1. 调用函数的时候，不用重复在主体前后添加修饰代码\n",
    "2. 构建函数的时候，只需在主体函数前面增加“@引用的装饰函数名字”，如果有参数，就使用“调用”的语句\n",
    "3. 让 code 更加简洁。"
   ]
  },
  {
   "cell_type": "markdown",
   "metadata": {},
   "source": [
    "---\n",
    "注：  \n",
    "个人微信公众号：codeAndWrite"
   ]
  }
 ],
 "metadata": {
  "kernelspec": {
   "display_name": "Python 3",
   "language": "python",
   "name": "python3"
  },
  "language_info": {
   "codemirror_mode": {
    "name": "ipython",
    "version": 3
   },
   "file_extension": ".py",
   "mimetype": "text/x-python",
   "name": "python",
   "nbconvert_exporter": "python",
   "pygments_lexer": "ipython3",
   "version": "3.5.5"
  }
 },
 "nbformat": 4,
 "nbformat_minor": 2
}
