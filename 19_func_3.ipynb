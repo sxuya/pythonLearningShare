{
 "cells": [
  {
   "cell_type": "markdown",
   "metadata": {},
   "source": [
    "# 19.【Python学习分享文章】_function（函数）_3_变量的作用域"
   ]
  },
  {
   "cell_type": "markdown",
   "metadata": {},
   "source": [
    "## 综述\n",
    "\n",
    "主要的目的：明白两个同名的变量，其具体初始数值是多少、相应位置进行了什么样的数据变化。\n",
    "\n",
    "函数的作用域，就是说这个变量到底能不能使用、数值发生变化后，是变化前的数据被调用（即产生变化在作用域无法影响外面的情况），还是变化后的数据（即产生变化在当前代码的运行区块中）。\n",
    "\n",
    "看下面的对比例子就知道了。\n",
    "\n",
    "## 区分的作用域\n",
    "\n",
    "两个作用域是区别开来的，子代码块里面的变量变化，不影响父代码块的变量情况。\n",
    "\n",
    "例子："
   ]
  },
  {
   "cell_type": "code",
   "execution_count": 9,
   "metadata": {},
   "outputs": [
    {
     "name": "stdout",
     "output_type": "stream",
     "text": [
      "1984\n",
      "2018\n"
     ]
    }
   ],
   "source": [
    "year = 2018 # 生成一个变量名字是“year”、数值是“2018”的变量\n",
    "\n",
    "def whatever():\n",
    "    year = 1985    # 这个不能省略，还是要重新声明变量的数值，否则无法运行\n",
    "    year -= 1\n",
    "    print(year)\n",
    "\n",
    "whatever()\n",
    "print(year)"
   ]
  },
  {
   "cell_type": "markdown",
   "metadata": {},
   "source": [
    "【解释】：函数的缩进部分是 子代码块，函数外面的其他部分是这个函数的 父代码块；父代码块 和 子代码块 都包含 ```year``` 这个名字的变量，但是子代码块，即函数部分，里面的变动，不会影响到函数外面同名变量的数值。相当于是被**隔离了**。"
   ]
  },
  {
   "cell_type": "markdown",
   "metadata": {},
   "source": [
    "## 提升为通用变量，全局可用\n",
    "\n",
    "或者说是融合作用域，让 子代码块 里面的变量成为“全局变量”，也就是说影响到 父代码块 的变量情况。\n",
    "\n",
    "例子："
   ]
  },
  {
   "cell_type": "code",
   "execution_count": 1,
   "metadata": {},
   "outputs": [
    {
     "name": "stdout",
     "output_type": "stream",
     "text": [
      "2010\n",
      "2010\n"
     ]
    }
   ],
   "source": [
    "year2 = 2019\n",
    "\n",
    "def whatever2():\n",
    "    global year2    # 不可以写成 global year2 = 2017\n",
    "    year2 = 2017    # 好奇怪的机制，上面不是才是 Python 喜欢的简洁性的语法么？\n",
    "    year2 -= 7    # 为什么非要先声明全局变量global，才能赋值呢？暂时没有想到其中的逻辑\n",
    "    return year2\n",
    "    \n",
    "print(whatever2())\n",
    "print(year2)"
   ]
  },
  {
   "cell_type": "markdown",
   "metadata": {},
   "source": [
    "【解释】：global 的语法也就让 year2 这个变量不再只是函数内部的变量名字了，而是在外面所有的地方都可以同时保持数据的变化，会进行完全的同步。"
   ]
  },
  {
   "cell_type": "markdown",
   "metadata": {},
   "source": [
    "---\n",
    "注：  \n",
    "个人微信公众号：codeAndWrite"
   ]
  }
 ],
 "metadata": {
  "kernelspec": {
   "display_name": "Python 3",
   "language": "python",
   "name": "python3"
  },
  "language_info": {
   "codemirror_mode": {
    "name": "ipython",
    "version": 3
   },
   "file_extension": ".py",
   "mimetype": "text/x-python",
   "name": "python",
   "nbconvert_exporter": "python",
   "pygments_lexer": "ipython3",
   "version": "3.5.5"
  }
 },
 "nbformat": 4,
 "nbformat_minor": 2
}
