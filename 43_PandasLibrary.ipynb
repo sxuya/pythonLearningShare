{
 "cells": [
  {
   "cell_type": "markdown",
   "metadata": {},
   "source": [
    "# 43.【Python学习分享文章】_PandasLibrary_Pandas库\n",
    "\n",
    "## 综述\n",
    "\n",
    "### - 主要作用\n",
    "\n",
    "1. 数据预处理\n",
    "2. 数据清洗\n",
    "\n",
    "### - 相比 nump 优势\n",
    "\n",
    "1. 可自动对齐显示\n",
    "2. 灵活处理缺失数据  \n",
    "a. 填充指定数据  \n",
    "b. 填充平均值  \n",
    "3. 像 circle 语句进行连接操作\n",
    "\n",
    "### - 两个主要数据类型\n",
    "\n",
    "1. Series。一维数据形式。\n",
    "2. DataFrame。二维或者多维数据形式。\n",
    "\n",
    "数据类型还是基础的序列类数据，不过是进行了 class 化，因此具有一些数据类型本身定义的一些便捷操作，不用自己再去造轮子了。\n",
    "\n",
    "### - 安装 install\n",
    "\n",
    "同样，使用 pip 进行安装，语句 ```pip install pandas``` 即可。"
   ]
  },
  {
   "cell_type": "markdown",
   "metadata": {},
   "source": [
    "## ```Series``` 数据类型\n",
    "\n",
    "Series 的数据是【一维数据】。\n",
    "\n",
    "### - 建立\n",
    "\n",
    "如下："
   ]
  },
  {
   "cell_type": "code",
   "execution_count": 1,
   "metadata": {},
   "outputs": [],
   "source": [
    "from pandas import Series, DataFrame"
   ]
  },
  {
   "cell_type": "code",
   "execution_count": 2,
   "metadata": {},
   "outputs": [
    {
     "name": "stdout",
     "output_type": "stream",
     "text": [
      "0     7\n",
      "1     3\n",
      "2    47\n",
      "3    -9\n",
      "dtype: int64\n"
     ]
    }
   ],
   "source": [
    "object_1 = Series([7, 3, 47, -9])\n",
    "print(object_1)"
   ]
  },
  {
   "cell_type": "markdown",
   "metadata": {},
   "source": [
    "【优势】：  \n",
    "相当于对 numpy 的 array 再一次进行封装，好处是自带索引序号，可以更方便访问数据。\n",
    "\n",
    "有点像什么呢？就是把 list 数据转化成了 dict 数据。"
   ]
  },
  {
   "cell_type": "markdown",
   "metadata": {},
   "source": [
    "### - 单独取得索引、数值\n",
    "\n",
    "如下："
   ]
  },
  {
   "cell_type": "code",
   "execution_count": 3,
   "metadata": {},
   "outputs": [
    {
     "name": "stdout",
     "output_type": "stream",
     "text": [
      "RangeIndex(start=0, stop=4, step=1)\n",
      "[ 7  3 47 -9]\n"
     ]
    }
   ],
   "source": [
    "print(object_1.index)\n",
    "print(object_1.values)"
   ]
  },
  {
   "cell_type": "markdown",
   "metadata": {},
   "source": [
    "### - 和 dict 数据区别\n",
    "\n",
    "Series 数据的索引是可以重复的，而 dict 是不可以。\n",
    "\n",
    "因为 dict 的数据的 key 是通过哈希运算进行建立的，（什么是哈希运算方式 hash，见最下面的解释），重复的 key 是不被允许的，数据会进行覆盖。\n",
    "\n",
    "也因此，列表（[]）、集合（就是字典，{}）不能作为 key 关键字。为什么呢？因为这些数据是可以改变的，改变后，hash 运算后 hash 字符就变了，与定义矛盾。错误报错如下："
   ]
  },
  {
   "cell_type": "code",
   "execution_count": 4,
   "metadata": {},
   "outputs": [
    {
     "ename": "TypeError",
     "evalue": "unhashable type: 'list'",
     "output_type": "error",
     "traceback": [
      "\u001b[1;31m---------------------------------------------------------------------------\u001b[0m",
      "\u001b[1;31mTypeError\u001b[0m                                 Traceback (most recent call last)",
      "\u001b[1;32m<ipython-input-4-6fa650310194>\u001b[0m in \u001b[0;36m<module>\u001b[1;34m()\u001b[0m\n\u001b[1;32m----> 1\u001b[1;33m \u001b[0mdemoDict\u001b[0m \u001b[1;33m=\u001b[0m \u001b[1;33m{\u001b[0m\u001b[1;33m[\u001b[0m\u001b[1;34m'a'\u001b[0m\u001b[1;33m,\u001b[0m \u001b[1;34m'xuyao'\u001b[0m\u001b[1;33m]\u001b[0m\u001b[1;33m:\u001b[0m\u001b[1;36m123\u001b[0m\u001b[1;33m,\u001b[0m \u001b[1;34m'yuang'\u001b[0m\u001b[1;33m:\u001b[0m\u001b[1;36m25\u001b[0m\u001b[1;33m}\u001b[0m\u001b[1;33m\u001b[0m\u001b[0m\n\u001b[0m",
      "\u001b[1;31mTypeError\u001b[0m: unhashable type: 'list'"
     ]
    }
   ],
   "source": [
    "demoDict = {['a', 'xuyao']:123, 'yuang':25}"
   ]
  },
  {
   "cell_type": "markdown",
   "metadata": {},
   "source": [
    "【解释】：  \n",
    "上面报错的“TypeError”的意思就是，列表 list 类型错误，即：不能作为 hash 的运算数据（unhashable）。"
   ]
  },
  {
   "cell_type": "markdown",
   "metadata": {},
   "source": [
    "### - 基本操作＆方法\n",
    "\n",
    "#### -- 手工建立索引的 Series\n",
    "\n",
    "取代自动生成的索引数字，创建手工索引值。如下："
   ]
  },
  {
   "cell_type": "code",
   "execution_count": 5,
   "metadata": {},
   "outputs": [
    {
     "name": "stdout",
     "output_type": "stream",
     "text": [
      "death       4\n",
      "twohand    10\n",
      "months     12\n",
      "china     -86\n",
      "dtype: int64\n"
     ]
    }
   ],
   "source": [
    "objectWithHandedIndex = Series([4, 10, 12, -86], index=['death', 'twohand', 'months', 'china'])\n",
    "print(objectWithHandedIndex)"
   ]
  },
  {
   "cell_type": "markdown",
   "metadata": {},
   "source": [
    "【解释】：  \n",
    "现在，索引 key 就不是默认的“0，1，2，3”了，而是“death,twohand,months,china”了。\n",
    "\n",
    "#### -- 调用、引用\n",
    "那么调用的时候，引用的 key 就要是这些了。如下："
   ]
  },
  {
   "cell_type": "code",
   "execution_count": 6,
   "metadata": {},
   "outputs": [
    {
     "name": "stdout",
     "output_type": "stream",
     "text": [
      "-86\n"
     ]
    }
   ],
   "source": [
    "print(objectWithHandedIndex['china'])"
   ]
  },
  {
   "cell_type": "markdown",
   "metadata": {},
   "source": [
    "#### -- 重新赋值\n",
    "\n",
    "同样，也是要使用改编后的 key 值。如下："
   ]
  },
  {
   "cell_type": "code",
   "execution_count": 7,
   "metadata": {},
   "outputs": [
    {
     "name": "stdout",
     "output_type": "stream",
     "text": [
      "death       4\n",
      "twohand     2\n",
      "months     12\n",
      "china     -86\n",
      "dtype: int64\n"
     ]
    }
   ],
   "source": [
    "objectWithHandedIndex['twohand'] = 2\n",
    "print(objectWithHandedIndex)"
   ]
  },
  {
   "cell_type": "markdown",
   "metadata": {},
   "source": [
    "#### -- 将 Series 当作 dic 来使用\n",
    "\n",
    "判断是否存在（in）相应的 key 值。如下："
   ]
  },
  {
   "cell_type": "code",
   "execution_count": 8,
   "metadata": {},
   "outputs": [
    {
     "name": "stdout",
     "output_type": "stream",
     "text": [
      "False\n",
      "True\n"
     ]
    }
   ],
   "source": [
    "print('year' in objectWithHandedIndex)\n",
    "print('china' in objectWithHandedIndex)"
   ]
  },
  {
   "cell_type": "markdown",
   "metadata": {},
   "source": [
    "### - dict 转化成 Series\n",
    "\n",
    "#### -- 建立\n",
    "\n",
    "直接放入即可，如下："
   ]
  },
  {
   "cell_type": "code",
   "execution_count": 9,
   "metadata": {},
   "outputs": [
    {
     "name": "stdout",
     "output_type": "stream",
     "text": [
      "beijing      11000\n",
      "guangzhou     9966\n",
      "shanghai      9900\n",
      "shenzhen     10999\n",
      "dtype: int64\n"
     ]
    }
   ],
   "source": [
    "# 先定义一个字典\n",
    "populationOfArea = {'beijing':11000, 'shanghai':9900, 'guangzhou':9966, 'shenzhen':10999}\n",
    "# 直接放入 Series 里面即可\n",
    "objectPopArea = Series(populationOfArea)\n",
    "print(objectPopArea)"
   ]
  },
  {
   "cell_type": "markdown",
   "metadata": {},
   "source": [
    "【解释】：  \n",
    "dict 的 key 就转化成了 Series 的 索引index 值，dict 的 value 就转化成了 Series 的 value。"
   ]
  },
  {
   "cell_type": "markdown",
   "metadata": {},
   "source": [
    "#### -- 修改 index（索引）\n",
    "\n",
    "用到“方法”。如下："
   ]
  },
  {
   "cell_type": "code",
   "execution_count": 10,
   "metadata": {},
   "outputs": [
    {
     "name": "stdout",
     "output_type": "stream",
     "text": [
      "BJ      11000\n",
      "GZH      9966\n",
      "SHH      9900\n",
      "SHZH    10999\n",
      "dtype: int64\n"
     ]
    }
   ],
   "source": [
    "objectPopArea.index = ['BJ', 'GZH', 'SHH', 'SHZH']\n",
    "\n",
    "print(objectPopArea)"
   ]
  },
  {
   "cell_type": "markdown",
   "metadata": {},
   "source": [
    "\n",
    "\n"
   ]
  },
  {
   "cell_type": "markdown",
   "metadata": {},
   "source": []
  },
  {
   "cell_type": "markdown",
   "metadata": {},
   "source": []
  },
  {
   "cell_type": "markdown",
   "metadata": {},
   "source": [
    "## ```DataFrame``` 数据类型\n",
    "\n",
    "### - 认识\n",
    "```DataFrame```是二维＆多维数据，可以想象成是一个电子表格。\n",
    "\n",
    "### - 建立/生成\n",
    "\n",
    "**等长的** list 的 dict 或者 NumPy 数组。\n",
    "\n",
    "#### -- dict 生成の demo\n",
    "\n",
    "建立一个“不同城市、不同年份的入学儿童人数”的数据，如下："
   ]
  },
  {
   "cell_type": "code",
   "execution_count": 11,
   "metadata": {},
   "outputs": [
    {
     "name": "stdout",
     "output_type": "stream",
     "text": [
      "  city  population  year\n",
      "0  GZH         6.9  2027\n",
      "1  GZH         5.1  2028\n",
      "2   BJ         7.8  2026\n",
      "3   BJ         7.0  2027\n",
      "4   BJ         6.2  2028\n"
     ]
    }
   ],
   "source": [
    "pop_EnrollChild = {'city':['GZH', 'GZH', 'BJ', 'BJ', 'BJ'],\n",
    "                  \"year\":[ 2027, 2028, 2026, 2027, 2028],\n",
    "                  'population':[ 6.9, 5.1, 7.8, 7.0, 6.2]}\n",
    "frame_pop_EnrollChild = DataFrame(pop_EnrollChild)\n",
    "\n",
    "print(frame_pop_EnrollChild)"
   ]
  },
  {
   "cell_type": "markdown",
   "metadata": {},
   "source": [
    "【解读】：\n",
    "\n",
    "index 值是自动生成的从 0 开始的数字，为“纵轴”；\n",
    "\n",
    "dict 的 key 成为了“横轴”。\n",
    "\n",
    "相当于一个二维的电子表格了。那么，电子表格想要有的处理，基本都有。下面开始介绍。"
   ]
  },
  {
   "cell_type": "markdown",
   "metadata": {},
   "source": [
    "#### -- NumPy 生成の demo\n",
    "\n",
    "暂无，略过。"
   ]
  },
  {
   "cell_type": "markdown",
   "metadata": {},
   "source": [
    "### - 重新排序\n",
    "\n",
    "按照想要的顺序，排列显示 key，如下："
   ]
  },
  {
   "cell_type": "code",
   "execution_count": 12,
   "metadata": {},
   "outputs": [
    {
     "name": "stdout",
     "output_type": "stream",
     "text": [
      "  city  year  population\n",
      "0  GZH  2027         6.9\n",
      "1  GZH  2028         5.1\n",
      "2   BJ  2026         7.8\n",
      "3   BJ  2027         7.0\n",
      "4   BJ  2028         6.2\n"
     ]
    }
   ],
   "source": [
    "frameTreated_pop_EnrollChild = DataFrame(pop_EnrollChild, columns=['city', 'year', 'population'])\n",
    "\n",
    "print(frameTreated_pop_EnrollChild)"
   ]
  },
  {
   "cell_type": "markdown",
   "metadata": {},
   "source": [
    "【记录】：\n",
    "\n",
    "行数不会变动，有些讲解错了。因为我故意把靠后的字母的 G 写在前面，但是并没有发生改变。"
   ]
  },
  {
   "cell_type": "markdown",
   "metadata": {},
   "source": [
    "### - 提取出一维数据\n",
    "\n",
    "从 DataFrame 数据中提取出两个，变成一个一维数据——一个作为 index，一个作为 value。\n",
    "\n",
    "两种方法，和 dict 字典的方法类似，分别是“中括号 key 值”和“```.``` 的使用”。（类似？）\n",
    "\n",
    "#### -- 中括号方法\n",
    "\n",
    "如下："
   ]
  },
  {
   "cell_type": "code",
   "execution_count": 13,
   "metadata": {},
   "outputs": [
    {
     "name": "stdout",
     "output_type": "stream",
     "text": [
      "0    6.9\n",
      "1    5.1\n",
      "2    7.8\n",
      "3    7.0\n",
      "4    6.2\n",
      "Name: population, dtype: float64\n"
     ]
    }
   ],
   "source": [
    "print(frameTreated_pop_EnrollChild['population'])"
   ]
  },
  {
   "cell_type": "markdown",
   "metadata": {},
   "source": [
    "#### -- ```.``` 的方法\n",
    "\n",
    "如下："
   ]
  },
  {
   "cell_type": "code",
   "execution_count": 14,
   "metadata": {},
   "outputs": [
    {
     "name": "stdout",
     "output_type": "stream",
     "text": [
      "0    GZH\n",
      "1    GZH\n",
      "2     BJ\n",
      "3     BJ\n",
      "4     BJ\n",
      "Name: city, dtype: object\n"
     ]
    }
   ],
   "source": [
    "print(frameTreated_pop_EnrollChild.city)"
   ]
  },
  {
   "cell_type": "markdown",
   "metadata": {},
   "source": [
    "### - 增加新列、values\n",
    "\n",
    "同 dict 方法相同。\n",
    "\n",
    "#### -- 增加相同 values\n",
    "\n",
    "如下："
   ]
  },
  {
   "cell_type": "code",
   "execution_count": 15,
   "metadata": {},
   "outputs": [
    {
     "name": "stdout",
     "output_type": "stream",
     "text": [
      "  city  year  population  newData\n",
      "0  GZH  2027         6.9      100\n",
      "1  GZH  2028         5.1      100\n",
      "2   BJ  2026         7.8      100\n",
      "3   BJ  2027         7.0      100\n",
      "4   BJ  2028         6.2      100\n"
     ]
    }
   ],
   "source": [
    "# 增加相同值\n",
    "frameTreated_pop_EnrollChild['newData'] = 100\n",
    "\n",
    "print(frameTreated_pop_EnrollChild)"
   ]
  },
  {
   "cell_type": "markdown",
   "metadata": {},
   "source": [
    "#### -- 增加不同值\n",
    "\n",
    "如下："
   ]
  },
  {
   "cell_type": "code",
   "execution_count": 16,
   "metadata": {},
   "outputs": [
    {
     "name": "stdout",
     "output_type": "stream",
     "text": [
      "  city  year  population  newData  newData2\n",
      "0  GZH  2027         6.9      100        70\n",
      "1  GZH  2028         5.1      100        80\n",
      "2   BJ  2026         7.8      100        76\n",
      "3   BJ  2027         7.0      100        32\n",
      "4   BJ  2028         6.2      100        47\n"
     ]
    }
   ],
   "source": [
    "frameTreated_pop_EnrollChild['newData2'] = [70, 80, 76, 32, 47]\n",
    "\n",
    "print(frameTreated_pop_EnrollChild)"
   ]
  },
  {
   "cell_type": "markdown",
   "metadata": {},
   "source": [
    "#### -- 增加条件判断 values\n",
    "\n",
    "增加“判断是否是北京”的数据显示。如下："
   ]
  },
  {
   "cell_type": "code",
   "execution_count": 17,
   "metadata": {},
   "outputs": [
    {
     "name": "stdout",
     "output_type": "stream",
     "text": [
      "  city  year  population  newData  newData2  isCap\n",
      "0  GZH  2027         6.9      100        70  False\n",
      "1  GZH  2028         5.1      100        80  False\n",
      "2   BJ  2026         7.8      100        76   True\n",
      "3   BJ  2027         7.0      100        32   True\n",
      "4   BJ  2028         6.2      100        47   True\n"
     ]
    }
   ],
   "source": [
    "frameTreated_pop_EnrollChild['isCap'] = frameTreated_pop_EnrollChild.city == 'BJ'\n",
    "\n",
    "print(frameTreated_pop_EnrollChild)"
   ]
  },
  {
   "cell_type": "markdown",
   "metadata": {},
   "source": [
    "### - 建立/生成の方法2\n",
    "\n",
    "dict in dict 的形式。如下："
   ]
  },
  {
   "cell_type": "code",
   "execution_count": 18,
   "metadata": {},
   "outputs": [
    {
     "name": "stdout",
     "output_type": "stream",
     "text": [
      "      beijing  guanghzou\n",
      "2028      3.2        2.4\n",
      "2029      3.6        2.7\n",
      "2030      3.7        2.9\n",
      "2031      4.1        3.5\n"
     ]
    }
   ],
   "source": [
    "pop = {'beijing':{2029:3.6, 2028:3.2, 2031:4.1 ,2030:3.7},\n",
    "      'guanghzou':{2029:2.7, 2028:2.4, 2030:2.9, 2031:3.5}}\n",
    "frameDictInDict = DataFrame(pop)\n",
    "\n",
    "print(frameDictInDict)"
   ]
  },
  {
   "cell_type": "markdown",
   "metadata": {},
   "source": [
    "### - 转置\n",
    "\n",
    "**转置**：“行数据”和“列数据”进行对调。很直接，直接使用数学符号的“T”作为方法，如下："
   ]
  },
  {
   "cell_type": "code",
   "execution_count": 19,
   "metadata": {},
   "outputs": [
    {
     "name": "stdout",
     "output_type": "stream",
     "text": [
      "           2028  2029  2030  2031\n",
      "beijing     3.2   3.6   3.7   4.1\n",
      "guanghzou   2.4   2.7   2.9   3.5\n"
     ]
    }
   ],
   "source": [
    "print(frameDictInDict.T)"
   ]
  },
  {
   "cell_type": "markdown",
   "metadata": {},
   "source": [
    "### - reindex 重建索引 index\n",
    "\n",
    "```reindex``` 是一个方法，我自己认为更贴近的意思应该是“按新索引顺序重新排序”。如下：\n",
    "\n",
    "- 建立一个混乱排序的 DataFrame。"
   ]
  },
  {
   "cell_type": "code",
   "execution_count": 20,
   "metadata": {},
   "outputs": [
    {
     "name": "stdout",
     "output_type": "stream",
     "text": [
      "   beijing  guanghzou\n",
      "a      3.2        2.4\n",
      "b      3.6        2.7\n",
      "c      3.7        2.9\n",
      "d      4.1        3.5\n"
     ]
    }
   ],
   "source": [
    "pop_2 = {'beijing':{'b':3.6, 'a':3.2, 'd':4.1, 'c':3.7},\n",
    "      'guanghzou':{'b':2.7, 'a':2.4, 'c':2.9, 'd':3.5}}\n",
    "frameDictInDict_2 = DataFrame(pop_2)\n",
    "\n",
    "\n",
    "print(frameDictInDict_2)"
   ]
  },
  {
   "cell_type": "markdown",
   "metadata": {},
   "source": [
    "- 按照新排序的索引进行排序。"
   ]
  },
  {
   "cell_type": "code",
   "execution_count": 21,
   "metadata": {},
   "outputs": [
    {
     "name": "stdout",
     "output_type": "stream",
     "text": [
      "   beijing  guanghzou\n",
      "d      4.1        3.5\n",
      "c      3.7        2.9\n",
      "b      3.6        2.7\n",
      "a      3.2        2.4\n"
     ]
    }
   ],
   "source": [
    "print(frameDictInDict_2.reindex(['d', 'c', 'b', 'a']))"
   ]
  },
  {
   "cell_type": "markdown",
   "metadata": {},
   "source": [
    "### - 产生空值的处理方法\n",
    "\n",
    "为什么要处理“空值”呢？因为这些数据是无法进行计算的，会对程序的运行产生影响。\n",
    "\n",
    "就像数学里面，0 是不能作为被除数的道理是一样的。\n",
    "\n",
    "#### -- 产生空值"
   ]
  },
  {
   "cell_type": "code",
   "execution_count": 22,
   "metadata": {},
   "outputs": [
    {
     "name": "stdout",
     "output_type": "stream",
     "text": [
      "   beijing  guanghzou\n",
      "e      NaN        NaN\n",
      "d      4.1        3.5\n",
      "c      3.7        2.9\n",
      "b      3.6        2.7\n",
      "a      3.2        2.4\n"
     ]
    }
   ],
   "source": [
    "frameDictInDict_3 = frameDictInDict_2.reindex(['e', 'd', 'c', 'b', 'a'])\n",
    "\n",
    "print(frameDictInDict_3)"
   ]
  },
  {
   "cell_type": "markdown",
   "metadata": {},
   "source": [
    "【解释】：  \n",
    "之前的数据是没有“e”这一个 index 标签的，因此，重新排列的 DataFrame 里面是没有数据进行处理的，所以产生了空值。"
   ]
  },
  {
   "cell_type": "markdown",
   "metadata": {},
   "source": [
    "#### -- 处理方法1：填充数字0\n",
    "\n",
    "reindex 的参数是：```fill_value```。如下："
   ]
  },
  {
   "cell_type": "code",
   "execution_count": 23,
   "metadata": {},
   "outputs": [
    {
     "name": "stdout",
     "output_type": "stream",
     "text": [
      "   beijing  guanghzou\n",
      "e  10086.0    10086.0\n",
      "d      4.1        3.5\n",
      "c      3.7        2.9\n",
      "b      3.6        2.7\n",
      "a      3.2        2.4\n"
     ]
    }
   ],
   "source": [
    "frameDictInDict_3 = frameDictInDict_2.reindex(['e', 'd', 'c', 'b', 'a'], fill_value=10086)\n",
    "\n",
    "print(frameDictInDict_3)"
   ]
  },
  {
   "cell_type": "markdown",
   "metadata": {},
   "source": [
    "【解释】：  \n",
    "因为参数 ```fill_value``` 的数值设定成了“10086”，所以对于遇到的空值“NaN”会进行“10086”的赋值操作。"
   ]
  },
  {
   "cell_type": "markdown",
   "metadata": {},
   "source": [
    "#### -- 处理方法2：填充前面/后面相同的数值\n",
    "\n",
    "- 产生有空值的数据\n",
    "\n",
    "同样的，先产生一个带有空值的数据，然后进行处理。如下："
   ]
  },
  {
   "cell_type": "code",
   "execution_count": 28,
   "metadata": {},
   "outputs": [
    {
     "name": "stdout",
     "output_type": "stream",
     "text": [
      "        cat     pig\n",
      "0    orange   white\n",
      "2     black     red\n",
      "4  cowwhite   black\n",
      "6    yellow  whibla\n"
     ]
    }
   ],
   "source": [
    "animal = {'pig':{0:'white', 2:'red', 4:'black', 6:'whibla'},\n",
    "      'cat':{0:'orange', 2:'black', 4:'cowwhite', 6:'yellow'}}\n",
    "animalDataFrame = DataFrame(animal)\n",
    "\n",
    "print(animalDataFrame)"
   ]
  },
  {
   "cell_type": "code",
   "execution_count": 33,
   "metadata": {},
   "outputs": [
    {
     "name": "stdout",
     "output_type": "stream",
     "text": [
      "        cat     pig\n",
      "0    orange   white\n",
      "1       NaN     NaN\n",
      "2     black     red\n",
      "3       NaN     NaN\n",
      "4  cowwhite   black\n",
      "5       NaN     NaN\n",
      "6    yellow  whibla\n",
      "7       NaN     NaN\n"
     ]
    }
   ],
   "source": [
    "reindex_animalDataFrame = animalDataFrame.reindex(range(8))\n",
    "\n",
    "print(reindex_animalDataFrame)"
   ]
  },
  {
   "cell_type": "markdown",
   "metadata": {},
   "source": [
    "- 使用前面的数据对空值部分进行填充\n",
    "\n",
    "```ffill``` 应该就是 front fill 的简化书写。"
   ]
  },
  {
   "cell_type": "code",
   "execution_count": 34,
   "metadata": {},
   "outputs": [
    {
     "name": "stdout",
     "output_type": "stream",
     "text": [
      "        cat     pig\n",
      "0    orange   white\n",
      "1    orange   white\n",
      "2     black     red\n",
      "3     black     red\n",
      "4  cowwhite   black\n",
      "5  cowwhite   black\n",
      "6    yellow  whibla\n",
      "7    yellow  whibla\n"
     ]
    }
   ],
   "source": [
    "reindexFfill_animalDataFrame = animalDataFrame.reindex(range(8), method='ffill')\n",
    "\n",
    "print(reindexFfill_animalDataFrame)"
   ]
  },
  {
   "cell_type": "markdown",
   "metadata": {},
   "source": [
    "- 使用后面的数据对空值部分进行填充\n",
    "\n",
    "```bfill``` 应该就是 back fill 的简化书写。"
   ]
  },
  {
   "cell_type": "code",
   "execution_count": 35,
   "metadata": {},
   "outputs": [
    {
     "name": "stdout",
     "output_type": "stream",
     "text": [
      "        cat     pig\n",
      "0    orange   white\n",
      "1     black     red\n",
      "2     black     red\n",
      "3  cowwhite   black\n",
      "4  cowwhite   black\n",
      "5    yellow  whibla\n",
      "6    yellow  whibla\n",
      "7       NaN     NaN\n"
     ]
    }
   ],
   "source": [
    "reindexBfill_animalDataFrame = animalDataFrame.reindex(range(8), method='bfill')\n",
    "\n",
    "print(reindexBfill_animalDataFrame)"
   ]
  },
  {
   "cell_type": "markdown",
   "metadata": {},
   "source": [
    "#### -- 处理方法3：删除\n",
    "\n",
    "【对于 Series 数据】\n",
    "\n",
    "方法就是 ```.dropna()```"
   ]
  },
  {
   "cell_type": "code",
   "execution_count": 36,
   "metadata": {},
   "outputs": [
    {
     "name": "stdout",
     "output_type": "stream",
     "text": [
      "0      251\n",
      "1      NaN\n",
      "2      234\n",
      "3    china\n",
      "dtype: object\n"
     ]
    }
   ],
   "source": [
    "# 制造一个带有空值的数据\n",
    "# numpy 里面有下面的方法可以使用\n",
    "from numpy import nan as NA\n",
    "\n",
    "dataWithNan = Series([251, NA, 234, 'china'])\n",
    "\n",
    "print(dataWithNan)"
   ]
  },
  {
   "cell_type": "code",
   "execution_count": 37,
   "metadata": {},
   "outputs": [
    {
     "name": "stdout",
     "output_type": "stream",
     "text": [
      "0      251\n",
      "2      234\n",
      "3    china\n",
      "dtype: object\n"
     ]
    }
   ],
   "source": [
    "dataWithoutNan = dataWithNan.dropna()\n",
    "\n",
    "print(dataWithoutNan)"
   ]
  },
  {
   "cell_type": "markdown",
   "metadata": {},
   "source": [
    "【对于 DataFrame 数据】\n",
    "\n",
    "相比较于 Series 数据，DataFrame 数据的删除操作就复杂一点。原因如下：\n",
    "\n",
    "- 是一个多维数据\n",
    "- 不一定是一行/一列都是空值\n",
    "- 到底是出现空值就全部删除\n",
    "- 还是全行/全列都是空值才删除。\n",
    "\n",
    "如下："
   ]
  },
  {
   "cell_type": "code",
   "execution_count": 51,
   "metadata": {},
   "outputs": [
    {
     "name": "stdout",
     "output_type": "stream",
     "text": [
      "       0     1   2     3\n",
      "0    3.2   NaN NaN  43.0\n",
      "1  732.0 -51.0 NaN  25.0\n",
      "2    NaN   NaN NaN   NaN\n",
      "       0     1     2     3\n",
      "0    3.2   NaN   NaN  43.0\n",
      "1  732.0 -51.0  42.0  25.0\n",
      "2    NaN   NaN   NaN   NaN\n"
     ]
    }
   ],
   "source": [
    "dataWithNan_2 = DataFrame([[3.2, NA, NA, 43], [732, -51, NA, 25], [NA, NA, NA, NA]])\n",
    "dataWithNan_3 = DataFrame([[3.2, NA, NA, 43], [732, -51, 42, 25], [NA, NA, NA, NA]])\n",
    "# ATTENTION: 上面是[ ]里面是三个[ ]\n",
    "print(dataWithNan_2)\n",
    "print(dataWithNan_3)"
   ]
  },
  {
   "cell_type": "markdown",
   "metadata": {},
   "source": [
    "##### --- 只要出现就删除行"
   ]
  },
  {
   "cell_type": "code",
   "execution_count": 44,
   "metadata": {},
   "outputs": [
    {
     "name": "stdout",
     "output_type": "stream",
     "text": [
      "Empty DataFrame\n",
      "Columns: [0, 1, 2, 3]\n",
      "Index: []\n",
      "       0     1     2     3\n",
      "1  732.0 -51.0  42.0  25.0\n"
     ]
    }
   ],
   "source": [
    "dataWithoutNan_2 = dataWithNan_2.dropna()\n",
    "dataWithoutNan_3 = dataWithNan_3.dropna()\n",
    "print(dataWithoutNan_2)\n",
    "print(dataWithoutNan_3)"
   ]
  },
  {
   "cell_type": "markdown",
   "metadata": {},
   "source": [
    "【解释】：  \n",
    "```.dropna()```的方法是“只要有 NaN 数据，那么就删除掉这一行”。\n",
    "\n",
    "##### --- 全行是 NaN 才删除行\n"
   ]
  },
  {
   "cell_type": "code",
   "execution_count": 45,
   "metadata": {},
   "outputs": [
    {
     "name": "stdout",
     "output_type": "stream",
     "text": [
      "       0     1   2     3\n",
      "0    3.2   NaN NaN  43.0\n",
      "1  732.0 -51.0 NaN  25.0\n",
      "       0     1     2     3\n",
      "0    3.2   NaN   NaN  43.0\n",
      "1  732.0 -51.0  42.0  25.0\n"
     ]
    }
   ],
   "source": [
    "dataWithoutNan_2_all = dataWithNan_2.dropna(how='all')\n",
    "dataWithoutNan_3_all = dataWithNan_3.dropna(how='all')\n",
    "print(dataWithoutNan_2_all)\n",
    "print(dataWithoutNan_3_all)"
   ]
  },
  {
   "cell_type": "markdown",
   "metadata": {},
   "source": [
    "【解释】：  \n",
    "只有 index 是2的一行才全是 NaN，所以只有这一行被删除。"
   ]
  },
  {
   "cell_type": "markdown",
   "metadata": {},
   "source": [
    "##### --- 增加一列空值\n",
    "\n",
    "*（这个没有细细弄明白，下面的方法是增加列，那增加行呢？再说吧）*"
   ]
  },
  {
   "cell_type": "code",
   "execution_count": 55,
   "metadata": {},
   "outputs": [
    {
     "name": "stdout",
     "output_type": "stream",
     "text": [
      "       0     1     2     3   4\n",
      "0    3.2   NaN   NaN  43.0 NaN\n",
      "1  732.0 -51.0  42.0  25.0 NaN\n",
      "2    NaN   NaN   NaN   NaN NaN\n",
      "       0     1   2     3\n",
      "0    3.2   NaN NaN  43.0\n",
      "1  732.0 -51.0 NaN  25.0\n",
      "2    NaN   NaN NaN   NaN\n"
     ]
    }
   ],
   "source": [
    "dataWithNan_3[4] = NA\n",
    "\n",
    "print(dataWithNan_3)\n",
    "print(dataWithNan_2)"
   ]
  },
  {
   "cell_type": "markdown",
   "metadata": {},
   "source": [
    "##### --- 全列都是 NaN 才删除\n",
    "\n",
    "增加一个参数 ```axis=1``` 即可。"
   ]
  },
  {
   "cell_type": "code",
   "execution_count": 57,
   "metadata": {},
   "outputs": [
    {
     "name": "stdout",
     "output_type": "stream",
     "text": [
      "       0     1     2     3\n",
      "0    3.2   NaN   NaN  43.0\n",
      "1  732.0 -51.0  42.0  25.0\n",
      "2    NaN   NaN   NaN   NaN\n",
      "       0     1     3\n",
      "0    3.2   NaN  43.0\n",
      "1  732.0 -51.0  25.0\n",
      "2    NaN   NaN   NaN\n"
     ]
    }
   ],
   "source": [
    "dataWithoutNan_3_allAxis = dataWithNan_3.dropna(axis=1, how=\"all\")\n",
    "\n",
    "print(dataWithoutNan_3_allAxis)\n",
    "print(dataWithNan_2.dropna(axis=1, how='all'))"
   ]
  },
  {
   "cell_type": "markdown",
   "metadata": {},
   "source": [
    "##### --- 用 0 填充 NaN\n",
    "\n",
    "方法是 ```fillna(需要填充的内容，可以是公式/函数)```，如下："
   ]
  },
  {
   "cell_type": "code",
   "execution_count": 59,
   "metadata": {},
   "outputs": [
    {
     "name": "stdout",
     "output_type": "stream",
     "text": [
      "       0     1     2     3\n",
      "0    3.2   0.0   0.0  43.0\n",
      "1  732.0 -51.0  42.0  25.0\n",
      "2    0.0   0.0   0.0   0.0\n"
     ]
    }
   ],
   "source": [
    "# 将上面两个 DataFrame 数据的第一个进行处理\n",
    "dataNanToZero_3 = dataWithoutNan_3_allAxis.fillna(0)\n",
    "\n",
    "print(dataNanToZero_3)"
   ]
  },
  {
   "cell_type": "markdown",
   "metadata": {},
   "source": [
    "【注意】：  \n",
    "```fillna()``` 修改是是副本，不是原来的数据，可看下面的输出："
   ]
  },
  {
   "cell_type": "code",
   "execution_count": 60,
   "metadata": {},
   "outputs": [
    {
     "name": "stdout",
     "output_type": "stream",
     "text": [
      "       0     1     2     3\n",
      "0    3.2   NaN   NaN  43.0\n",
      "1  732.0 -51.0  42.0  25.0\n",
      "2    NaN   NaN   NaN   NaN\n"
     ]
    }
   ],
   "source": [
    "print(dataWithoutNan_3_allAxis)"
   ]
  },
  {
   "cell_type": "markdown",
   "metadata": {},
   "source": [
    "如果要修改原来的 DataFrame 里面的数据，要增加一个参数：```inplace=True```，如下："
   ]
  },
  {
   "cell_type": "code",
   "execution_count": 62,
   "metadata": {},
   "outputs": [
    {
     "name": "stdout",
     "output_type": "stream",
     "text": [
      "       0     1     2     3\n",
      "0    3.2   0.0   0.0  43.0\n",
      "1  732.0 -51.0  42.0  25.0\n",
      "2    0.0   0.0   0.0   0.0\n"
     ]
    },
    {
     "name": "stderr",
     "output_type": "stream",
     "text": [
      "C:\\Users\\yeray\\Anaconda2\\envs\\tensorflow\\lib\\site-packages\\pandas\\core\\frame.py:3035: SettingWithCopyWarning: \n",
      "A value is trying to be set on a copy of a slice from a DataFrame\n",
      "\n",
      "See the caveats in the documentation: http://pandas.pydata.org/pandas-docs/stable/indexing.html#indexing-view-versus-copy\n",
      "  downcast=downcast, **kwargs)\n"
     ]
    }
   ],
   "source": [
    "dataWithoutNan_3_allAxis.fillna(0, inplace=True)\n",
    "\n",
    "print(dataWithoutNan_3_allAxis)"
   ]
  },
  {
   "cell_type": "markdown",
   "metadata": {},
   "source": [
    "## 补充\n",
    "\n",
    "### - 哈希 hash 运算\n",
    "\n",
    "比如，字母“a”经过 hash 运算（运算的算法都是一样么？不清楚，先不管他了。好像是可以建立不同的算法方式），会变成唯一特定的一串字符，假如就变成了“adad78ad8f7a908df”（瞎编的）。\n",
    "\n",
    "不同的电脑，只要 hash 算法相同，结果都一样。\n",
    "\n",
    "所以，dict 数据的 key 因为是 hash 运算、存储在内存里；得到相同的数据，就自然会覆盖原来的数据。\n",
    "\n",
    "例子：\n",
    "\n",
    "一个 dict 数据：\n",
    "\n",
    "```\n",
    "{'a':1, 'b':22, 'c':333}\n",
    "```\n",
    "\n",
    "在电脑里，key 值的“a”、“b”、“c”会被映射成为 hash 字符，假如是下面的映射情况。\n",
    "\n",
    "```\n",
    "a  ->  ad8kjqwe\n",
    "b  ->  aadf8j2d\n",
    "c  ->  8ahdfqfn\n",
    "```\n",
    "\n",
    "（为什么是使用映射的方式进行存储，我想不出来。）\n",
    "\n",
    "如果加入了其他 key 值，会得到不同的 hash 值，会被增加；而举例，有加入了“c：44444”，那么会映射成“8ahdfqfn”，数据“333”会被覆盖成“4444”"
   ]
  },
  {
   "cell_type": "markdown",
   "metadata": {},
   "source": [
    "---\n",
    "注：  \n",
    "个人微信公众号：codeAndWrite"
   ]
  }
 ],
 "metadata": {
  "kernelspec": {
   "display_name": "Python 3",
   "language": "python",
   "name": "python3"
  },
  "language_info": {
   "codemirror_mode": {
    "name": "ipython",
    "version": 3
   },
   "file_extension": ".py",
   "mimetype": "text/x-python",
   "name": "python",
   "nbconvert_exporter": "python",
   "pygments_lexer": "ipython3",
   "version": "3.5.5"
  }
 },
 "nbformat": 4,
 "nbformat_minor": 2
}
