{
 "cells": [
  {
   "cell_type": "markdown",
   "metadata": {},
   "source": [
    "# 49. 【Python学习分享文章】\\_webCrawler_beutifulSoup\n",
    "\n",
    "## 综述  \n",
    "\n",
    "一个第三方库，不需要使用麻烦的正则方法，就可以进行网页 HTML 内容的操作。\n",
    "\n",
    "【注意】  \n",
    "终端的安装包名字和软件名字是不一样的，终端的安装名字是 bs4，如下：\n",
    "```\n",
    "pip install bs4\n",
    "```\n",
    "\n",
    "【建议】  \n",
    "一个比较好用的依赖的第三方库 ```lxml``` 也可以进行安装，如下：\n",
    "```\n",
    "pip install lxml\n",
    "```\n",
    "\n",
    "## 目录\n",
    "\n",
    "### - 格式整理\n",
    "### - 常用方法\n",
    "### - 例子：抓取 infoQ 新闻站的新闻\n",
    "### - 总结"
   ]
  },
  {
   "cell_type": "markdown",
   "metadata": {},
   "source": [
    "## 格式整理\n",
    "\n",
    "### - 问题背景\n",
    "\n",
    "编程查看的源代码，如果不进行整理，格式比较混乱，为了输出标准的 HTML 格式，所以可以使用 ```lxml``` 这个第三方库。\n",
    "\n",
    "### - 未整理的 HTML 源代码\n",
    "\n",
    "例子如下：\n",
    "```\n",
    "<html><head><title>The Dormouse's story</title></head>\n",
    "<body>\n",
    "<p class=\"title\"><b>The dormouse's story</b></p>\n",
    "\n",
    "<p class=\"story\">Once upon a time there wereadfjaldkfjadkfaskddjf,whatever is all OK\n",
    "<a href=\"http://example.com/elsie\" class=\"sister\" id=\"linkSister1\">Elsie</a>,\n",
    "<a href=\"http://example.com/john\" class=\"sister\" id=\"linkSister2\">John</a> and \n",
    "<a href=\"http://example.com/amily\" class=\"sister\" id=\"linkSister3\">Amily</a>;\n",
    "\n",
    "<p class=\"story:>...</p>\n",
    "```\n",
    "\n",
    "这个不是标准的 HTML 语言格式，会比较难寻找到对应标签、结构，所以需要使用 lxml 进行整理。\n",
    "\n",
    "### - 整理得到标准 HTML 格式\n",
    "\n",
    "code 如下："
   ]
  },
  {
   "cell_type": "code",
   "execution_count": 1,
   "metadata": {},
   "outputs": [
    {
     "name": "stdout",
     "output_type": "stream",
     "text": [
      "<html>\n",
      " <head>\n",
      "  <title>\n",
      "   The Dormouse's story\n",
      "  </title>\n",
      " </head>\n",
      " <body>\n",
      "  <p class=\"title\">\n",
      "   <b>\n",
      "    The dormouse's story\n",
      "   </b>\n",
      "  </p>\n",
      "  <p class=\"story\">\n",
      "   Once upon a time there wereadfjaldkfjadkfaskddjf,whatever is all OK\n",
      "   <a class=\"sister\" href=\"http://example.com/elsie\" id=\"linkSister1\">\n",
      "    Elsie\n",
      "   </a>\n",
      "   ,\n",
      "   <a class=\"sister\" href=\"http://example.com/john\" id=\"linkSister2\">\n",
      "    John\n",
      "   </a>\n",
      "   and\n",
      "   <a class=\"sister\" href=\"http://example.com/amily\" id=\"linkSister3\">\n",
      "    Amily\n",
      "   </a>\n",
      "   ;\n",
      "  </p>\n",
      "  <p class=\"story:&gt;...&lt;/p&gt; \">\n",
      "  </p>\n",
      " </body>\n",
      "</html>\n"
     ]
    }
   ],
   "source": [
    "# 认为建立一个例子\n",
    "html_doc = \"\"\"\n",
    "<html><head><title>The Dormouse's story</title></head>\n",
    "<body>\n",
    "<p class=\"title\"><b>The dormouse's story</b></p>\n",
    "\n",
    "<p class=\"story\">Once upon a time there wereadfjaldkfjadkfaskddjf,whatever is all OK\n",
    "<a href=\"http://example.com/elsie\" class=\"sister\" id=\"linkSister1\">Elsie</a>,\n",
    "<a href=\"http://example.com/john\" class=\"sister\" id=\"linkSister2\">John</a> and \n",
    "<a href=\"http://example.com/amily\" class=\"sister\" id=\"linkSister3\">Amily</a>;\n",
    "\n",
    "<p class=\"story:>...</p>\n",
    "\"\"\"\n",
    "\n",
    "from bs4 import BeautifulSoup\n",
    "\n",
    "# 使用 BeautifulSoup 进行处理\n",
    "soup = BeautifulSoup(html_doc, 'lxml')  # 第一个参数：导入；第二个参数：按照什么格式解析 HTML 代码。\n",
    "print(soup.prettify())  # 进行整理格式进行输出。"
   ]
  },
  {
   "cell_type": "markdown",
   "metadata": {},
   "source": [
    "【结果分析】  \n",
    "整理后的排版就是标准的 HTML 格式，可以通过缩进很方便找到对应的区块。"
   ]
  },
  {
   "cell_type": "markdown",
   "metadata": {},
   "source": [
    "## 常用方法\n",
    "\n",
    "1. title  \n",
    "找到 title 的标签。\n",
    "2. 获取 p 标签\n",
    "3. 获取 a 标签\n",
    "4. 找到特定名称的链接标签\n",
    "5. 找到文档中所有文本的内容\n",
    "\n",
    "### - 1. title\n",
    "\n",
    "- 常规操作\n",
    "\n",
    "如下："
   ]
  },
  {
   "cell_type": "code",
   "execution_count": 2,
   "metadata": {},
   "outputs": [
    {
     "name": "stdout",
     "output_type": "stream",
     "text": [
      "<title>The Dormouse's story</title>\n"
     ]
    }
   ],
   "source": [
    "print(soup.title)"
   ]
  },
  {
   "cell_type": "markdown",
   "metadata": {},
   "source": [
    "- 去掉都为的标记符号\n",
    "\n",
    "方法如下："
   ]
  },
  {
   "cell_type": "code",
   "execution_count": 3,
   "metadata": {},
   "outputs": [
    {
     "name": "stdout",
     "output_type": "stream",
     "text": [
      "The Dormouse's story\n"
     ]
    }
   ],
   "source": [
    "print(soup.title.string)"
   ]
  },
  {
   "cell_type": "markdown",
   "metadata": {},
   "source": [
    "### - 2. 获取 p 标签\n",
    "\n",
    "- 常规操作\n",
    "\n",
    "如下："
   ]
  },
  {
   "cell_type": "code",
   "execution_count": 4,
   "metadata": {},
   "outputs": [
    {
     "name": "stdout",
     "output_type": "stream",
     "text": [
      "<p class=\"title\"><b>The dormouse's story</b></p>\n"
     ]
    }
   ],
   "source": [
    "print(soup.p)"
   ]
  },
  {
   "cell_type": "markdown",
   "metadata": {},
   "source": [
    "- 找到 class 的名字\n",
    "\n",
    "如下："
   ]
  },
  {
   "cell_type": "code",
   "execution_count": 5,
   "metadata": {},
   "outputs": [
    {
     "name": "stdout",
     "output_type": "stream",
     "text": [
      "['title']\n"
     ]
    }
   ],
   "source": [
    "print(soup.p['class'])"
   ]
  },
  {
   "cell_type": "markdown",
   "metadata": {},
   "source": [
    "### - 3. 获取 a 标签\n",
    "\n",
    "- 常规操作\n",
    "\n",
    "如下："
   ]
  },
  {
   "cell_type": "code",
   "execution_count": 6,
   "metadata": {},
   "outputs": [
    {
     "name": "stdout",
     "output_type": "stream",
     "text": [
      "<a class=\"sister\" href=\"http://example.com/elsie\" id=\"linkSister1\">Elsie</a>\n"
     ]
    }
   ],
   "source": [
    "print(soup.a)"
   ]
  },
  {
   "cell_type": "markdown",
   "metadata": {},
   "source": [
    "- 找到所有 a 标签\n",
    "\n",
    "如下："
   ]
  },
  {
   "cell_type": "code",
   "execution_count": 7,
   "metadata": {},
   "outputs": [
    {
     "name": "stdout",
     "output_type": "stream",
     "text": [
      "[<a class=\"sister\" href=\"http://example.com/elsie\" id=\"linkSister1\">Elsie</a>, <a class=\"sister\" href=\"http://example.com/john\" id=\"linkSister2\">John</a>, <a class=\"sister\" href=\"http://example.com/amily\" id=\"linkSister3\">Amily</a>]\n"
     ]
    }
   ],
   "source": [
    "print(soup.find_all('a'))"
   ]
  },
  {
   "cell_type": "markdown",
   "metadata": {},
   "source": [
    "### - 4. 找到特定名字的链接的标签\n",
    "\n",
    "- 常规操作\n",
    "\n",
    "找到 id 为 linkX 的标签，如下："
   ]
  },
  {
   "cell_type": "code",
   "execution_count": 9,
   "metadata": {},
   "outputs": [
    {
     "name": "stdout",
     "output_type": "stream",
     "text": [
      "<a class=\"sister\" href=\"http://example.com/amily\" id=\"linkSister3\">Amily</a>\n"
     ]
    }
   ],
   "source": [
    "print(soup.find(id='linkSister3'))"
   ]
  },
  {
   "cell_type": "markdown",
   "metadata": {},
   "source": [
    "- 找到所有 <a\\> 标签的链接\n",
    "\n",
    "如下："
   ]
  },
  {
   "cell_type": "code",
   "execution_count": 10,
   "metadata": {},
   "outputs": [
    {
     "name": "stdout",
     "output_type": "stream",
     "text": [
      "http://example.com/elsie\n",
      "http://example.com/john\n",
      "http://example.com/amily\n"
     ]
    }
   ],
   "source": [
    "for link in soup.find_all('a'):\n",
    "    print(link.get('href'))"
   ]
  },
  {
   "cell_type": "markdown",
   "metadata": {},
   "source": [
    "### - 5. 找到文档中所有文本的内容\n",
    "\n",
    "- 常规操作\n",
    "\n",
    "如下："
   ]
  },
  {
   "cell_type": "code",
   "execution_count": 11,
   "metadata": {},
   "outputs": [
    {
     "name": "stdout",
     "output_type": "stream",
     "text": [
      "The Dormouse's story\n",
      "\n",
      "The dormouse's story\n",
      "Once upon a time there wereadfjaldkfjadkfaskddjf,whatever is all OK\n",
      "Elsie,\n",
      "John and \n",
      "Amily;\n",
      "\n",
      "\n"
     ]
    }
   ],
   "source": [
    "print(soup.get_text())"
   ]
  },
  {
   "cell_type": "markdown",
   "metadata": {},
   "source": [
    "## 例子；抓取 infoQ 新闻站的新闻\n",
    "\n",
    "总体框架：\n",
    "- 使用requests 抓取内容\n",
    "- 使用 beautifulSoup 筛选内容\n",
    "\n",
    "### - 分析网页内容\n",
    "\n",
    "在例子网站中，在浏览器页面右键-“显示页面源文件”（Safari）/“检查”（Chrome）。查看源代码的时候不需要逐行阅读寻找，只要使用特定方式即可快速定位对应内容的代码。\n",
    "\n",
    "- Safari\n",
    "使用搜索内容即可跳转到对应部分。\n",
    "- Chrome\n",
    "在对应元素上右键-“检查”，就可以在代码区域跳转到对应部分。\n",
    "\n",
    "【问题分析】  \n",
    "除了我们想要找到的对应的主体内容之外，还有其他的，比如“logo”等等我们不需要的内容，所以我们需要进行代码的差异寻找。\n",
    "\n",
    "【方法】  \n",
    "在跳转到的对应部分向上寻找代码内容，找到一个```div``` 的标签，找到后面的```class```的名字。\n",
    "\n",
    "【结果分析】  \n",
    "所有新闻的主体是放在这个 div 的 class 是相同名字的模块里面。  \n",
    "所以找到这类的标签，下面的内容就是我们想要提取的新闻。  \n",
    "现在（2019年3月22日）的情况是，所有新闻主体的内容是放在 div 标签中，class 名字是 list-item image-position-right 的模块中。\n",
    "\n",
    "### - 搭建 code\n",
    "\n",
    "- 基础处理\n",
    "\n",
    "目的：导入库，伪装成浏览器。如下："
   ]
  },
  {
   "cell_type": "code",
   "execution_count": 3,
   "metadata": {},
   "outputs": [
    {
     "name": "stdout",
     "output_type": "stream",
     "text": [
      "<!DOCTYPE html>\n",
      "<html>\n",
      " <head>\n",
      "  <meta charset=\"utf-8\"/>\n",
      "  <meta content=\"width=device-width,initial-scale=1,maximum-scale=1,minimum-scale=1,user-scalable=no\" name=\"viewport\"/>\n",
      "  <link href=\"//static001.infoq.cn/static/infoq/favicon/favicon-32x32.png\" rel=\"icon\" sizes=\"32x32\" type=\"image/png\"/>\n",
      "  <link href=\"//static001.infoq.cn/static/infoq/favicon/favicon-16x16.png\" rel=\"icon\" sizes=\"16x16\" type=\"image/png\"/>\n",
      "  <meta content=\"InfoQ,InfoQä¸­æç«,InfoQä¸­å½,æ¶æ,äºè®¡ç®,AI,åç«¯,è¿ç»´,å¼æº,Java,.NET,.net,Ruby,SOA,ææ·,ä¼ä¸,è½¯ä»¶å¼å,å¼å,ç¼ç¨\" id=\"metakeywords\" name=\"Keywords\"/>\n",
      "  <meta content=\"InfoQ æ¯ä¸ä¸ªå®è·µé©±å¨çç¤¾åºèµè®¯ç«ç¹ï¼è´åäºä¿è¿è½¯ä»¶å¼åé¢åç¥è¯ä¸åæ°çä¼ æ­ã\" id=\"metadesc\" name=\"description\"/>\n",
      "  <meta content=\"wvSZwd5oTf\" name=\"baidu-site-verification\"/>\n",
      "  <meta content=\"IE=edge,chrome=1\" http-equiv=\"X-UA-Compatible\"/>\n",
      "  <meta content=\"telephone=no\" name=\"format-detection\"/>\n",
      "  <title>\n",
      "   InfoQ - ä¿è¿è½¯ä»¶å¼åé¢åç¥è¯ä¸åæ°çä¼ æ­\n",
      "  </title>\n",
      "  <script src=\"//res.wx.qq.com/open/js/jweixin-1.4.0.js\" type=\"text/javascript\">\n",
      "  </script>\n",
      "  <script src=\"//at.alicdn.com/t/font_823612_zsnew3s9tk.js\">\n",
      "  </script>\n",
      "  <link href=\"//cdn.mathjax.org\" rel=\"dns-prefetch\"/>\n",
      "  <script type=\"text/x-mathjax-config\">\n",
      "   MathJax.Hub.Config({\n",
      "      showProcessingMessages: false,\n",
      "      messageStyle: \"none\",\n",
      "      tex2jax: {\n",
      "        inlineMath: [['$','$'], ['\\\\(','\\\\)']],\n",
      "        displayMath: [ [\"$$\",\"$$\"] ],\n",
      "        skipTags: ['script', 'noscript', 'style', 'textarea', 'pre', 'code', 'a']\n",
      "      }\n",
      "    });\n",
      "    MathJax.Hub.Register.MessageHook(\"End Process\", function (message) {\n",
      "      var eve = new Event('mathjaxfini')\n",
      "      window.dispatchEvent(eve)\n",
      "    })\n",
      "  </script>\n",
      "  <script type=\"text/javascript\">\n",
      "   if (!('flex' in document.documentElement.style) && !navigator.userAgent.match(/spider|googlebot|bingbot|geekbang|yahoo! Slurp/i)) {\n",
      "      window.location.href = 'https://static001.geekbang.org/static/common/browser_update/index.html'\n",
      "    }\n",
      "  </script>\n",
      "  <script>\n",
      "   (function(){\n",
      "        var bp = document.createElement('script');\n",
      "        var curProtocol = window.location.protocol.split(':')[0];\n",
      "        if (curProtocol === 'https'){\n",
      "       bp.src = 'https://zz.bdstatic.com/linksubmit/push.js';\n",
      "      }\n",
      "      else{\n",
      "      bp.src = 'http://push.zhanzhang.baidu.com/push.js';\n",
      "      }\n",
      "        var s = document.getElementsByTagName(\"script\")[0];\n",
      "        s.parentNode.insertBefore(bp, s);\n",
      "    })();\n",
      "  </script>\n",
      "  <link href=\"https://static001.geekbang.org/static/infoq/www/css/app.96eeefbb1f77c450b1b6085f20d44fe6.css\" rel=\"stylesheet\"/>\n",
      " </head>\n",
      " <body>\n",
      "  <div id=\"app\">\n",
      "  </div>\n",
      "  <script>\n",
      "   (function (i, s, o, g, r, a, m) {\n",
      "      i['GoogleAnalyticsObject'] = r; i[r] = i[r] || function () {\n",
      "        (i[r].q = i[r].q || []).push(arguments)\n",
      "      }, i[r].l = 1 * new Date(); a = s.createElement(o),\n",
      "        m = s.getElementsByTagName(o)[0]; a.async = 1; a.src = g; m.parentNode.insertBefore(a, m)\n",
      "      })(window, document, 'script', 'https://www.google-analytics.com/analytics.js', 'ga');\n",
      "      ga('create', 'UA-103082599-11', 'auto');\n",
      "      ga('send', 'pageview');\n",
      "  </script>\n",
      "  <script>\n",
      "   // window.dataLayer = window.dataLayer || [];\n",
      "    // function gtag() { dataLayer.push(arguments); }\n",
      "    // gtag('js', new Date());\n",
      "\n",
      "    // gtag('config', 'UA-103082599-11');\n",
      "\n",
      "    var _hmt = _hmt || [];\n",
      "    (function() {\n",
      "      var hm = document.createElement(\"script\");\n",
      "      hm.src = \"https://hm.baidu.com/hm.js?094d2af1d9a57fd9249b3fa259428445\";\n",
      "      var s = document.getElementsByTagName(\"script\")[0]; \n",
      "      s.parentNode.insertBefore(hm, s);\n",
      "    })();\n",
      "  </script>\n",
      "  <script src=\"https://static001.geekbang.org/static/infoq/www/js/manifest.ed53a0f8bcd91f15efd5.js\" type=\"text/javascript\">\n",
      "  </script>\n",
      "  <script src=\"https://static001.geekbang.org/static/infoq/www/js/vendor.4b47c3c2bd0c96ecce5c.js\" type=\"text/javascript\">\n",
      "  </script>\n",
      "  <script src=\"https://static001.geekbang.org/static/infoq/www/js/app.e756556a6ec0ac640337.js\" type=\"text/javascript\">\n",
      "  </script>\n",
      " </body>\n",
      "</html>\n"
     ]
    }
   ],
   "source": [
    "from bs4 import BeautifulSoup\n",
    "import requests\n",
    "\n",
    "header_i = {\n",
    "    \"Accept\": \"text/html,application/xhtml+xml,application/xml;q=0.9,image/webp,image/apng,*/*;q=0.8,application/signed-exchange;v=b3\",\n",
    "    \"Accept-Encoding\": \"gzip, deflate, br\",\n",
    "    \"Accept-Language\": \"zh-CN,zh;q=0.9,en;q=0.8\",\n",
    "    \"Cache-Control\": \"no-cache\",\n",
    "    \"Connection\": \"keep-alive\",\n",
    "    \"Cookie\": \"_ga=GA1.2.236308595.1542204557; _itt=1; GCID=7d9c08f-e052716-92486ca-1ef06ad-cd; GCESS=BAQEAC8NAAMEbUWUXAIEbUWUXAEEmV4PAAoEAAAAAAYE1hDl2gcEjYGeiwkBAQgBAwsCBAAMAQEFBAAAAAA-; Hm_lvt_094d2af1d9a57fd9249b3fa259428445=1553224053; Hm_lpvt_094d2af1d9a57fd9249b3fa259428445=1553227368; SERVERID=1fa1f330efedec1559b3abbcb6e30f50|1553227540|1553224054\",\n",
    "    \"DNT\": \"1\",\n",
    "    \"Host\": \"www.infoq.cn\",\n",
    "    \"Pragma\": \"no-cache\",\n",
    "    \"Upgrade-Insecure-Requests\": \"1\",\n",
    "    \"User-Agent\": \"Mozilla/5.0 (Windows NT 10.0; Win64; x64) AppleWebKit/537.36 (KHTML, like Gecko) Chrome/73.0.3683.86 Safari/537.36\",\n",
    "}\n",
    "\n",
    "url = 'https://www.infoq.cn'\n",
    "\n",
    "# 将获取新闻标题功能的部分做成一个函数\n",
    "# def craw2(url):\n",
    "#     response = requests.get(url, headers=header_i)\n",
    "    \n",
    "#     soup = BeautifulSoup(response.text, 'lxml')\n",
    "    \n",
    "#     for title_href in soup.find_all('div', class_='info'):\n",
    "#         print([title.a.string\n",
    "#               for title in title_href.find_all('a')])\n",
    "        \n",
    "# craw2(url)\n",
    "\n",
    "response = requests.get(url, headers=header_i)\n",
    "\n",
    "soup = BeautifulSoup(response.text, 'lxml')\n",
    "\n",
    "print(soup.prettify())\n",
    "\n",
    "# for title_href in soup.find_all('div', class_='info'):\n",
    "#     print(\"find\" for title in title_href.find_all('a') if title_href.class_='com-article-title')"
   ]
  },
  {
   "cell_type": "code",
   "execution_count": 5,
   "metadata": {},
   "outputs": [
    {
     "name": "stdout",
     "output_type": "stream",
     "text": [
      "<!DOCTYPE html>\n",
      "<html>\n",
      " <head>\n",
      "  <meta charset=\"utf-8\"/>\n",
      "  <meta content=\"width=device-width,initial-scale=1,maximum-scale=1,minimum-scale=1,user-scalable=no\" name=\"viewport\"/>\n",
      "  <link href=\"//static001.infoq.cn/static/infoq/favicon/favicon-32x32.png\" rel=\"icon\" sizes=\"32x32\" type=\"image/png\"/>\n",
      "  <link href=\"//static001.infoq.cn/static/infoq/favicon/favicon-16x16.png\" rel=\"icon\" sizes=\"16x16\" type=\"image/png\"/>\n",
      "  <meta content=\"InfoQ,InfoQ中文站,InfoQ中国,架构,云计算,AI,前端,运维,开源,Java,.NET,.net,Ruby,SOA,敏捷,企业,软件开发,开发,编程\" id=\"metakeywords\" name=\"Keywords\"/>\n",
      "  <meta content=\"InfoQ 是一个实践驱动的社区资讯站点，致力于促进软件开发领域知识与创新的传播。\" id=\"metadesc\" name=\"description\"/>\n",
      "  <meta content=\"wvSZwd5oTf\" name=\"baidu-site-verification\"/>\n",
      "  <meta content=\"IE=edge,chrome=1\" http-equiv=\"X-UA-Compatible\"/>\n",
      "  <meta content=\"telephone=no\" name=\"format-detection\"/>\n",
      "  <title>\n",
      "   InfoQ - 促进软件开发领域知识与创新的传播\n",
      "  </title>\n",
      "  <script src=\"//res.wx.qq.com/open/js/jweixin-1.4.0.js\" type=\"text/javascript\">\n",
      "  </script>\n",
      "  <script src=\"//at.alicdn.com/t/font_823612_zsnew3s9tk.js\">\n",
      "  </script>\n",
      "  <link href=\"//cdn.mathjax.org\" rel=\"dns-prefetch\"/>\n",
      "  <script type=\"text/x-mathjax-config\">\n",
      "   MathJax.Hub.Config({\n",
      "      showProcessingMessages: false,\n",
      "      messageStyle: \"none\",\n",
      "      tex2jax: {\n",
      "        inlineMath: [['$','$'], ['\\\\(','\\\\)']],\n",
      "        displayMath: [ [\"$$\",\"$$\"] ],\n",
      "        skipTags: ['script', 'noscript', 'style', 'textarea', 'pre', 'code', 'a']\n",
      "      }\n",
      "    });\n",
      "    MathJax.Hub.Register.MessageHook(\"End Process\", function (message) {\n",
      "      var eve = new Event('mathjaxfini')\n",
      "      window.dispatchEvent(eve)\n",
      "    })\n",
      "  </script>\n",
      "  <script type=\"text/javascript\">\n",
      "   if (!('flex' in document.documentElement.style) && !navigator.userAgent.match(/spider|googlebot|bingbot|geekbang|yahoo! Slurp/i)) {\n",
      "      window.location.href = 'https://static001.geekbang.org/static/common/browser_update/index.html'\n",
      "    }\n",
      "  </script>\n",
      "  <script>\n",
      "   (function(){\n",
      "        var bp = document.createElement('script');\n",
      "        var curProtocol = window.location.protocol.split(':')[0];\n",
      "        if (curProtocol === 'https'){\n",
      "       bp.src = 'https://zz.bdstatic.com/linksubmit/push.js';\n",
      "      }\n",
      "      else{\n",
      "      bp.src = 'http://push.zhanzhang.baidu.com/push.js';\n",
      "      }\n",
      "        var s = document.getElementsByTagName(\"script\")[0];\n",
      "        s.parentNode.insertBefore(bp, s);\n",
      "    })();\n",
      "  </script>\n",
      "  <link href=\"https://static001.geekbang.org/static/infoq/www/css/app.96eeefbb1f77c450b1b6085f20d44fe6.css\" rel=\"stylesheet\"/>\n",
      " </head>\n",
      " <body>\n",
      "  <div id=\"app\">\n",
      "  </div>\n",
      "  <script>\n",
      "   (function (i, s, o, g, r, a, m) {\n",
      "      i['GoogleAnalyticsObject'] = r; i[r] = i[r] || function () {\n",
      "        (i[r].q = i[r].q || []).push(arguments)\n",
      "      }, i[r].l = 1 * new Date(); a = s.createElement(o),\n",
      "        m = s.getElementsByTagName(o)[0]; a.async = 1; a.src = g; m.parentNode.insertBefore(a, m)\n",
      "      })(window, document, 'script', 'https://www.google-analytics.com/analytics.js', 'ga');\n",
      "      ga('create', 'UA-103082599-11', 'auto');\n",
      "      ga('send', 'pageview');\n",
      "  </script>\n",
      "  <script>\n",
      "   // window.dataLayer = window.dataLayer || [];\n",
      "    // function gtag() { dataLayer.push(arguments); }\n",
      "    // gtag('js', new Date());\n",
      "\n",
      "    // gtag('config', 'UA-103082599-11');\n",
      "\n",
      "    var _hmt = _hmt || [];\n",
      "    (function() {\n",
      "      var hm = document.createElement(\"script\");\n",
      "      hm.src = \"https://hm.baidu.com/hm.js?094d2af1d9a57fd9249b3fa259428445\";\n",
      "      var s = document.getElementsByTagName(\"script\")[0]; \n",
      "      s.parentNode.insertBefore(hm, s);\n",
      "    })();\n",
      "  </script>\n",
      "  <script src=\"https://static001.geekbang.org/static/infoq/www/js/manifest.ed53a0f8bcd91f15efd5.js\" type=\"text/javascript\">\n",
      "  </script>\n",
      "  <script src=\"https://static001.geekbang.org/static/infoq/www/js/vendor.4b47c3c2bd0c96ecce5c.js\" type=\"text/javascript\">\n",
      "  </script>\n",
      "  <script src=\"https://static001.geekbang.org/static/infoq/www/js/app.e756556a6ec0ac640337.js\" type=\"text/javascript\">\n",
      "  </script>\n",
      " </body>\n",
      "</html>\n"
     ]
    }
   ],
   "source": [
    "import urllib\n",
    "\n",
    "page = urllib.urlopen(url)\n",
    "contents = page.read()\n",
    "soup = BeautifulSoup(contents, \"html.parser\")\n",
    "print(soup.prettify())"
   ]
  },
  {
   "cell_type": "markdown",
   "metadata": {},
   "source": []
  },
  {
   "cell_type": "code",
   "execution_count": null,
   "metadata": {},
   "outputs": [],
   "source": []
  },
  {
   "cell_type": "markdown",
   "metadata": {},
   "source": [
    "## 总结\n",
    "\n",
    "beautifulSoup 的使用是十分灵活的，可以根据自己需要找到指定的内容。"
   ]
  },
  {
   "cell_type": "markdown",
   "metadata": {},
   "source": [
    "---\n",
    "注：  \n",
    "个人微信公众号：codeAndWrite"
   ]
  }
 ],
 "metadata": {
  "kernelspec": {
   "display_name": "Python [conda env:root]",
   "language": "python",
   "name": "conda-root-py"
  },
  "language_info": {
   "codemirror_mode": {
    "name": "ipython",
    "version": 2
   },
   "file_extension": ".py",
   "mimetype": "text/x-python",
   "name": "python",
   "nbconvert_exporter": "python",
   "pygments_lexer": "ipython2",
   "version": "2.7.14"
  }
 },
 "nbformat": 4,
 "nbformat_minor": 2
}
